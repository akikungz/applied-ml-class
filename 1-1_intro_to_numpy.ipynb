{
 "cells": [
  {
   "cell_type": "markdown",
   "metadata": {
    "id": "zDmG--A6RZbA"
   },
   "source": [
    "#**chapter 1_1 Intro NumPy**\n",
    "\n",
    "#**Introduction to NumPy**\n",
    "\n",
    "Day 1 [22 July 2020]"
   ]
  },
  {
   "cell_type": "markdown",
   "metadata": {
    "id": "l9bQLM1UgLKb"
   },
   "source": [
    "'* *การเรียบเรียง เป็นการนำความรู้จากหลาย ๆ แหล่งข้อมูลที่มีอยู่แล้ว มาปรับใช้ ปรับการเขียน ให้เหมาะสมกับการให้ความรู้แก่นักศึกษาในการอบรมครั้งนี้ ขอขอบคุณ และขออนุญาต ทุกแหล่งความรู้ที่ได้นำมาใช้ ณ ที่นี้ด้วยค่ะ*"
   ]
  },
  {
   "cell_type": "markdown",
   "metadata": {
    "id": "oVqOEE2YTphf"
   },
   "source": [
    "# **บทนำ**\n",
    "ในหัวข้อนี้ นักศึกษาจะได้ทำความรู้จักกับ NumPy, Pandas ซึ่งเป็น Library ของการเขียนโปรแกรมด้วยภาษา Python เพื่อนำไปใช้ประโยชน์ในงานด้าน Machine Learning อีกทั้ง Library ดังกล่าวถูกใช้อย่างแพร่หลายในงานด้าน data science ด้วย\n",
    "\n"
   ]
  },
  {
   "cell_type": "markdown",
   "metadata": {
    "id": "vTvtHYTgBRqk"
   },
   "source": [
    "# การนำเข้า Dataset File"
   ]
  },
  {
   "cell_type": "markdown",
   "metadata": {
    "id": "qRrrDR8jApgN"
   },
   "source": [
    "\n",
    "เช่น ในตัวอย่าง google drive เก็บไฟล์ wine_data.csv ไว้ใน folder ชื่อ dataset\n",
    "\n",
    "จากนั้น เราจะทำการ drive mount\n",
    "\n",
    "drive mount\n",
    "เพื่อเชื่อมโยง google drive ของเรากับ coloab เพื่อให้โปรแกรมที่เราเขียน มองเห็นไฟล์ใน google drive ได้ จะได้อ้างอิงและนำข้อมูลมาใช้งาน\n",
    "\n",
    "เราใช้ from google.colab import drive ตามตัวอย่างนี้\n",
    "\n",
    "\n",
    "\n"
   ]
  },
  {
   "cell_type": "code",
   "execution_count": 1,
   "metadata": {
    "colab": {
     "base_uri": "https://localhost:8080/"
    },
    "executionInfo": {
     "elapsed": 25269,
     "status": "ok",
     "timestamp": 1720678505284,
     "user": {
      "displayName": "Wanthanee Prachuabsupakij",
      "userId": "13160947104043617262"
     },
     "user_tz": -420
    },
    "id": "KPSitl_uA8hb",
    "outputId": "4884f7da-2484-4704-bf9a-ac3c41b951a0"
   },
   "outputs": [],
   "source": [
    "# from google.colab import drive\n",
    "# drive.mount('/content/drive') #ระวังเครื่องหมาย ‘ กับ ' ต่างกันนะคะ"
   ]
  },
  {
   "cell_type": "markdown",
   "metadata": {
    "id": "YkTw1OysA856"
   },
   "source": [
    "ตอน run ด้านบนนี้ จะมีข้อความ เช่น\n",
    "\n",
    "Go to this URL in a browser: https://accounts.google.com/o/oauth2/auth?client_id=947xxxxxxxxfpeopleapi.readonly\n",
    "\n",
    "Enter your authorization code:\n",
    "\n",
    "ให้คลิกที่ link ดังกล่าว หน้าต่างของ google จะปรากฎขึ้นมาให้\n",
    "\n",
    "เพื่อให้เราอนุญาตให้ Google Drive File Stream มีการเข้าถึงบัญชี Google ของเราได้\n",
    "\n",
    "ให้ตอบตกลง\n",
    "\n",
    "จากนั้นจะปรากฎหน้าที่แสดงข้อความว่า\n",
    "\n",
    "\"\n",
    "\n",
    "ลงชื่อเข้าใช้งาน\n",
    "\n",
    "โปรดคัดลอกโค้ดนี้ไว้ สลับไปที่แอปพลิเคชันของคุณแล้ววางโค้ดลงไป:\n",
    "\n",
    "4/1wHM128b4roXxxxxxxxxxxxxxxxxxxxx\n",
    "\n",
    "\"\n",
    "\n",
    "ให้เรา copy โค้ท ของเรา เช่น 4/1wHM128b4roXxxxxxxxxxxxxxxxxxxxx**\n",
    "\n",
    "มาวางในช่อง\n",
    "\n",
    "Enter your authorization code:\n",
    "\n",
    "เมื่อ run เสร็จเรียบร้อยแล้วจะมีข้อความ\n",
    "\n",
    "Mounted at /content/drive\n",
    "\n",
    "จากนั้น ให้สังเกตที่ด้านซ้ายมือของหน้าต่าง colab มีสัญลักษณ์รูป Folder Files\n",
    "\n",
    "ให้คลิกเลือกที่สัญลักษณ์ดังกล่าว จากนั้น colab จะแสดงรายการ drive และ files ต่างๆ\n",
    "\n",
    "ให้เราเลือกเข้าไปที่ files ที่ต้องการ เมื่อเจอแล้ว ให้คลิกขวาที่ไฟล์นั้่น แล้วเลือก copy path เอาไปวางใน code ตัวอย่างด้านล่างต่อจากนี้\n",
    "\n",
    "ถ้านักศึกษา มองภาพไม่ออก ขอให้ดูตัวอย่างได้จากคลิปในยูทูปนี้ นะคะ\n",
    "\n",
    "https://www.youtube.com/watch?v=TDyfhlg23vs&feature=youtu.be\n",
    "\n",
    "ขอขอบคุณคลิปนี้ด้วยค่ะ\n",
    "\n",
    "** หากเกิดปัญหา มองไม่เห็น drive **\n",
    "\n",
    "ให้สังเกต ด้านซ้ายมือของหน้าต่าง colab มีสัญลักษณ์รูป Folder\n",
    "\n",
    "เมื่อคลิกเลือกเข้าไป จะมีสัญลักษณ์ในรูป Folder 3 แบบ แบบที่มีหัวลูกศรขึ้น (upload), แบบมีหัวลูกศรวน (refresh), และแบบมีสัญสามเหลี่ยมใน folder (munt drive)\n",
    "\n",
    "หากสัญลักษณ์รูป Folder แบบมีสามเหลี่ยมใน folder (mount drive) ไม่มีขีดทับบนสัญลักษณ์ ให้กดที่รูปนั้น เพื่อให้เกิดการ mount drive ก็จะมองเห็น folder แสดง path content > drive > My Drive > และ folder หรือ file ใน Google Drive ของตัวเราเอง ได้\n"
   ]
  },
  {
   "cell_type": "code",
   "execution_count": 2,
   "metadata": {
    "colab": {
     "base_uri": "https://localhost:8080/",
     "height": 1764
    },
    "executionInfo": {
     "elapsed": 389,
     "status": "ok",
     "timestamp": 1720679129959,
     "user": {
      "displayName": "Wanthanee Prachuabsupakij",
      "userId": "13160947104043617262"
     },
     "user_tz": -420
    },
    "id": "2xIxJPTtkvTA",
    "outputId": "724c16be-33c1-4767-bb39-262ed91085cf"
   },
   "outputs": [
    {
     "name": "stdout",
     "output_type": "stream",
     "text": [
      "Requirement already satisfied: pandas in .\\venv\\lib\\site-packages (2.2.3)\n",
      "Requirement already satisfied: numpy>=1.26.0 in .\\venv\\lib\\site-packages (from pandas) (2.1.3)\n",
      "Requirement already satisfied: python-dateutil>=2.8.2 in .\\venv\\lib\\site-packages (from pandas) (2.9.0.post0)\n",
      "Requirement already satisfied: pytz>=2020.1 in .\\venv\\lib\\site-packages (from pandas) (2024.2)\n",
      "Requirement already satisfied: tzdata>=2022.7 in .\\venv\\lib\\site-packages (from pandas) (2024.2)\n",
      "Requirement already satisfied: six>=1.5 in .\\venv\\lib\\site-packages (from python-dateutil>=2.8.2->pandas) (1.16.0)\n"
     ]
    },
    {
     "data": {
      "text/html": [
       "<div>\n",
       "<style scoped>\n",
       "    .dataframe tbody tr th:only-of-type {\n",
       "        vertical-align: middle;\n",
       "    }\n",
       "\n",
       "    .dataframe tbody tr th {\n",
       "        vertical-align: top;\n",
       "    }\n",
       "\n",
       "    .dataframe thead th {\n",
       "        text-align: right;\n",
       "    }\n",
       "</style>\n",
       "<table border=\"1\" class=\"dataframe\">\n",
       "  <thead>\n",
       "    <tr style=\"text-align: right;\">\n",
       "      <th></th>\n",
       "      <th>1</th>\n",
       "      <th>14.23</th>\n",
       "      <th>1.71</th>\n",
       "      <th>2.43</th>\n",
       "      <th>15.6</th>\n",
       "      <th>127</th>\n",
       "      <th>2.8</th>\n",
       "      <th>3.06</th>\n",
       "      <th>.28</th>\n",
       "      <th>2.29</th>\n",
       "      <th>5.64</th>\n",
       "      <th>1.04</th>\n",
       "      <th>3.92</th>\n",
       "      <th>1065</th>\n",
       "    </tr>\n",
       "  </thead>\n",
       "  <tbody>\n",
       "    <tr>\n",
       "      <th>0</th>\n",
       "      <td>1</td>\n",
       "      <td>13.20</td>\n",
       "      <td>1.78</td>\n",
       "      <td>2.14</td>\n",
       "      <td>11.2</td>\n",
       "      <td>100</td>\n",
       "      <td>2.65</td>\n",
       "      <td>2.76</td>\n",
       "      <td>0.26</td>\n",
       "      <td>1.28</td>\n",
       "      <td>4.38</td>\n",
       "      <td>1.05</td>\n",
       "      <td>3.40</td>\n",
       "      <td>1050</td>\n",
       "    </tr>\n",
       "    <tr>\n",
       "      <th>1</th>\n",
       "      <td>1</td>\n",
       "      <td>13.16</td>\n",
       "      <td>2.36</td>\n",
       "      <td>2.67</td>\n",
       "      <td>18.6</td>\n",
       "      <td>101</td>\n",
       "      <td>2.80</td>\n",
       "      <td>3.24</td>\n",
       "      <td>0.30</td>\n",
       "      <td>2.81</td>\n",
       "      <td>5.68</td>\n",
       "      <td>1.03</td>\n",
       "      <td>3.17</td>\n",
       "      <td>1185</td>\n",
       "    </tr>\n",
       "    <tr>\n",
       "      <th>2</th>\n",
       "      <td>1</td>\n",
       "      <td>14.37</td>\n",
       "      <td>1.95</td>\n",
       "      <td>2.50</td>\n",
       "      <td>16.8</td>\n",
       "      <td>113</td>\n",
       "      <td>3.85</td>\n",
       "      <td>3.49</td>\n",
       "      <td>0.24</td>\n",
       "      <td>2.18</td>\n",
       "      <td>7.80</td>\n",
       "      <td>0.86</td>\n",
       "      <td>3.45</td>\n",
       "      <td>1480</td>\n",
       "    </tr>\n",
       "    <tr>\n",
       "      <th>3</th>\n",
       "      <td>1</td>\n",
       "      <td>13.24</td>\n",
       "      <td>2.59</td>\n",
       "      <td>2.87</td>\n",
       "      <td>21.0</td>\n",
       "      <td>118</td>\n",
       "      <td>2.80</td>\n",
       "      <td>2.69</td>\n",
       "      <td>0.39</td>\n",
       "      <td>1.82</td>\n",
       "      <td>4.32</td>\n",
       "      <td>1.04</td>\n",
       "      <td>2.93</td>\n",
       "      <td>735</td>\n",
       "    </tr>\n",
       "    <tr>\n",
       "      <th>4</th>\n",
       "      <td>1</td>\n",
       "      <td>14.20</td>\n",
       "      <td>1.76</td>\n",
       "      <td>2.45</td>\n",
       "      <td>15.2</td>\n",
       "      <td>112</td>\n",
       "      <td>3.27</td>\n",
       "      <td>3.39</td>\n",
       "      <td>0.34</td>\n",
       "      <td>1.97</td>\n",
       "      <td>6.75</td>\n",
       "      <td>1.05</td>\n",
       "      <td>2.85</td>\n",
       "      <td>1450</td>\n",
       "    </tr>\n",
       "    <tr>\n",
       "      <th>...</th>\n",
       "      <td>...</td>\n",
       "      <td>...</td>\n",
       "      <td>...</td>\n",
       "      <td>...</td>\n",
       "      <td>...</td>\n",
       "      <td>...</td>\n",
       "      <td>...</td>\n",
       "      <td>...</td>\n",
       "      <td>...</td>\n",
       "      <td>...</td>\n",
       "      <td>...</td>\n",
       "      <td>...</td>\n",
       "      <td>...</td>\n",
       "      <td>...</td>\n",
       "    </tr>\n",
       "    <tr>\n",
       "      <th>172</th>\n",
       "      <td>3</td>\n",
       "      <td>13.71</td>\n",
       "      <td>5.65</td>\n",
       "      <td>2.45</td>\n",
       "      <td>20.5</td>\n",
       "      <td>95</td>\n",
       "      <td>1.68</td>\n",
       "      <td>0.61</td>\n",
       "      <td>0.52</td>\n",
       "      <td>1.06</td>\n",
       "      <td>7.70</td>\n",
       "      <td>0.64</td>\n",
       "      <td>1.74</td>\n",
       "      <td>740</td>\n",
       "    </tr>\n",
       "    <tr>\n",
       "      <th>173</th>\n",
       "      <td>3</td>\n",
       "      <td>13.40</td>\n",
       "      <td>3.91</td>\n",
       "      <td>2.48</td>\n",
       "      <td>23.0</td>\n",
       "      <td>102</td>\n",
       "      <td>1.80</td>\n",
       "      <td>0.75</td>\n",
       "      <td>0.43</td>\n",
       "      <td>1.41</td>\n",
       "      <td>7.30</td>\n",
       "      <td>0.70</td>\n",
       "      <td>1.56</td>\n",
       "      <td>750</td>\n",
       "    </tr>\n",
       "    <tr>\n",
       "      <th>174</th>\n",
       "      <td>3</td>\n",
       "      <td>13.27</td>\n",
       "      <td>4.28</td>\n",
       "      <td>2.26</td>\n",
       "      <td>20.0</td>\n",
       "      <td>120</td>\n",
       "      <td>1.59</td>\n",
       "      <td>0.69</td>\n",
       "      <td>0.43</td>\n",
       "      <td>1.35</td>\n",
       "      <td>10.20</td>\n",
       "      <td>0.59</td>\n",
       "      <td>1.56</td>\n",
       "      <td>835</td>\n",
       "    </tr>\n",
       "    <tr>\n",
       "      <th>175</th>\n",
       "      <td>3</td>\n",
       "      <td>13.17</td>\n",
       "      <td>2.59</td>\n",
       "      <td>2.37</td>\n",
       "      <td>20.0</td>\n",
       "      <td>120</td>\n",
       "      <td>1.65</td>\n",
       "      <td>0.68</td>\n",
       "      <td>0.53</td>\n",
       "      <td>1.46</td>\n",
       "      <td>9.30</td>\n",
       "      <td>0.60</td>\n",
       "      <td>1.62</td>\n",
       "      <td>840</td>\n",
       "    </tr>\n",
       "    <tr>\n",
       "      <th>176</th>\n",
       "      <td>3</td>\n",
       "      <td>14.13</td>\n",
       "      <td>4.10</td>\n",
       "      <td>2.74</td>\n",
       "      <td>24.5</td>\n",
       "      <td>96</td>\n",
       "      <td>2.05</td>\n",
       "      <td>0.76</td>\n",
       "      <td>0.56</td>\n",
       "      <td>1.35</td>\n",
       "      <td>9.20</td>\n",
       "      <td>0.61</td>\n",
       "      <td>1.60</td>\n",
       "      <td>560</td>\n",
       "    </tr>\n",
       "  </tbody>\n",
       "</table>\n",
       "<p>177 rows × 14 columns</p>\n",
       "</div>"
      ],
      "text/plain": [
       "     1  14.23  1.71  2.43  15.6  127   2.8  3.06   .28  2.29   5.64  1.04  \\\n",
       "0    1  13.20  1.78  2.14  11.2  100  2.65  2.76  0.26  1.28   4.38  1.05   \n",
       "1    1  13.16  2.36  2.67  18.6  101  2.80  3.24  0.30  2.81   5.68  1.03   \n",
       "2    1  14.37  1.95  2.50  16.8  113  3.85  3.49  0.24  2.18   7.80  0.86   \n",
       "3    1  13.24  2.59  2.87  21.0  118  2.80  2.69  0.39  1.82   4.32  1.04   \n",
       "4    1  14.20  1.76  2.45  15.2  112  3.27  3.39  0.34  1.97   6.75  1.05   \n",
       "..  ..    ...   ...   ...   ...  ...   ...   ...   ...   ...    ...   ...   \n",
       "172  3  13.71  5.65  2.45  20.5   95  1.68  0.61  0.52  1.06   7.70  0.64   \n",
       "173  3  13.40  3.91  2.48  23.0  102  1.80  0.75  0.43  1.41   7.30  0.70   \n",
       "174  3  13.27  4.28  2.26  20.0  120  1.59  0.69  0.43  1.35  10.20  0.59   \n",
       "175  3  13.17  2.59  2.37  20.0  120  1.65  0.68  0.53  1.46   9.30  0.60   \n",
       "176  3  14.13  4.10  2.74  24.5   96  2.05  0.76  0.56  1.35   9.20  0.61   \n",
       "\n",
       "     3.92  1065  \n",
       "0    3.40  1050  \n",
       "1    3.17  1185  \n",
       "2    3.45  1480  \n",
       "3    2.93   735  \n",
       "4    2.85  1450  \n",
       "..    ...   ...  \n",
       "172  1.74   740  \n",
       "173  1.56   750  \n",
       "174  1.56   835  \n",
       "175  1.62   840  \n",
       "176  1.60   560  \n",
       "\n",
       "[177 rows x 14 columns]"
      ]
     },
     "execution_count": 2,
     "metadata": {},
     "output_type": "execute_result"
    }
   ],
   "source": [
    "! pip install pandas\n",
    "import pandas as pd\n",
    "path = './data/wine_data.csv'\n",
    "myfiledata = pd.read_csv(path) ## Dataset is now stored in a Pandas Dataframe\n",
    "myfiledata"
   ]
  },
  {
   "cell_type": "code",
   "execution_count": 3,
   "metadata": {
    "colab": {
     "base_uri": "https://localhost:8080/",
     "height": 383
    },
    "executionInfo": {
     "elapsed": 391,
     "status": "ok",
     "timestamp": 1720679326669,
     "user": {
      "displayName": "Wanthanee Prachuabsupakij",
      "userId": "13160947104043617262"
     },
     "user_tz": -420
    },
    "id": "a_A_8y5Z2Eo1",
    "outputId": "73011e56-d6ec-4d8c-f26a-aca9f581fb5c"
   },
   "outputs": [
    {
     "data": {
      "text/html": [
       "<div>\n",
       "<style scoped>\n",
       "    .dataframe tbody tr th:only-of-type {\n",
       "        vertical-align: middle;\n",
       "    }\n",
       "\n",
       "    .dataframe tbody tr th {\n",
       "        vertical-align: top;\n",
       "    }\n",
       "\n",
       "    .dataframe thead th {\n",
       "        text-align: right;\n",
       "    }\n",
       "</style>\n",
       "<table border=\"1\" class=\"dataframe\">\n",
       "  <thead>\n",
       "    <tr style=\"text-align: right;\">\n",
       "      <th></th>\n",
       "      <th>Cultivator</th>\n",
       "      <th>Alchol</th>\n",
       "      <th>Malic_Acid</th>\n",
       "      <th>Ash</th>\n",
       "      <th>Alcalinity_of_Ash</th>\n",
       "      <th>Magnesium</th>\n",
       "      <th>Total_phenols</th>\n",
       "      <th>Falvanoids</th>\n",
       "      <th>Nonflavanoid_phenols</th>\n",
       "      <th>Proanthocyanins</th>\n",
       "      <th>Color_intensity</th>\n",
       "      <th>Hue</th>\n",
       "      <th>OD280</th>\n",
       "      <th>Proline</th>\n",
       "    </tr>\n",
       "  </thead>\n",
       "  <tbody>\n",
       "    <tr>\n",
       "      <th>0</th>\n",
       "      <td>1</td>\n",
       "      <td>14.23</td>\n",
       "      <td>1.71</td>\n",
       "      <td>2.43</td>\n",
       "      <td>15.6</td>\n",
       "      <td>127</td>\n",
       "      <td>2.80</td>\n",
       "      <td>3.06</td>\n",
       "      <td>0.28</td>\n",
       "      <td>2.29</td>\n",
       "      <td>5.64</td>\n",
       "      <td>1.04</td>\n",
       "      <td>3.92</td>\n",
       "      <td>1065</td>\n",
       "    </tr>\n",
       "    <tr>\n",
       "      <th>1</th>\n",
       "      <td>1</td>\n",
       "      <td>13.20</td>\n",
       "      <td>1.78</td>\n",
       "      <td>2.14</td>\n",
       "      <td>11.2</td>\n",
       "      <td>100</td>\n",
       "      <td>2.65</td>\n",
       "      <td>2.76</td>\n",
       "      <td>0.26</td>\n",
       "      <td>1.28</td>\n",
       "      <td>4.38</td>\n",
       "      <td>1.05</td>\n",
       "      <td>3.40</td>\n",
       "      <td>1050</td>\n",
       "    </tr>\n",
       "    <tr>\n",
       "      <th>2</th>\n",
       "      <td>1</td>\n",
       "      <td>13.16</td>\n",
       "      <td>2.36</td>\n",
       "      <td>2.67</td>\n",
       "      <td>18.6</td>\n",
       "      <td>101</td>\n",
       "      <td>2.80</td>\n",
       "      <td>3.24</td>\n",
       "      <td>0.30</td>\n",
       "      <td>2.81</td>\n",
       "      <td>5.68</td>\n",
       "      <td>1.03</td>\n",
       "      <td>3.17</td>\n",
       "      <td>1185</td>\n",
       "    </tr>\n",
       "    <tr>\n",
       "      <th>3</th>\n",
       "      <td>1</td>\n",
       "      <td>14.37</td>\n",
       "      <td>1.95</td>\n",
       "      <td>2.50</td>\n",
       "      <td>16.8</td>\n",
       "      <td>113</td>\n",
       "      <td>3.85</td>\n",
       "      <td>3.49</td>\n",
       "      <td>0.24</td>\n",
       "      <td>2.18</td>\n",
       "      <td>7.80</td>\n",
       "      <td>0.86</td>\n",
       "      <td>3.45</td>\n",
       "      <td>1480</td>\n",
       "    </tr>\n",
       "    <tr>\n",
       "      <th>4</th>\n",
       "      <td>1</td>\n",
       "      <td>13.24</td>\n",
       "      <td>2.59</td>\n",
       "      <td>2.87</td>\n",
       "      <td>21.0</td>\n",
       "      <td>118</td>\n",
       "      <td>2.80</td>\n",
       "      <td>2.69</td>\n",
       "      <td>0.39</td>\n",
       "      <td>1.82</td>\n",
       "      <td>4.32</td>\n",
       "      <td>1.04</td>\n",
       "      <td>2.93</td>\n",
       "      <td>735</td>\n",
       "    </tr>\n",
       "    <tr>\n",
       "      <th>5</th>\n",
       "      <td>1</td>\n",
       "      <td>14.20</td>\n",
       "      <td>1.76</td>\n",
       "      <td>2.45</td>\n",
       "      <td>15.2</td>\n",
       "      <td>112</td>\n",
       "      <td>3.27</td>\n",
       "      <td>3.39</td>\n",
       "      <td>0.34</td>\n",
       "      <td>1.97</td>\n",
       "      <td>6.75</td>\n",
       "      <td>1.05</td>\n",
       "      <td>2.85</td>\n",
       "      <td>1450</td>\n",
       "    </tr>\n",
       "    <tr>\n",
       "      <th>6</th>\n",
       "      <td>1</td>\n",
       "      <td>14.39</td>\n",
       "      <td>1.87</td>\n",
       "      <td>2.45</td>\n",
       "      <td>14.6</td>\n",
       "      <td>96</td>\n",
       "      <td>2.50</td>\n",
       "      <td>2.52</td>\n",
       "      <td>0.30</td>\n",
       "      <td>1.98</td>\n",
       "      <td>5.25</td>\n",
       "      <td>1.02</td>\n",
       "      <td>3.58</td>\n",
       "      <td>1290</td>\n",
       "    </tr>\n",
       "    <tr>\n",
       "      <th>7</th>\n",
       "      <td>1</td>\n",
       "      <td>14.06</td>\n",
       "      <td>2.15</td>\n",
       "      <td>2.61</td>\n",
       "      <td>17.6</td>\n",
       "      <td>121</td>\n",
       "      <td>2.60</td>\n",
       "      <td>2.51</td>\n",
       "      <td>0.31</td>\n",
       "      <td>1.25</td>\n",
       "      <td>5.05</td>\n",
       "      <td>1.06</td>\n",
       "      <td>3.58</td>\n",
       "      <td>1295</td>\n",
       "    </tr>\n",
       "    <tr>\n",
       "      <th>8</th>\n",
       "      <td>1</td>\n",
       "      <td>14.83</td>\n",
       "      <td>1.64</td>\n",
       "      <td>2.17</td>\n",
       "      <td>14.0</td>\n",
       "      <td>97</td>\n",
       "      <td>2.80</td>\n",
       "      <td>2.98</td>\n",
       "      <td>0.29</td>\n",
       "      <td>1.98</td>\n",
       "      <td>5.20</td>\n",
       "      <td>1.08</td>\n",
       "      <td>2.85</td>\n",
       "      <td>1045</td>\n",
       "    </tr>\n",
       "    <tr>\n",
       "      <th>9</th>\n",
       "      <td>1</td>\n",
       "      <td>13.86</td>\n",
       "      <td>1.35</td>\n",
       "      <td>2.27</td>\n",
       "      <td>16.0</td>\n",
       "      <td>98</td>\n",
       "      <td>2.98</td>\n",
       "      <td>3.15</td>\n",
       "      <td>0.22</td>\n",
       "      <td>1.85</td>\n",
       "      <td>7.22</td>\n",
       "      <td>1.01</td>\n",
       "      <td>3.55</td>\n",
       "      <td>1045</td>\n",
       "    </tr>\n",
       "  </tbody>\n",
       "</table>\n",
       "</div>"
      ],
      "text/plain": [
       "   Cultivator  Alchol  Malic_Acid   Ash  Alcalinity_of_Ash  Magnesium  \\\n",
       "0           1   14.23        1.71  2.43               15.6        127   \n",
       "1           1   13.20        1.78  2.14               11.2        100   \n",
       "2           1   13.16        2.36  2.67               18.6        101   \n",
       "3           1   14.37        1.95  2.50               16.8        113   \n",
       "4           1   13.24        2.59  2.87               21.0        118   \n",
       "5           1   14.20        1.76  2.45               15.2        112   \n",
       "6           1   14.39        1.87  2.45               14.6         96   \n",
       "7           1   14.06        2.15  2.61               17.6        121   \n",
       "8           1   14.83        1.64  2.17               14.0         97   \n",
       "9           1   13.86        1.35  2.27               16.0         98   \n",
       "\n",
       "   Total_phenols  Falvanoids  Nonflavanoid_phenols  Proanthocyanins  \\\n",
       "0           2.80        3.06                  0.28             2.29   \n",
       "1           2.65        2.76                  0.26             1.28   \n",
       "2           2.80        3.24                  0.30             2.81   \n",
       "3           3.85        3.49                  0.24             2.18   \n",
       "4           2.80        2.69                  0.39             1.82   \n",
       "5           3.27        3.39                  0.34             1.97   \n",
       "6           2.50        2.52                  0.30             1.98   \n",
       "7           2.60        2.51                  0.31             1.25   \n",
       "8           2.80        2.98                  0.29             1.98   \n",
       "9           2.98        3.15                  0.22             1.85   \n",
       "\n",
       "   Color_intensity   Hue  OD280  Proline  \n",
       "0             5.64  1.04   3.92     1065  \n",
       "1             4.38  1.05   3.40     1050  \n",
       "2             5.68  1.03   3.17     1185  \n",
       "3             7.80  0.86   3.45     1480  \n",
       "4             4.32  1.04   2.93      735  \n",
       "5             6.75  1.05   2.85     1450  \n",
       "6             5.25  1.02   3.58     1290  \n",
       "7             5.05  1.06   3.58     1295  \n",
       "8             5.20  1.08   2.85     1045  \n",
       "9             7.22  1.01   3.55     1045  "
      ]
     },
     "execution_count": 3,
     "metadata": {},
     "output_type": "execute_result"
    }
   ],
   "source": [
    "features = [\"Cultivator\", \"Alchol\", \"Malic_Acid\", \"Ash\", \"Alcalinity_of_Ash\", \"Magnesium\", \"Total_phenols\", \"Falvanoids\", \"Nonflavanoid_phenols\", \"Proanthocyanins\", \"Color_intensity\", \"Hue\", \"OD280\", \"Proline\"]\n",
    "winedata = pd.read_csv(path, names = features) #ถ้าอ่านจาก drive ให้ใช้ ตัวแปร path\n",
    "#winedata = pd.read_csv('wine_data.csv', names = features) #้ถ้าอ่านจาก local ให้ระบุชื่อไฟล์ได้เลย\n",
    "#winedata.tail(20)\n",
    "winedata.head(10)"
   ]
  },
  {
   "cell_type": "code",
   "execution_count": 4,
   "metadata": {
    "colab": {
     "base_uri": "https://localhost:8080/",
     "height": 696
    },
    "executionInfo": {
     "elapsed": 375,
     "status": "ok",
     "timestamp": 1720679359569,
     "user": {
      "displayName": "Wanthanee Prachuabsupakij",
      "userId": "13160947104043617262"
     },
     "user_tz": -420
    },
    "id": "jmbqR98ZIiAL",
    "outputId": "373337b1-22f8-4753-c79b-6daf21953e12"
   },
   "outputs": [
    {
     "data": {
      "text/html": [
       "<div>\n",
       "<style scoped>\n",
       "    .dataframe tbody tr th:only-of-type {\n",
       "        vertical-align: middle;\n",
       "    }\n",
       "\n",
       "    .dataframe tbody tr th {\n",
       "        vertical-align: top;\n",
       "    }\n",
       "\n",
       "    .dataframe thead th {\n",
       "        text-align: right;\n",
       "    }\n",
       "</style>\n",
       "<table border=\"1\" class=\"dataframe\">\n",
       "  <thead>\n",
       "    <tr style=\"text-align: right;\">\n",
       "      <th></th>\n",
       "      <th>Cultivator</th>\n",
       "      <th>Alchol</th>\n",
       "      <th>Malic_Acid</th>\n",
       "      <th>Ash</th>\n",
       "      <th>Alcalinity_of_Ash</th>\n",
       "      <th>Magnesium</th>\n",
       "      <th>Total_phenols</th>\n",
       "      <th>Falvanoids</th>\n",
       "      <th>Nonflavanoid_phenols</th>\n",
       "      <th>Proanthocyanins</th>\n",
       "      <th>Color_intensity</th>\n",
       "      <th>Hue</th>\n",
       "      <th>OD280</th>\n",
       "      <th>Proline</th>\n",
       "    </tr>\n",
       "  </thead>\n",
       "  <tbody>\n",
       "    <tr>\n",
       "      <th>0</th>\n",
       "      <td>1</td>\n",
       "      <td>14.23</td>\n",
       "      <td>1.71</td>\n",
       "      <td>2.43</td>\n",
       "      <td>15.6</td>\n",
       "      <td>127</td>\n",
       "      <td>2.80</td>\n",
       "      <td>3.06</td>\n",
       "      <td>0.28</td>\n",
       "      <td>2.29</td>\n",
       "      <td>5.64</td>\n",
       "      <td>1.04</td>\n",
       "      <td>3.92</td>\n",
       "      <td>1065</td>\n",
       "    </tr>\n",
       "    <tr>\n",
       "      <th>1</th>\n",
       "      <td>1</td>\n",
       "      <td>13.20</td>\n",
       "      <td>1.78</td>\n",
       "      <td>2.14</td>\n",
       "      <td>11.2</td>\n",
       "      <td>100</td>\n",
       "      <td>2.65</td>\n",
       "      <td>2.76</td>\n",
       "      <td>0.26</td>\n",
       "      <td>1.28</td>\n",
       "      <td>4.38</td>\n",
       "      <td>1.05</td>\n",
       "      <td>3.40</td>\n",
       "      <td>1050</td>\n",
       "    </tr>\n",
       "    <tr>\n",
       "      <th>2</th>\n",
       "      <td>1</td>\n",
       "      <td>13.16</td>\n",
       "      <td>2.36</td>\n",
       "      <td>2.67</td>\n",
       "      <td>18.6</td>\n",
       "      <td>101</td>\n",
       "      <td>2.80</td>\n",
       "      <td>3.24</td>\n",
       "      <td>0.30</td>\n",
       "      <td>2.81</td>\n",
       "      <td>5.68</td>\n",
       "      <td>1.03</td>\n",
       "      <td>3.17</td>\n",
       "      <td>1185</td>\n",
       "    </tr>\n",
       "    <tr>\n",
       "      <th>3</th>\n",
       "      <td>1</td>\n",
       "      <td>14.37</td>\n",
       "      <td>1.95</td>\n",
       "      <td>2.50</td>\n",
       "      <td>16.8</td>\n",
       "      <td>113</td>\n",
       "      <td>3.85</td>\n",
       "      <td>3.49</td>\n",
       "      <td>0.24</td>\n",
       "      <td>2.18</td>\n",
       "      <td>7.80</td>\n",
       "      <td>0.86</td>\n",
       "      <td>3.45</td>\n",
       "      <td>1480</td>\n",
       "    </tr>\n",
       "    <tr>\n",
       "      <th>4</th>\n",
       "      <td>1</td>\n",
       "      <td>13.24</td>\n",
       "      <td>2.59</td>\n",
       "      <td>2.87</td>\n",
       "      <td>21.0</td>\n",
       "      <td>118</td>\n",
       "      <td>2.80</td>\n",
       "      <td>2.69</td>\n",
       "      <td>0.39</td>\n",
       "      <td>1.82</td>\n",
       "      <td>4.32</td>\n",
       "      <td>1.04</td>\n",
       "      <td>2.93</td>\n",
       "      <td>735</td>\n",
       "    </tr>\n",
       "    <tr>\n",
       "      <th>5</th>\n",
       "      <td>1</td>\n",
       "      <td>14.20</td>\n",
       "      <td>1.76</td>\n",
       "      <td>2.45</td>\n",
       "      <td>15.2</td>\n",
       "      <td>112</td>\n",
       "      <td>3.27</td>\n",
       "      <td>3.39</td>\n",
       "      <td>0.34</td>\n",
       "      <td>1.97</td>\n",
       "      <td>6.75</td>\n",
       "      <td>1.05</td>\n",
       "      <td>2.85</td>\n",
       "      <td>1450</td>\n",
       "    </tr>\n",
       "    <tr>\n",
       "      <th>6</th>\n",
       "      <td>1</td>\n",
       "      <td>14.39</td>\n",
       "      <td>1.87</td>\n",
       "      <td>2.45</td>\n",
       "      <td>14.6</td>\n",
       "      <td>96</td>\n",
       "      <td>2.50</td>\n",
       "      <td>2.52</td>\n",
       "      <td>0.30</td>\n",
       "      <td>1.98</td>\n",
       "      <td>5.25</td>\n",
       "      <td>1.02</td>\n",
       "      <td>3.58</td>\n",
       "      <td>1290</td>\n",
       "    </tr>\n",
       "    <tr>\n",
       "      <th>7</th>\n",
       "      <td>1</td>\n",
       "      <td>14.06</td>\n",
       "      <td>2.15</td>\n",
       "      <td>2.61</td>\n",
       "      <td>17.6</td>\n",
       "      <td>121</td>\n",
       "      <td>2.60</td>\n",
       "      <td>2.51</td>\n",
       "      <td>0.31</td>\n",
       "      <td>1.25</td>\n",
       "      <td>5.05</td>\n",
       "      <td>1.06</td>\n",
       "      <td>3.58</td>\n",
       "      <td>1295</td>\n",
       "    </tr>\n",
       "    <tr>\n",
       "      <th>8</th>\n",
       "      <td>1</td>\n",
       "      <td>14.83</td>\n",
       "      <td>1.64</td>\n",
       "      <td>2.17</td>\n",
       "      <td>14.0</td>\n",
       "      <td>97</td>\n",
       "      <td>2.80</td>\n",
       "      <td>2.98</td>\n",
       "      <td>0.29</td>\n",
       "      <td>1.98</td>\n",
       "      <td>5.20</td>\n",
       "      <td>1.08</td>\n",
       "      <td>2.85</td>\n",
       "      <td>1045</td>\n",
       "    </tr>\n",
       "    <tr>\n",
       "      <th>9</th>\n",
       "      <td>1</td>\n",
       "      <td>13.86</td>\n",
       "      <td>1.35</td>\n",
       "      <td>2.27</td>\n",
       "      <td>16.0</td>\n",
       "      <td>98</td>\n",
       "      <td>2.98</td>\n",
       "      <td>3.15</td>\n",
       "      <td>0.22</td>\n",
       "      <td>1.85</td>\n",
       "      <td>7.22</td>\n",
       "      <td>1.01</td>\n",
       "      <td>3.55</td>\n",
       "      <td>1045</td>\n",
       "    </tr>\n",
       "    <tr>\n",
       "      <th>10</th>\n",
       "      <td>1</td>\n",
       "      <td>14.10</td>\n",
       "      <td>2.16</td>\n",
       "      <td>2.30</td>\n",
       "      <td>18.0</td>\n",
       "      <td>105</td>\n",
       "      <td>2.95</td>\n",
       "      <td>3.32</td>\n",
       "      <td>0.22</td>\n",
       "      <td>2.38</td>\n",
       "      <td>5.75</td>\n",
       "      <td>1.25</td>\n",
       "      <td>3.17</td>\n",
       "      <td>1510</td>\n",
       "    </tr>\n",
       "    <tr>\n",
       "      <th>11</th>\n",
       "      <td>1</td>\n",
       "      <td>14.12</td>\n",
       "      <td>1.48</td>\n",
       "      <td>2.32</td>\n",
       "      <td>16.8</td>\n",
       "      <td>95</td>\n",
       "      <td>2.20</td>\n",
       "      <td>2.43</td>\n",
       "      <td>0.26</td>\n",
       "      <td>1.57</td>\n",
       "      <td>5.00</td>\n",
       "      <td>1.17</td>\n",
       "      <td>2.82</td>\n",
       "      <td>1280</td>\n",
       "    </tr>\n",
       "    <tr>\n",
       "      <th>12</th>\n",
       "      <td>1</td>\n",
       "      <td>13.75</td>\n",
       "      <td>1.73</td>\n",
       "      <td>2.41</td>\n",
       "      <td>16.0</td>\n",
       "      <td>89</td>\n",
       "      <td>2.60</td>\n",
       "      <td>2.76</td>\n",
       "      <td>0.29</td>\n",
       "      <td>1.81</td>\n",
       "      <td>5.60</td>\n",
       "      <td>1.15</td>\n",
       "      <td>2.90</td>\n",
       "      <td>1320</td>\n",
       "    </tr>\n",
       "    <tr>\n",
       "      <th>13</th>\n",
       "      <td>1</td>\n",
       "      <td>14.75</td>\n",
       "      <td>1.73</td>\n",
       "      <td>2.39</td>\n",
       "      <td>11.4</td>\n",
       "      <td>91</td>\n",
       "      <td>3.10</td>\n",
       "      <td>3.69</td>\n",
       "      <td>0.43</td>\n",
       "      <td>2.81</td>\n",
       "      <td>5.40</td>\n",
       "      <td>1.25</td>\n",
       "      <td>2.73</td>\n",
       "      <td>1150</td>\n",
       "    </tr>\n",
       "    <tr>\n",
       "      <th>14</th>\n",
       "      <td>1</td>\n",
       "      <td>14.38</td>\n",
       "      <td>1.87</td>\n",
       "      <td>2.38</td>\n",
       "      <td>12.0</td>\n",
       "      <td>102</td>\n",
       "      <td>3.30</td>\n",
       "      <td>3.64</td>\n",
       "      <td>0.29</td>\n",
       "      <td>2.96</td>\n",
       "      <td>7.50</td>\n",
       "      <td>1.20</td>\n",
       "      <td>3.00</td>\n",
       "      <td>1547</td>\n",
       "    </tr>\n",
       "    <tr>\n",
       "      <th>15</th>\n",
       "      <td>1</td>\n",
       "      <td>13.63</td>\n",
       "      <td>1.81</td>\n",
       "      <td>2.70</td>\n",
       "      <td>17.2</td>\n",
       "      <td>112</td>\n",
       "      <td>2.85</td>\n",
       "      <td>2.91</td>\n",
       "      <td>0.30</td>\n",
       "      <td>1.46</td>\n",
       "      <td>7.30</td>\n",
       "      <td>1.28</td>\n",
       "      <td>2.88</td>\n",
       "      <td>1310</td>\n",
       "    </tr>\n",
       "    <tr>\n",
       "      <th>16</th>\n",
       "      <td>1</td>\n",
       "      <td>14.30</td>\n",
       "      <td>1.92</td>\n",
       "      <td>2.72</td>\n",
       "      <td>20.0</td>\n",
       "      <td>120</td>\n",
       "      <td>2.80</td>\n",
       "      <td>3.14</td>\n",
       "      <td>0.33</td>\n",
       "      <td>1.97</td>\n",
       "      <td>6.20</td>\n",
       "      <td>1.07</td>\n",
       "      <td>2.65</td>\n",
       "      <td>1280</td>\n",
       "    </tr>\n",
       "    <tr>\n",
       "      <th>17</th>\n",
       "      <td>1</td>\n",
       "      <td>13.83</td>\n",
       "      <td>1.57</td>\n",
       "      <td>2.62</td>\n",
       "      <td>20.0</td>\n",
       "      <td>115</td>\n",
       "      <td>2.95</td>\n",
       "      <td>3.40</td>\n",
       "      <td>0.40</td>\n",
       "      <td>1.72</td>\n",
       "      <td>6.60</td>\n",
       "      <td>1.13</td>\n",
       "      <td>2.57</td>\n",
       "      <td>1130</td>\n",
       "    </tr>\n",
       "    <tr>\n",
       "      <th>18</th>\n",
       "      <td>1</td>\n",
       "      <td>14.19</td>\n",
       "      <td>1.59</td>\n",
       "      <td>2.48</td>\n",
       "      <td>16.5</td>\n",
       "      <td>108</td>\n",
       "      <td>3.30</td>\n",
       "      <td>3.93</td>\n",
       "      <td>0.32</td>\n",
       "      <td>1.86</td>\n",
       "      <td>8.70</td>\n",
       "      <td>1.23</td>\n",
       "      <td>2.82</td>\n",
       "      <td>1680</td>\n",
       "    </tr>\n",
       "    <tr>\n",
       "      <th>19</th>\n",
       "      <td>1</td>\n",
       "      <td>13.64</td>\n",
       "      <td>3.10</td>\n",
       "      <td>2.56</td>\n",
       "      <td>15.2</td>\n",
       "      <td>116</td>\n",
       "      <td>2.70</td>\n",
       "      <td>3.03</td>\n",
       "      <td>0.17</td>\n",
       "      <td>1.66</td>\n",
       "      <td>5.10</td>\n",
       "      <td>0.96</td>\n",
       "      <td>3.36</td>\n",
       "      <td>845</td>\n",
       "    </tr>\n",
       "  </tbody>\n",
       "</table>\n",
       "</div>"
      ],
      "text/plain": [
       "    Cultivator  Alchol  Malic_Acid   Ash  Alcalinity_of_Ash  Magnesium  \\\n",
       "0            1   14.23        1.71  2.43               15.6        127   \n",
       "1            1   13.20        1.78  2.14               11.2        100   \n",
       "2            1   13.16        2.36  2.67               18.6        101   \n",
       "3            1   14.37        1.95  2.50               16.8        113   \n",
       "4            1   13.24        2.59  2.87               21.0        118   \n",
       "5            1   14.20        1.76  2.45               15.2        112   \n",
       "6            1   14.39        1.87  2.45               14.6         96   \n",
       "7            1   14.06        2.15  2.61               17.6        121   \n",
       "8            1   14.83        1.64  2.17               14.0         97   \n",
       "9            1   13.86        1.35  2.27               16.0         98   \n",
       "10           1   14.10        2.16  2.30               18.0        105   \n",
       "11           1   14.12        1.48  2.32               16.8         95   \n",
       "12           1   13.75        1.73  2.41               16.0         89   \n",
       "13           1   14.75        1.73  2.39               11.4         91   \n",
       "14           1   14.38        1.87  2.38               12.0        102   \n",
       "15           1   13.63        1.81  2.70               17.2        112   \n",
       "16           1   14.30        1.92  2.72               20.0        120   \n",
       "17           1   13.83        1.57  2.62               20.0        115   \n",
       "18           1   14.19        1.59  2.48               16.5        108   \n",
       "19           1   13.64        3.10  2.56               15.2        116   \n",
       "\n",
       "    Total_phenols  Falvanoids  Nonflavanoid_phenols  Proanthocyanins  \\\n",
       "0            2.80        3.06                  0.28             2.29   \n",
       "1            2.65        2.76                  0.26             1.28   \n",
       "2            2.80        3.24                  0.30             2.81   \n",
       "3            3.85        3.49                  0.24             2.18   \n",
       "4            2.80        2.69                  0.39             1.82   \n",
       "5            3.27        3.39                  0.34             1.97   \n",
       "6            2.50        2.52                  0.30             1.98   \n",
       "7            2.60        2.51                  0.31             1.25   \n",
       "8            2.80        2.98                  0.29             1.98   \n",
       "9            2.98        3.15                  0.22             1.85   \n",
       "10           2.95        3.32                  0.22             2.38   \n",
       "11           2.20        2.43                  0.26             1.57   \n",
       "12           2.60        2.76                  0.29             1.81   \n",
       "13           3.10        3.69                  0.43             2.81   \n",
       "14           3.30        3.64                  0.29             2.96   \n",
       "15           2.85        2.91                  0.30             1.46   \n",
       "16           2.80        3.14                  0.33             1.97   \n",
       "17           2.95        3.40                  0.40             1.72   \n",
       "18           3.30        3.93                  0.32             1.86   \n",
       "19           2.70        3.03                  0.17             1.66   \n",
       "\n",
       "    Color_intensity   Hue  OD280  Proline  \n",
       "0              5.64  1.04   3.92     1065  \n",
       "1              4.38  1.05   3.40     1050  \n",
       "2              5.68  1.03   3.17     1185  \n",
       "3              7.80  0.86   3.45     1480  \n",
       "4              4.32  1.04   2.93      735  \n",
       "5              6.75  1.05   2.85     1450  \n",
       "6              5.25  1.02   3.58     1290  \n",
       "7              5.05  1.06   3.58     1295  \n",
       "8              5.20  1.08   2.85     1045  \n",
       "9              7.22  1.01   3.55     1045  \n",
       "10             5.75  1.25   3.17     1510  \n",
       "11             5.00  1.17   2.82     1280  \n",
       "12             5.60  1.15   2.90     1320  \n",
       "13             5.40  1.25   2.73     1150  \n",
       "14             7.50  1.20   3.00     1547  \n",
       "15             7.30  1.28   2.88     1310  \n",
       "16             6.20  1.07   2.65     1280  \n",
       "17             6.60  1.13   2.57     1130  \n",
       "18             8.70  1.23   2.82     1680  \n",
       "19             5.10  0.96   3.36      845  "
      ]
     },
     "execution_count": 4,
     "metadata": {},
     "output_type": "execute_result"
    }
   ],
   "source": [
    "winedata.head(20)"
   ]
  },
  {
   "cell_type": "markdown",
   "metadata": {
    "id": "nHwBjTgfUmGN"
   },
   "source": [
    "# **numpy**\n",
    "numpy เป็น library ที่ช่วยให้เราจัดการกับอาเรย์หลายมิติได้โดยง่ายขึ้น\n",
    "\n",
    "ภาษา Python ไม่มีข้อมูลชนิด array แต่สามารถใช้ list แทนได้ แต่หากใช้ numpy ก็จะทำให้ใช้ข้อมูลชนิด array ได้ และทำงานกับข้อมูลอาเรย์หลายมิติก็ได้โดยง่ายไปอีก\n",
    "\n",
    "ข้อแตกต่างระหว่าง array กับ list คือ array จะต้องประกอบด้วยข้อมูลเพียงชนิดเดียวเท่านั้น เรามักเห็นเป็นตัวเลขหมด เพราะมักใช้ในการคำนวณใน Machine Learning\n",
    "\n",
    "numpy จะสร้าง array สำหรับเก็บข้อมูล โดยใช้ pointer ตัวเดียวชี้ไปที่ array นั้น ซึ่งทำให้ numpy มีประสิทธิภาพสูงสำหรับการทำการจัดการข้อมูลลักษณะนี้\n",
    "\n",
    "numpy ถูกติดตั้งมาพร้อมกับการติดตั้ง Pyhton แล้ว เราจึงเรียกใช้งานได้เลย\n",
    "\n",
    "ถ้ายังไม่มีการติดตั้งมา ให้ติดตั้งโดยใช้คำสั่ง เช่น\n",
    "```\n",
    "pip install numpy\n",
    "```"
   ]
  },
  {
   "cell_type": "markdown",
   "metadata": {
    "id": "Nvi6my4gWs3b"
   },
   "source": [
    "การเรียใช้ numpy เข้ามาที่โปรแกรมหลักของเรา ทำได้โดย"
   ]
  },
  {
   "cell_type": "code",
   "execution_count": 5,
   "metadata": {
    "id": "HDnvNVDgWu9N"
   },
   "outputs": [
    {
     "name": "stdout",
     "output_type": "stream",
     "text": [
      "Requirement already satisfied: numpy in .\\venv\\lib\\site-packages (2.1.3)\n"
     ]
    }
   ],
   "source": [
    "! pip install numpy\n",
    "\n",
    "import numpy as np"
   ]
  },
  {
   "cell_type": "markdown",
   "metadata": {
    "id": "o6onSnZ6D_yU"
   },
   "source": [
    "ต่อไปนี้ เราจะสามารถใช้ np แทน numpy ได้ตลอดทั้งโปรแกรม"
   ]
  },
  {
   "cell_type": "markdown",
   "metadata": {
    "id": "wYT0RH6XZFoN"
   },
   "source": [
    "### Creating an array"
   ]
  },
  {
   "cell_type": "markdown",
   "metadata": {
    "id": "u7YdGl2pYH2R"
   },
   "source": [
    "**Creating a single-dimensional array**"
   ]
  },
  {
   "cell_type": "code",
   "execution_count": 6,
   "metadata": {
    "colab": {
     "base_uri": "https://localhost:8080/"
    },
    "executionInfo": {
     "elapsed": 406,
     "status": "ok",
     "timestamp": 1720679461016,
     "user": {
      "displayName": "Wanthanee Prachuabsupakij",
      "userId": "13160947104043617262"
     },
     "user_tz": -420
    },
    "id": "WZbrOnUBYWZV",
    "outputId": "c6488808-a2fe-4b8f-d2d1-2ceab57c9b6e"
   },
   "outputs": [
    {
     "name": "stdout",
     "output_type": "stream",
     "text": [
      "[1 2 3]\n"
     ]
    }
   ],
   "source": [
    "a = np.array([1,2,3]) # Calling the array function\n",
    "print(a)"
   ]
  },
  {
   "cell_type": "markdown",
   "metadata": {
    "id": "T1bxEsHgYg9k"
   },
   "source": [
    "**Creating a multi-dimensional array**\n",
    "\n",
    "Each set of elements within a square bracket indicates a row\n",
    "\n",
    "Array of two rows and two columns"
   ]
  },
  {
   "cell_type": "code",
   "execution_count": 7,
   "metadata": {
    "colab": {
     "base_uri": "https://localhost:8080/"
    },
    "executionInfo": {
     "elapsed": 363,
     "status": "ok",
     "timestamp": 1720679492022,
     "user": {
      "displayName": "Wanthanee Prachuabsupakij",
      "userId": "13160947104043617262"
     },
     "user_tz": -420
    },
    "id": "_iWO503jYdUe",
    "outputId": "e028fb6e-cfde-47df-efc0-e744da1fe8a4"
   },
   "outputs": [
    {
     "name": "stdout",
     "output_type": "stream",
     "text": [
      "[[1 2]\n",
      " [3 4]]\n"
     ]
    }
   ],
   "source": [
    "b = np.array([[1,2], [3,4]])\n",
    "print(b)"
   ]
  },
  {
   "cell_type": "markdown",
   "metadata": {
    "id": "V5NBrUCRZWj7"
   },
   "source": [
    "**Creating an ndarray by wrapping a list**"
   ]
  },
  {
   "cell_type": "code",
   "execution_count": 8,
   "metadata": {
    "colab": {
     "base_uri": "https://localhost:8080/"
    },
    "executionInfo": {
     "elapsed": 372,
     "status": "ok",
     "timestamp": 1720679512926,
     "user": {
      "displayName": "Wanthanee Prachuabsupakij",
      "userId": "13160947104043617262"
     },
     "user_tz": -420
    },
    "id": "Aa5Ic9uuZYpe",
    "outputId": "8efd153b-c987-4696-8d8d-593a04386f3f"
   },
   "outputs": [
    {
     "name": "stdout",
     "output_type": "stream",
     "text": [
      "[1, 2, 3, 4, 5]\n",
      "[1 2 3 4 5]\n"
     ]
    }
   ],
   "source": [
    "list1 = [1,2,3,4,5] # Creating a list\n",
    "myarray = np.array(list1) # Wrapping the list\n",
    "print(list1)\n",
    "print(myarray)"
   ]
  },
  {
   "cell_type": "markdown",
   "metadata": {
    "id": "eWL6Y0VYZqAn"
   },
   "source": [
    "**Creating an array of numbers of a specified range**"
   ]
  },
  {
   "cell_type": "code",
   "execution_count": 9,
   "metadata": {
    "colab": {
     "base_uri": "https://localhost:8080/"
    },
    "executionInfo": {
     "elapsed": 383,
     "status": "ok",
     "timestamp": 1720679563624,
     "user": {
      "displayName": "Wanthanee Prachuabsupakij",
      "userId": "13160947104043617262"
     },
     "user_tz": -420
    },
    "id": "Hc0dEwo5Zttm",
    "outputId": "6c100802-a807-4bf1-f3e5-224184f44094"
   },
   "outputs": [
    {
     "name": "stdout",
     "output_type": "stream",
     "text": [
      "[10 11 12 13 14 15 16 17 18 19 20 21 22 23 24 25 26 27 28 29 30 31 32 33\n",
      " 34 35 36 37 38 39 40 41 42 43 44 45 46 47 48 49 50 51 52 53 54 55 56 57\n",
      " 58 59 60 61 62 63 64 65 66 67 68 69 70 71 72 73 74 75 76 77 78 79 80 81\n",
      " 82 83 84 85 86 87 88 89 90 91 92 93 94 95 96 97 98 99]\n"
     ]
    }
   ],
   "source": [
    "myarray1 = np.arange(10, 100) # Array of numbers from 10 up to and excluding 100\n",
    "print(myarray1)"
   ]
  },
  {
   "cell_type": "code",
   "execution_count": 10,
   "metadata": {
    "colab": {
     "base_uri": "https://localhost:8080/"
    },
    "executionInfo": {
     "elapsed": 369,
     "status": "ok",
     "timestamp": 1720679608467,
     "user": {
      "displayName": "Wanthanee Prachuabsupakij",
      "userId": "13160947104043617262"
     },
     "user_tz": -420
    },
    "id": "0IsiNULsa-QP",
    "outputId": "d709a3b0-2ad4-4c20-ab01-8f28fc2d4ab0"
   },
   "outputs": [
    {
     "name": "stdout",
     "output_type": "stream",
     "text": [
      "[10 30 50 70 90]\n"
     ]
    }
   ],
   "source": [
    "myarray2 = np.arange(10, 100, 20) # Array of numbers from 10 up to and excluding 100 and step 20\n",
    "print(myarray2)"
   ]
  },
  {
   "cell_type": "markdown",
   "metadata": {
    "id": "Kx7zRw53Z2dR"
   },
   "source": [
    "**Creating a 5x5 array of zeroes**"
   ]
  },
  {
   "cell_type": "code",
   "execution_count": 11,
   "metadata": {
    "colab": {
     "base_uri": "https://localhost:8080/"
    },
    "executionInfo": {
     "elapsed": 360,
     "status": "ok",
     "timestamp": 1720679629816,
     "user": {
      "displayName": "Wanthanee Prachuabsupakij",
      "userId": "13160947104043617262"
     },
     "user_tz": -420
    },
    "id": "jp9ICm98Z4Wg",
    "outputId": "e478b000-0b81-49fe-c5b9-9c05fc63512c"
   },
   "outputs": [
    {
     "name": "stdout",
     "output_type": "stream",
     "text": [
      "[[0. 0. 0. 0. 0.]\n",
      " [0. 0. 0. 0. 0.]\n",
      " [0. 0. 0. 0. 0.]\n",
      " [0. 0. 0. 0. 0.]\n",
      " [0. 0. 0. 0. 0.]]\n"
     ]
    }
   ],
   "source": [
    "arr2 = np.zeros((5,5))\n",
    "print(arr2)"
   ]
  },
  {
   "cell_type": "markdown",
   "metadata": {
    "id": "uQTvG-UOaC3l"
   },
   "source": [
    "**Creating a linearly spaced vector, with spacing**"
   ]
  },
  {
   "cell_type": "code",
   "execution_count": 12,
   "metadata": {
    "colab": {
     "base_uri": "https://localhost:8080/"
    },
    "executionInfo": {
     "elapsed": 363,
     "status": "ok",
     "timestamp": 1720679675146,
     "user": {
      "displayName": "Wanthanee Prachuabsupakij",
      "userId": "13160947104043617262"
     },
     "user_tz": -420
    },
    "id": "zmG7uDDEaJUk",
    "outputId": "e8414e79-97b7-45f0-f98c-8f02826ed4a5"
   },
   "outputs": [
    {
     "name": "stdout",
     "output_type": "stream",
     "text": [
      "[ 0.  5. 10. 15. 20.]\n"
     ]
    }
   ],
   "source": [
    "vector = np.linspace(0, 20, 5) # Start, stop, numbers\n",
    "print(vector)"
   ]
  },
  {
   "cell_type": "markdown",
   "metadata": {
    "id": "9gFR8qktarXZ"
   },
   "source": [
    "**แบบฝึกหัด WS#2.1**\n",
    "ให้นักเรียนทดลองสร้างชุดข้อมูลด้วย numpy โดยให้มีผลลัพธ์ดังนี้\n",
    "\n",
    "[ 20 30 40 50 60 70 80 90 100]\n",
    "\n"
   ]
  },
  {
   "cell_type": "code",
   "execution_count": 13,
   "metadata": {
    "colab": {
     "base_uri": "https://localhost:8080/"
    },
    "executionInfo": {
     "elapsed": 403,
     "status": "ok",
     "timestamp": 1720679788539,
     "user": {
      "displayName": "Wanthanee Prachuabsupakij",
      "userId": "13160947104043617262"
     },
     "user_tz": -420
    },
    "id": "L86Hfeplawgf",
    "outputId": "6f96305f-f462-4767-b414-1d36cde97e9e"
   },
   "outputs": [
    {
     "name": "stdout",
     "output_type": "stream",
     "text": [
      "[ 20.  30.  40.  50.  60.  70.  80.  90. 100.]\n"
     ]
    }
   ],
   "source": [
    "vector1 = np.linspace(20, 100, 9, endpoint=True)\n",
    "print(vector1)"
   ]
  },
  {
   "cell_type": "markdown",
   "metadata": {
    "id": "-vOvzpRRa3TB"
   },
   "source": [
    "###**Indexing of numpy arrays**\n",
    "\n",
    "NumPy array indexing is identical to Python's indexing scheme"
   ]
  },
  {
   "cell_type": "code",
   "execution_count": 14,
   "metadata": {
    "colab": {
     "base_uri": "https://localhost:8080/"
    },
    "executionInfo": {
     "elapsed": 382,
     "status": "ok",
     "timestamp": 1720679816793,
     "user": {
      "displayName": "Wanthanee Prachuabsupakij",
      "userId": "13160947104043617262"
     },
     "user_tz": -420
    },
    "id": "YzRgyIQ9a63y",
    "outputId": "fac2c230-84c0-474f-ec13-80c71bed3ae4"
   },
   "outputs": [
    {
     "name": "stdout",
     "output_type": "stream",
     "text": [
      "[ 2  3  4  5  6  7  8  9 10 11 12 13 14 15 16 17 18 19]\n",
      "8\n"
     ]
    }
   ],
   "source": [
    "myarray = np.arange(2, 20)\n",
    "print(myarray)\n",
    "element = myarray[6]\n",
    "print(element)"
   ]
  },
  {
   "cell_type": "markdown",
   "metadata": {
    "id": "4z_kXO-abLY-"
   },
   "source": [
    "Python's concept of lists slicing is extended to NumPy.The slice object is constructed by providing start, stop, and step parameters to slice()"
   ]
  },
  {
   "cell_type": "code",
   "execution_count": 15,
   "metadata": {
    "colab": {
     "base_uri": "https://localhost:8080/"
    },
    "executionInfo": {
     "elapsed": 390,
     "status": "ok",
     "timestamp": 1720679870147,
     "user": {
      "displayName": "Wanthanee Prachuabsupakij",
      "userId": "13160947104043617262"
     },
     "user_tz": -420
    },
    "id": "JQ6_WSYCbOsS",
    "outputId": "9d9e1f0e-9123-45e7-f1e5-4710df3db462"
   },
   "outputs": [
    {
     "name": "stdout",
     "output_type": "stream",
     "text": [
      "[ 0  1  2  3  4  5  6  7  8  9 10 11 12 13 14 15 16 17 18 19]\n",
      "[1 3 5 7 9]\n",
      "6\n"
     ]
    }
   ],
   "source": [
    "myarray = np.arange(20)\n",
    "myarray_slice = slice(1, 10, 2) # Start, stop & step สไลส์ไปทีละ 2 ตัว เริ่มจาก 1 ถึง 10\n",
    "myelement = myarray[6]\n",
    "print(myarray)\n",
    "print(myarray[myarray_slice])\n",
    "print(myelement)"
   ]
  },
  {
   "cell_type": "markdown",
   "metadata": {
    "id": "27d80XLybVsT"
   },
   "source": [
    "Slicing items beginning with a specified index"
   ]
  },
  {
   "cell_type": "code",
   "execution_count": 16,
   "metadata": {
    "colab": {
     "base_uri": "https://localhost:8080/"
    },
    "executionInfo": {
     "elapsed": 561,
     "status": "ok",
     "timestamp": 1720679912506,
     "user": {
      "displayName": "Wanthanee Prachuabsupakij",
      "userId": "13160947104043617262"
     },
     "user_tz": -420
    },
    "id": "rP6sUl60bWoY",
    "outputId": "00336a07-96fe-4e53-ef21-7f9ba0ed61ae"
   },
   "outputs": [
    {
     "name": "stdout",
     "output_type": "stream",
     "text": [
      "[ 2  3  4  5  6  7  8  9 10 11 12 13 14 15 16 17 18 19]\n"
     ]
    }
   ],
   "source": [
    "print(myarray[2:])"
   ]
  },
  {
   "cell_type": "markdown",
   "metadata": {
    "id": "iu9-9exgba4h"
   },
   "source": [
    "Slicing items until a specified index"
   ]
  },
  {
   "cell_type": "code",
   "execution_count": 17,
   "metadata": {
    "colab": {
     "base_uri": "https://localhost:8080/"
    },
    "executionInfo": {
     "elapsed": 382,
     "status": "ok",
     "timestamp": 1720679937474,
     "user": {
      "displayName": "Wanthanee Prachuabsupakij",
      "userId": "13160947104043617262"
     },
     "user_tz": -420
    },
    "id": "jng4k79qbbWp",
    "outputId": "577477fb-be21-44ef-dc50-35856b38a225"
   },
   "outputs": [
    {
     "name": "stdout",
     "output_type": "stream",
     "text": [
      "[ 0  1  2  3  4  5  6  7  8  9 10 11 12 13 14]\n"
     ]
    }
   ],
   "source": [
    "print(myarray[:15])"
   ]
  },
  {
   "cell_type": "markdown",
   "metadata": {
    "id": "BZ_bbfh4bgpP"
   },
   "source": [
    "Extracting specific rows and columns using Slicing"
   ]
  },
  {
   "cell_type": "code",
   "execution_count": 18,
   "metadata": {
    "colab": {
     "base_uri": "https://localhost:8080/"
    },
    "executionInfo": {
     "elapsed": 374,
     "status": "ok",
     "timestamp": 1720680118745,
     "user": {
      "displayName": "Wanthanee Prachuabsupakij",
      "userId": "13160947104043617262"
     },
     "user_tz": -420
    },
    "id": "TOqESEh8bhhE",
    "outputId": "deba8525-68e7-49a5-89b2-157ea1f1fba0"
   },
   "outputs": [
    {
     "name": "stdout",
     "output_type": "stream",
     "text": [
      "[[1 2 3]\n",
      " [4 5 6]\n",
      " [7 8 9]]\n",
      "[[1 2]\n",
      " [4 5]]\n"
     ]
    }
   ],
   "source": [
    "d = np.array([[1,2,3], [4,5,6], [7,8,9]])\n",
    "print(d)\n",
    "print(d[0:2, 0:2]) # Slice the first two rows and the first two columns\n"
   ]
  },
  {
   "cell_type": "code",
   "execution_count": 19,
   "metadata": {
    "colab": {
     "base_uri": "https://localhost:8080/"
    },
    "executionInfo": {
     "elapsed": 3,
     "status": "ok",
     "timestamp": 1720680120748,
     "user": {
      "displayName": "Wanthanee Prachuabsupakij",
      "userId": "13160947104043617262"
     },
     "user_tz": -420
    },
    "id": "ZcY0cw1FdqSf",
    "outputId": "24df18ff-a86d-43cf-fe73-69093f7f768d"
   },
   "outputs": [
    {
     "name": "stdout",
     "output_type": "stream",
     "text": [
      "[1 4 7]\n"
     ]
    }
   ],
   "source": [
    "print(d[0:3, 0]) #from row 0 to n-1 rows, 1 column\n"
   ]
  },
  {
   "cell_type": "code",
   "execution_count": 20,
   "metadata": {
    "colab": {
     "base_uri": "https://localhost:8080/"
    },
    "executionInfo": {
     "elapsed": 391,
     "status": "ok",
     "timestamp": 1720680121704,
     "user": {
      "displayName": "Wanthanee Prachuabsupakij",
      "userId": "13160947104043617262"
     },
     "user_tz": -420
    },
    "id": "fF80sIxpdsWL",
    "outputId": "a353ee5d-7c1a-4fa6-ef56-63b682fb5457"
   },
   "outputs": [
    {
     "name": "stdout",
     "output_type": "stream",
     "text": [
      "[[2 3]\n",
      " [5 6]]\n"
     ]
    }
   ],
   "source": [
    "print(d[0:2, 1:3])"
   ]
  },
  {
   "cell_type": "code",
   "execution_count": 21,
   "metadata": {
    "colab": {
     "base_uri": "https://localhost:8080/"
    },
    "executionInfo": {
     "elapsed": 570,
     "status": "ok",
     "timestamp": 1720680123457,
     "user": {
      "displayName": "Wanthanee Prachuabsupakij",
      "userId": "13160947104043617262"
     },
     "user_tz": -420
    },
    "id": "x_RDB8iFdvUO",
    "outputId": "bf595d94-03cb-4522-b28d-6250bf577cea"
   },
   "outputs": [
    {
     "name": "stdout",
     "output_type": "stream",
     "text": [
      "[[1 2 3]\n",
      " [4 5 6]]\n"
     ]
    }
   ],
   "source": [
    "print(d[0:2, 0:3])"
   ]
  },
  {
   "cell_type": "code",
   "execution_count": 22,
   "metadata": {
    "colab": {
     "base_uri": "https://localhost:8080/"
    },
    "executionInfo": {
     "elapsed": 1,
     "status": "ok",
     "timestamp": 1720680124789,
     "user": {
      "displayName": "Wanthanee Prachuabsupakij",
      "userId": "13160947104043617262"
     },
     "user_tz": -420
    },
    "id": "84Wk4E0yewhP",
    "outputId": "42682f08-35e4-46e2-885c-ac21595f6ea6"
   },
   "outputs": [
    {
     "name": "stdout",
     "output_type": "stream",
     "text": [
      "[[6]]\n"
     ]
    }
   ],
   "source": [
    "print(d[1:2, 2:3])"
   ]
  },
  {
   "cell_type": "code",
   "execution_count": 23,
   "metadata": {
    "colab": {
     "base_uri": "https://localhost:8080/"
    },
    "executionInfo": {
     "elapsed": 365,
     "status": "ok",
     "timestamp": 1720680293454,
     "user": {
      "displayName": "Wanthanee Prachuabsupakij",
      "userId": "13160947104043617262"
     },
     "user_tz": -420
    },
    "id": "WSC4OyB88QUe",
    "outputId": "6ef92462-7121-4e69-aec8-342964f52126"
   },
   "outputs": [
    {
     "name": "stdout",
     "output_type": "stream",
     "text": [
      "[[5 6]\n",
      " [8 9]]\n"
     ]
    }
   ],
   "source": [
    "#5 6\n",
    "#8 9\n",
    "#เขียนโปรแกรมตรงนี้ค่า\n",
    "print(d[1:3, 1:3])"
   ]
  },
  {
   "cell_type": "code",
   "execution_count": 24,
   "metadata": {
    "id": "KnC3VIA_MBFw"
   },
   "outputs": [
    {
     "name": "stdout",
     "output_type": "stream",
     "text": [
      "[[2]\n",
      " [5]]\n"
     ]
    }
   ],
   "source": [
    "print(d[0:2, 1:2])"
   ]
  },
  {
   "cell_type": "markdown",
   "metadata": {
    "id": "MEm5BjCzblyT"
   },
   "source": [
    "###**numpy array attributes**"
   ]
  },
  {
   "cell_type": "code",
   "execution_count": 25,
   "metadata": {
    "colab": {
     "base_uri": "https://localhost:8080/"
    },
    "executionInfo": {
     "elapsed": 361,
     "status": "ok",
     "timestamp": 1719889971842,
     "user": {
      "displayName": "Wanthanee Prachuabsupakij",
      "userId": "13160947104043617262"
     },
     "user_tz": -420
    },
    "id": "O3pgKB-Kbo07",
    "outputId": "17fa9ee7-bf9e-45ed-c150-af5a4202b7ec"
   },
   "outputs": [
    {
     "name": "stdout",
     "output_type": "stream",
     "text": [
      "(3, 3)\n",
      "2\n",
      "8\n"
     ]
    }
   ],
   "source": [
    "print(d.shape) # Returns a tuple consisting of array dimensions\n",
    "print(d.ndim) # Attribute returns the number of array dimensions\n",
    "print(d.itemsize) # Returns the length of each element of array in bytes"
   ]
  },
  {
   "cell_type": "markdown",
   "metadata": {
    "id": "Crhc5tHHUjLf"
   },
   "source": [
    "## Basic Statistics\n",
    "ในหัวข้อ numpy นี้ ต้องการให้นักศึกษาทำความคุ้นเคยกับ numpy\n",
    "\n",
    "เพื่อประโยชน์ในการทำมาวิเคราะห์ข้อมูล\n",
    "\n",
    "numpy มีคำสั่งทางด้านสถิติหลายคำสั่ง ให้คำนวณได้อย่างง่าย เช่น\n",
    "\n",
    "np.mean() ได้ค่าเฉลี่ยเลขคณิต\n",
    "\n",
    "np.median() ได้ค่ามัธยฐาน\n",
    "\n",
    "np.corrcoef() ใช้เมื่อต้องการดูว่ามีความสัมพันธ์ระหว่างสองตัวแปรในชุดข้อมูลของเราหรือกับคำอื่น ๆ ระหว่างสองอาร์เรย์ที่มีความยาวเท่ากัน\n",
    "\n",
    "np.std() ได้ค่าเบี่ยงเบนมาตรฐาน\n",
    "\n",
    "ตัวอย่าง"
   ]
  },
  {
   "cell_type": "code",
   "execution_count": 26,
   "metadata": {
    "colab": {
     "base_uri": "https://localhost:8080/"
    },
    "executionInfo": {
     "elapsed": 365,
     "status": "ok",
     "timestamp": 1720680386987,
     "user": {
      "displayName": "Wanthanee Prachuabsupakij",
      "userId": "13160947104043617262"
     },
     "user_tz": -420
    },
    "id": "KSLJsOsfV4FP",
    "outputId": "6fd9550b-622a-45e8-e8a6-30385439e7a6"
   },
   "outputs": [
    {
     "name": "stdout",
     "output_type": "stream",
     "text": [
      "4.6\n",
      "4.0\n",
      "3.2\n",
      "[[1.         0.88964891]\n",
      " [0.88964891 1.        ]]\n"
     ]
    }
   ],
   "source": [
    "learning_hours = [1, 2, 6, 4, 10]\n",
    "grades = [3, 4, 6, 5, 6]\n",
    "\n",
    "a = np.mean(learning_hours)   # 4.6\n",
    "b = np.median(learning_hours) # 4.0\n",
    "c = np.std(learning_hours)    # 3.2\n",
    "d = np.corrcoef(learning_hours, grades)\n",
    "\n",
    "print(a)\n",
    "print(b)\n",
    "print(c)\n",
    "print(d)"
   ]
  },
  {
   "cell_type": "markdown",
   "metadata": {
    "id": "Nk-_rgDRbA8H"
   },
   "source": [
    "# **แบบฝึกหัด WS#2.2**\n",
    "ใ้ห้นักเรียนทดลองแสดงค่าเฉลี่ยและค่าส่วนเบี่ยงเบนมาตรฐานของข้อมูลคะแนนนักเรียนจำนวน 20 คน ซึ่งกำหนดข้อมูลคะแนนดังนี้\n",
    "\n",
    "18, 20, 15, 6, 9, 10, 20, 19, 17, 13, 16, 7, 14, 15, 20, 4, 12, 17, 19, 18"
   ]
  },
  {
   "cell_type": "code",
   "execution_count": 27,
   "metadata": {
    "id": "dtdDrJd7bGbf"
   },
   "outputs": [
    {
     "name": "stdout",
     "output_type": "stream",
     "text": [
      "14.45\n",
      "4.842261868176895\n"
     ]
    }
   ],
   "source": [
    "data = np.array([18, 20, 15, 6, 9, 10, 20, 19, 17, 13, 16, 7, 14, 15, 20, 4, 12, 17, 19, 18])\n",
    "print(data.mean())\n",
    "print(data.std())"
   ]
  },
  {
   "cell_type": "markdown",
   "metadata": {
    "id": "_hTfOpAecNT2"
   },
   "source": [
    "# **ทดลองกับชุดข้อมูล 2015StreetTreesCensus_TREES.csv**"
   ]
  },
  {
   "cell_type": "markdown",
   "metadata": {
    "id": "JIGP9mJMCOvN"
   },
   "source": [
    " Using \"2015StreetTreesCensus_TREES.csv\" in google colab\n",
    "[Download from New York City's tree census]( https://data.cityofnewyork.us/Environment/2015-Street-Tree-Census-Tree-Data/pi5s-9p35 )"
   ]
  },
  {
   "cell_type": "code",
   "execution_count": 28,
   "metadata": {
    "colab": {
     "base_uri": "https://localhost:8080/",
     "height": 846
    },
    "executionInfo": {
     "elapsed": 6930,
     "status": "ok",
     "timestamp": 1720680921469,
     "user": {
      "displayName": "Wanthanee Prachuabsupakij",
      "userId": "13160947104043617262"
     },
     "user_tz": -420
    },
    "id": "0HBsVC8dFOB7",
    "outputId": "45efd50c-7d80-430d-e7f8-551beb7eaa38"
   },
   "outputs": [
    {
     "data": {
      "text/html": [
       "<div>\n",
       "<style scoped>\n",
       "    .dataframe tbody tr th:only-of-type {\n",
       "        vertical-align: middle;\n",
       "    }\n",
       "\n",
       "    .dataframe tbody tr th {\n",
       "        vertical-align: top;\n",
       "    }\n",
       "\n",
       "    .dataframe thead th {\n",
       "        text-align: right;\n",
       "    }\n",
       "</style>\n",
       "<table border=\"1\" class=\"dataframe\">\n",
       "  <thead>\n",
       "    <tr style=\"text-align: right;\">\n",
       "      <th></th>\n",
       "      <th>created_at</th>\n",
       "      <th>tree_id</th>\n",
       "      <th>block_id</th>\n",
       "      <th>the_geom</th>\n",
       "      <th>tree_dbh</th>\n",
       "      <th>stump_diam</th>\n",
       "      <th>curb_loc</th>\n",
       "      <th>status</th>\n",
       "      <th>health</th>\n",
       "      <th>spc_latin</th>\n",
       "      <th>...</th>\n",
       "      <th>st_assem</th>\n",
       "      <th>st_senate</th>\n",
       "      <th>nta</th>\n",
       "      <th>nta_name</th>\n",
       "      <th>boro_ct</th>\n",
       "      <th>state</th>\n",
       "      <th>Latitude</th>\n",
       "      <th>longitude</th>\n",
       "      <th>x_sp</th>\n",
       "      <th>y_sp</th>\n",
       "    </tr>\n",
       "  </thead>\n",
       "  <tbody>\n",
       "    <tr>\n",
       "      <th>0</th>\n",
       "      <td>08/27/2015</td>\n",
       "      <td>180683</td>\n",
       "      <td>348711</td>\n",
       "      <td>POINT (-73.84421521958048 40.723091773924274)</td>\n",
       "      <td>3</td>\n",
       "      <td>0</td>\n",
       "      <td>OnCurb</td>\n",
       "      <td>Alive</td>\n",
       "      <td>Fair</td>\n",
       "      <td>Acer rubrum</td>\n",
       "      <td>...</td>\n",
       "      <td>28</td>\n",
       "      <td>16</td>\n",
       "      <td>QN17</td>\n",
       "      <td>Forest Hills</td>\n",
       "      <td>4073900</td>\n",
       "      <td>New York</td>\n",
       "      <td>40.723092</td>\n",
       "      <td>-73.844215</td>\n",
       "      <td>1.027431e+06</td>\n",
       "      <td>202756.768749</td>\n",
       "    </tr>\n",
       "    <tr>\n",
       "      <th>1</th>\n",
       "      <td>09/03/2015</td>\n",
       "      <td>200540</td>\n",
       "      <td>315986</td>\n",
       "      <td>POINT (-73.81867945834878 40.79411066708779)</td>\n",
       "      <td>21</td>\n",
       "      <td>0</td>\n",
       "      <td>OnCurb</td>\n",
       "      <td>Alive</td>\n",
       "      <td>Fair</td>\n",
       "      <td>Quercus palustris</td>\n",
       "      <td>...</td>\n",
       "      <td>27</td>\n",
       "      <td>11</td>\n",
       "      <td>QN49</td>\n",
       "      <td>Whitestone</td>\n",
       "      <td>4097300</td>\n",
       "      <td>New York</td>\n",
       "      <td>40.794111</td>\n",
       "      <td>-73.818679</td>\n",
       "      <td>1.034456e+06</td>\n",
       "      <td>228644.837379</td>\n",
       "    </tr>\n",
       "    <tr>\n",
       "      <th>2</th>\n",
       "      <td>09/05/2015</td>\n",
       "      <td>204026</td>\n",
       "      <td>218365</td>\n",
       "      <td>POINT (-73.93660770459083 40.717580740099116)</td>\n",
       "      <td>3</td>\n",
       "      <td>0</td>\n",
       "      <td>OnCurb</td>\n",
       "      <td>Alive</td>\n",
       "      <td>Good</td>\n",
       "      <td>Gleditsia triacanthos var. inermis</td>\n",
       "      <td>...</td>\n",
       "      <td>50</td>\n",
       "      <td>18</td>\n",
       "      <td>BK90</td>\n",
       "      <td>East Williamsburg</td>\n",
       "      <td>3044900</td>\n",
       "      <td>New York</td>\n",
       "      <td>40.717581</td>\n",
       "      <td>-73.936608</td>\n",
       "      <td>1.001823e+06</td>\n",
       "      <td>200716.891267</td>\n",
       "    </tr>\n",
       "    <tr>\n",
       "      <th>3</th>\n",
       "      <td>09/05/2015</td>\n",
       "      <td>204337</td>\n",
       "      <td>217969</td>\n",
       "      <td>POINT (-73.93445615919741 40.713537494833226)</td>\n",
       "      <td>10</td>\n",
       "      <td>0</td>\n",
       "      <td>OnCurb</td>\n",
       "      <td>Alive</td>\n",
       "      <td>Good</td>\n",
       "      <td>Gleditsia triacanthos var. inermis</td>\n",
       "      <td>...</td>\n",
       "      <td>53</td>\n",
       "      <td>18</td>\n",
       "      <td>BK90</td>\n",
       "      <td>East Williamsburg</td>\n",
       "      <td>3044900</td>\n",
       "      <td>New York</td>\n",
       "      <td>40.713537</td>\n",
       "      <td>-73.934456</td>\n",
       "      <td>1.002420e+06</td>\n",
       "      <td>199244.253136</td>\n",
       "    </tr>\n",
       "    <tr>\n",
       "      <th>4</th>\n",
       "      <td>08/30/2015</td>\n",
       "      <td>189565</td>\n",
       "      <td>223043</td>\n",
       "      <td>POINT (-73.97597938483258 40.66677775537875)</td>\n",
       "      <td>21</td>\n",
       "      <td>0</td>\n",
       "      <td>OnCurb</td>\n",
       "      <td>Alive</td>\n",
       "      <td>Good</td>\n",
       "      <td>Tilia americana</td>\n",
       "      <td>...</td>\n",
       "      <td>44</td>\n",
       "      <td>21</td>\n",
       "      <td>BK37</td>\n",
       "      <td>Park Slope-Gowanus</td>\n",
       "      <td>3016500</td>\n",
       "      <td>New York</td>\n",
       "      <td>40.666778</td>\n",
       "      <td>-73.975979</td>\n",
       "      <td>9.909138e+05</td>\n",
       "      <td>182202.425999</td>\n",
       "    </tr>\n",
       "    <tr>\n",
       "      <th>5</th>\n",
       "      <td>08/30/2015</td>\n",
       "      <td>190422</td>\n",
       "      <td>106099</td>\n",
       "      <td>POINT (-73.98494997200308 40.770045625891846)</td>\n",
       "      <td>11</td>\n",
       "      <td>0</td>\n",
       "      <td>OnCurb</td>\n",
       "      <td>Alive</td>\n",
       "      <td>Good</td>\n",
       "      <td>Gleditsia triacanthos var. inermis</td>\n",
       "      <td>...</td>\n",
       "      <td>67</td>\n",
       "      <td>27</td>\n",
       "      <td>MN14</td>\n",
       "      <td>Lincoln Square</td>\n",
       "      <td>1014500</td>\n",
       "      <td>New York</td>\n",
       "      <td>40.770046</td>\n",
       "      <td>-73.984950</td>\n",
       "      <td>9.884187e+05</td>\n",
       "      <td>219825.522669</td>\n",
       "    </tr>\n",
       "    <tr>\n",
       "      <th>6</th>\n",
       "      <td>08/30/2015</td>\n",
       "      <td>190426</td>\n",
       "      <td>106099</td>\n",
       "      <td>POINT (-73.98533807200513 40.77020969000546)</td>\n",
       "      <td>11</td>\n",
       "      <td>0</td>\n",
       "      <td>OnCurb</td>\n",
       "      <td>Alive</td>\n",
       "      <td>Good</td>\n",
       "      <td>Gleditsia triacanthos var. inermis</td>\n",
       "      <td>...</td>\n",
       "      <td>67</td>\n",
       "      <td>27</td>\n",
       "      <td>MN14</td>\n",
       "      <td>Lincoln Square</td>\n",
       "      <td>1014500</td>\n",
       "      <td>New York</td>\n",
       "      <td>40.770210</td>\n",
       "      <td>-73.985338</td>\n",
       "      <td>9.883112e+05</td>\n",
       "      <td>219885.278455</td>\n",
       "    </tr>\n",
       "    <tr>\n",
       "      <th>7</th>\n",
       "      <td>09/07/2015</td>\n",
       "      <td>208649</td>\n",
       "      <td>103940</td>\n",
       "      <td>POINT (-73.98729652382876 40.7627238542921)</td>\n",
       "      <td>9</td>\n",
       "      <td>0</td>\n",
       "      <td>OnCurb</td>\n",
       "      <td>Alive</td>\n",
       "      <td>Good</td>\n",
       "      <td>Tilia americana</td>\n",
       "      <td>...</td>\n",
       "      <td>75</td>\n",
       "      <td>27</td>\n",
       "      <td>MN15</td>\n",
       "      <td>Clinton</td>\n",
       "      <td>1012700</td>\n",
       "      <td>New York</td>\n",
       "      <td>40.762724</td>\n",
       "      <td>-73.987297</td>\n",
       "      <td>9.877691e+05</td>\n",
       "      <td>217157.856088</td>\n",
       "    </tr>\n",
       "    <tr>\n",
       "      <th>8</th>\n",
       "      <td>09/08/2015</td>\n",
       "      <td>209610</td>\n",
       "      <td>407443</td>\n",
       "      <td>POINT (-74.07625483097186 40.596579313729144)</td>\n",
       "      <td>6</td>\n",
       "      <td>0</td>\n",
       "      <td>OnCurb</td>\n",
       "      <td>Alive</td>\n",
       "      <td>Good</td>\n",
       "      <td>Gleditsia triacanthos var. inermis</td>\n",
       "      <td>...</td>\n",
       "      <td>64</td>\n",
       "      <td>23</td>\n",
       "      <td>SI14</td>\n",
       "      <td>Grasmere-Arrochar-Ft. Wadsworth</td>\n",
       "      <td>5006400</td>\n",
       "      <td>New York</td>\n",
       "      <td>40.596579</td>\n",
       "      <td>-74.076255</td>\n",
       "      <td>9.630732e+05</td>\n",
       "      <td>156635.554233</td>\n",
       "    </tr>\n",
       "    <tr>\n",
       "      <th>9</th>\n",
       "      <td>08/31/2015</td>\n",
       "      <td>192755</td>\n",
       "      <td>207508</td>\n",
       "      <td>POINT (-73.96974394191379 40.58635724735751)</td>\n",
       "      <td>21</td>\n",
       "      <td>0</td>\n",
       "      <td>OffsetFromCurb</td>\n",
       "      <td>Alive</td>\n",
       "      <td>Fair</td>\n",
       "      <td>Platanus x acerifolia</td>\n",
       "      <td>...</td>\n",
       "      <td>45</td>\n",
       "      <td>23</td>\n",
       "      <td>BK26</td>\n",
       "      <td>Gravesend</td>\n",
       "      <td>3037402</td>\n",
       "      <td>New York</td>\n",
       "      <td>40.586357</td>\n",
       "      <td>-73.969744</td>\n",
       "      <td>9.926537e+05</td>\n",
       "      <td>152903.630594</td>\n",
       "    </tr>\n",
       "  </tbody>\n",
       "</table>\n",
       "<p>10 rows × 42 columns</p>\n",
       "</div>"
      ],
      "text/plain": [
       "   created_at  tree_id  block_id  \\\n",
       "0  08/27/2015   180683    348711   \n",
       "1  09/03/2015   200540    315986   \n",
       "2  09/05/2015   204026    218365   \n",
       "3  09/05/2015   204337    217969   \n",
       "4  08/30/2015   189565    223043   \n",
       "5  08/30/2015   190422    106099   \n",
       "6  08/30/2015   190426    106099   \n",
       "7  09/07/2015   208649    103940   \n",
       "8  09/08/2015   209610    407443   \n",
       "9  08/31/2015   192755    207508   \n",
       "\n",
       "                                        the_geom  tree_dbh  stump_diam  \\\n",
       "0  POINT (-73.84421521958048 40.723091773924274)         3           0   \n",
       "1   POINT (-73.81867945834878 40.79411066708779)        21           0   \n",
       "2  POINT (-73.93660770459083 40.717580740099116)         3           0   \n",
       "3  POINT (-73.93445615919741 40.713537494833226)        10           0   \n",
       "4   POINT (-73.97597938483258 40.66677775537875)        21           0   \n",
       "5  POINT (-73.98494997200308 40.770045625891846)        11           0   \n",
       "6   POINT (-73.98533807200513 40.77020969000546)        11           0   \n",
       "7    POINT (-73.98729652382876 40.7627238542921)         9           0   \n",
       "8  POINT (-74.07625483097186 40.596579313729144)         6           0   \n",
       "9   POINT (-73.96974394191379 40.58635724735751)        21           0   \n",
       "\n",
       "         curb_loc status health                           spc_latin  ...  \\\n",
       "0          OnCurb  Alive   Fair                         Acer rubrum  ...   \n",
       "1          OnCurb  Alive   Fair                   Quercus palustris  ...   \n",
       "2          OnCurb  Alive   Good  Gleditsia triacanthos var. inermis  ...   \n",
       "3          OnCurb  Alive   Good  Gleditsia triacanthos var. inermis  ...   \n",
       "4          OnCurb  Alive   Good                     Tilia americana  ...   \n",
       "5          OnCurb  Alive   Good  Gleditsia triacanthos var. inermis  ...   \n",
       "6          OnCurb  Alive   Good  Gleditsia triacanthos var. inermis  ...   \n",
       "7          OnCurb  Alive   Good                     Tilia americana  ...   \n",
       "8          OnCurb  Alive   Good  Gleditsia triacanthos var. inermis  ...   \n",
       "9  OffsetFromCurb  Alive   Fair               Platanus x acerifolia  ...   \n",
       "\n",
       "  st_assem st_senate   nta                         nta_name  boro_ct  \\\n",
       "0       28        16  QN17                     Forest Hills  4073900   \n",
       "1       27        11  QN49                       Whitestone  4097300   \n",
       "2       50        18  BK90                East Williamsburg  3044900   \n",
       "3       53        18  BK90                East Williamsburg  3044900   \n",
       "4       44        21  BK37               Park Slope-Gowanus  3016500   \n",
       "5       67        27  MN14                   Lincoln Square  1014500   \n",
       "6       67        27  MN14                   Lincoln Square  1014500   \n",
       "7       75        27  MN15                          Clinton  1012700   \n",
       "8       64        23  SI14  Grasmere-Arrochar-Ft. Wadsworth  5006400   \n",
       "9       45        23  BK26                        Gravesend  3037402   \n",
       "\n",
       "      state   Latitude  longitude          x_sp           y_sp  \n",
       "0  New York  40.723092 -73.844215  1.027431e+06  202756.768749  \n",
       "1  New York  40.794111 -73.818679  1.034456e+06  228644.837379  \n",
       "2  New York  40.717581 -73.936608  1.001823e+06  200716.891267  \n",
       "3  New York  40.713537 -73.934456  1.002420e+06  199244.253136  \n",
       "4  New York  40.666778 -73.975979  9.909138e+05  182202.425999  \n",
       "5  New York  40.770046 -73.984950  9.884187e+05  219825.522669  \n",
       "6  New York  40.770210 -73.985338  9.883112e+05  219885.278455  \n",
       "7  New York  40.762724 -73.987297  9.877691e+05  217157.856088  \n",
       "8  New York  40.596579 -74.076255  9.630732e+05  156635.554233  \n",
       "9  New York  40.586357 -73.969744  9.926537e+05  152903.630594  \n",
       "\n",
       "[10 rows x 42 columns]"
      ]
     },
     "execution_count": 28,
     "metadata": {},
     "output_type": "execute_result"
    }
   ],
   "source": [
    "# from google.colab import drive\n",
    "import pandas as pd\n",
    "\n",
    "# Path to the CSV file in your Google Drive\n",
    "file_path = './data/2015StreetTreesCensus_TREES.csv'\n",
    "\n",
    "# Read the CSV file into a pandas DataFrame\n",
    "df = pd.read_csv(file_path)\n",
    "\n",
    "# Display the first few rows of the dataframe\n",
    "df.head(10)\n"
   ]
  },
  {
   "cell_type": "code",
   "execution_count": 29,
   "metadata": {
    "colab": {
     "base_uri": "https://localhost:8080/"
    },
    "executionInfo": {
     "elapsed": 956,
     "status": "ok",
     "timestamp": 1720680983806,
     "user": {
      "displayName": "Wanthanee Prachuabsupakij",
      "userId": "13160947104043617262"
     },
     "user_tz": -420
    },
    "id": "fOJqA-uGjJPt",
    "outputId": "cf966acb-de83-4853-d4bb-432c7f19fb1b"
   },
   "outputs": [
    {
     "name": "stdout",
     "output_type": "stream",
     "text": [
      "<class 'pandas.core.frame.DataFrame'>\n",
      "RangeIndex: 683788 entries, 0 to 683787\n",
      "Data columns (total 42 columns):\n",
      " #   Column      Non-Null Count   Dtype  \n",
      "---  ------      --------------   -----  \n",
      " 0   created_at  683788 non-null  object \n",
      " 1   tree_id     683788 non-null  int64  \n",
      " 2   block_id    683788 non-null  int64  \n",
      " 3   the_geom    683788 non-null  object \n",
      " 4   tree_dbh    683788 non-null  int64  \n",
      " 5   stump_diam  683788 non-null  int64  \n",
      " 6   curb_loc    683788 non-null  object \n",
      " 7   status      683788 non-null  object \n",
      " 8   health      652172 non-null  object \n",
      " 9   spc_latin   652169 non-null  object \n",
      " 10  spc_common  652169 non-null  object \n",
      " 11  steward     164350 non-null  object \n",
      " 12  guards      79866 non-null   object \n",
      " 13  sidewalk    652172 non-null  object \n",
      " 14  user_type   683788 non-null  object \n",
      " 15  problems    225844 non-null  object \n",
      " 16  root_stone  683788 non-null  object \n",
      " 17  root_grate  683788 non-null  object \n",
      " 18  root_other  683788 non-null  object \n",
      " 19  trnk_wire   683788 non-null  object \n",
      " 20  trnk_light  683788 non-null  object \n",
      " 21  trnk_other  683788 non-null  object \n",
      " 22  brnch_ligh  683788 non-null  object \n",
      " 23  brnch_shoe  683788 non-null  object \n",
      " 24  brnch_othe  683788 non-null  object \n",
      " 25  address     683788 non-null  object \n",
      " 26  zipcode     683788 non-null  int64  \n",
      " 27  zip_city    683788 non-null  object \n",
      " 28  cb_num      683788 non-null  int64  \n",
      " 29  borocode    683788 non-null  int64  \n",
      " 30  boroname    683788 non-null  object \n",
      " 31  cncldist    683788 non-null  int64  \n",
      " 32  st_assem    683788 non-null  int64  \n",
      " 33  st_senate   683788 non-null  int64  \n",
      " 34  nta         683788 non-null  object \n",
      " 35  nta_name    683788 non-null  object \n",
      " 36  boro_ct     683788 non-null  int64  \n",
      " 37  state       683788 non-null  object \n",
      " 38  Latitude    683788 non-null  float64\n",
      " 39  longitude   683788 non-null  float64\n",
      " 40  x_sp        683788 non-null  float64\n",
      " 41  y_sp        683788 non-null  float64\n",
      "dtypes: float64(4), int64(11), object(27)\n",
      "memory usage: 219.1+ MB\n"
     ]
    }
   ],
   "source": [
    "df.info()"
   ]
  },
  {
   "cell_type": "code",
   "execution_count": 30,
   "metadata": {
    "id": "-s2qwphHeL7V"
   },
   "outputs": [],
   "source": [
    "# prompt: how to show all columns in dataframe\n",
    "import pandas as pd\n",
    "pd.set_option('display.max_columns', None)\n"
   ]
  },
  {
   "cell_type": "code",
   "execution_count": 31,
   "metadata": {
    "colab": {
     "base_uri": "https://localhost:8080/",
     "height": 817
    },
    "executionInfo": {
     "elapsed": 420,
     "status": "ok",
     "timestamp": 1720681093384,
     "user": {
      "displayName": "Wanthanee Prachuabsupakij",
      "userId": "13160947104043617262"
     },
     "user_tz": -420
    },
    "id": "SiO5umlheVXd",
    "outputId": "400db196-29de-471e-f30c-26fa242e2642"
   },
   "outputs": [
    {
     "data": {
      "text/html": [
       "<div>\n",
       "<style scoped>\n",
       "    .dataframe tbody tr th:only-of-type {\n",
       "        vertical-align: middle;\n",
       "    }\n",
       "\n",
       "    .dataframe tbody tr th {\n",
       "        vertical-align: top;\n",
       "    }\n",
       "\n",
       "    .dataframe thead th {\n",
       "        text-align: right;\n",
       "    }\n",
       "</style>\n",
       "<table border=\"1\" class=\"dataframe\">\n",
       "  <thead>\n",
       "    <tr style=\"text-align: right;\">\n",
       "      <th></th>\n",
       "      <th>created_at</th>\n",
       "      <th>tree_id</th>\n",
       "      <th>block_id</th>\n",
       "      <th>the_geom</th>\n",
       "      <th>tree_dbh</th>\n",
       "      <th>stump_diam</th>\n",
       "      <th>curb_loc</th>\n",
       "      <th>status</th>\n",
       "      <th>health</th>\n",
       "      <th>spc_latin</th>\n",
       "      <th>spc_common</th>\n",
       "      <th>steward</th>\n",
       "      <th>guards</th>\n",
       "      <th>sidewalk</th>\n",
       "      <th>user_type</th>\n",
       "      <th>problems</th>\n",
       "      <th>root_stone</th>\n",
       "      <th>root_grate</th>\n",
       "      <th>root_other</th>\n",
       "      <th>trnk_wire</th>\n",
       "      <th>trnk_light</th>\n",
       "      <th>trnk_other</th>\n",
       "      <th>brnch_ligh</th>\n",
       "      <th>brnch_shoe</th>\n",
       "      <th>brnch_othe</th>\n",
       "      <th>address</th>\n",
       "      <th>zipcode</th>\n",
       "      <th>zip_city</th>\n",
       "      <th>cb_num</th>\n",
       "      <th>borocode</th>\n",
       "      <th>boroname</th>\n",
       "      <th>cncldist</th>\n",
       "      <th>st_assem</th>\n",
       "      <th>st_senate</th>\n",
       "      <th>nta</th>\n",
       "      <th>nta_name</th>\n",
       "      <th>boro_ct</th>\n",
       "      <th>state</th>\n",
       "      <th>Latitude</th>\n",
       "      <th>longitude</th>\n",
       "      <th>x_sp</th>\n",
       "      <th>y_sp</th>\n",
       "    </tr>\n",
       "  </thead>\n",
       "  <tbody>\n",
       "    <tr>\n",
       "      <th>0</th>\n",
       "      <td>08/27/2015</td>\n",
       "      <td>180683</td>\n",
       "      <td>348711</td>\n",
       "      <td>POINT (-73.84421521958048 40.723091773924274)</td>\n",
       "      <td>3</td>\n",
       "      <td>0</td>\n",
       "      <td>OnCurb</td>\n",
       "      <td>Alive</td>\n",
       "      <td>Fair</td>\n",
       "      <td>Acer rubrum</td>\n",
       "      <td>red maple</td>\n",
       "      <td>NaN</td>\n",
       "      <td>NaN</td>\n",
       "      <td>NoDamage</td>\n",
       "      <td>TreesCount Staff</td>\n",
       "      <td>NaN</td>\n",
       "      <td>No</td>\n",
       "      <td>No</td>\n",
       "      <td>No</td>\n",
       "      <td>No</td>\n",
       "      <td>No</td>\n",
       "      <td>No</td>\n",
       "      <td>No</td>\n",
       "      <td>No</td>\n",
       "      <td>No</td>\n",
       "      <td>108-005 70 AVENUE</td>\n",
       "      <td>11375</td>\n",
       "      <td>Forest Hills</td>\n",
       "      <td>406</td>\n",
       "      <td>4</td>\n",
       "      <td>Queens</td>\n",
       "      <td>29</td>\n",
       "      <td>28</td>\n",
       "      <td>16</td>\n",
       "      <td>QN17</td>\n",
       "      <td>Forest Hills</td>\n",
       "      <td>4073900</td>\n",
       "      <td>New York</td>\n",
       "      <td>40.723092</td>\n",
       "      <td>-73.844215</td>\n",
       "      <td>1.027431e+06</td>\n",
       "      <td>202756.768749</td>\n",
       "    </tr>\n",
       "    <tr>\n",
       "      <th>1</th>\n",
       "      <td>09/03/2015</td>\n",
       "      <td>200540</td>\n",
       "      <td>315986</td>\n",
       "      <td>POINT (-73.81867945834878 40.79411066708779)</td>\n",
       "      <td>21</td>\n",
       "      <td>0</td>\n",
       "      <td>OnCurb</td>\n",
       "      <td>Alive</td>\n",
       "      <td>Fair</td>\n",
       "      <td>Quercus palustris</td>\n",
       "      <td>pin oak</td>\n",
       "      <td>NaN</td>\n",
       "      <td>NaN</td>\n",
       "      <td>Damage</td>\n",
       "      <td>TreesCount Staff</td>\n",
       "      <td>Stones</td>\n",
       "      <td>Yes</td>\n",
       "      <td>No</td>\n",
       "      <td>No</td>\n",
       "      <td>No</td>\n",
       "      <td>No</td>\n",
       "      <td>No</td>\n",
       "      <td>No</td>\n",
       "      <td>No</td>\n",
       "      <td>No</td>\n",
       "      <td>147-074 7 AVENUE</td>\n",
       "      <td>11357</td>\n",
       "      <td>Whitestone</td>\n",
       "      <td>407</td>\n",
       "      <td>4</td>\n",
       "      <td>Queens</td>\n",
       "      <td>19</td>\n",
       "      <td>27</td>\n",
       "      <td>11</td>\n",
       "      <td>QN49</td>\n",
       "      <td>Whitestone</td>\n",
       "      <td>4097300</td>\n",
       "      <td>New York</td>\n",
       "      <td>40.794111</td>\n",
       "      <td>-73.818679</td>\n",
       "      <td>1.034456e+06</td>\n",
       "      <td>228644.837379</td>\n",
       "    </tr>\n",
       "    <tr>\n",
       "      <th>2</th>\n",
       "      <td>09/05/2015</td>\n",
       "      <td>204026</td>\n",
       "      <td>218365</td>\n",
       "      <td>POINT (-73.93660770459083 40.717580740099116)</td>\n",
       "      <td>3</td>\n",
       "      <td>0</td>\n",
       "      <td>OnCurb</td>\n",
       "      <td>Alive</td>\n",
       "      <td>Good</td>\n",
       "      <td>Gleditsia triacanthos var. inermis</td>\n",
       "      <td>honeylocust</td>\n",
       "      <td>1or2</td>\n",
       "      <td>NaN</td>\n",
       "      <td>Damage</td>\n",
       "      <td>Volunteer</td>\n",
       "      <td>NaN</td>\n",
       "      <td>No</td>\n",
       "      <td>No</td>\n",
       "      <td>No</td>\n",
       "      <td>No</td>\n",
       "      <td>No</td>\n",
       "      <td>No</td>\n",
       "      <td>No</td>\n",
       "      <td>No</td>\n",
       "      <td>No</td>\n",
       "      <td>390 MORGAN AVENUE</td>\n",
       "      <td>11211</td>\n",
       "      <td>Brooklyn</td>\n",
       "      <td>301</td>\n",
       "      <td>3</td>\n",
       "      <td>Brooklyn</td>\n",
       "      <td>34</td>\n",
       "      <td>50</td>\n",
       "      <td>18</td>\n",
       "      <td>BK90</td>\n",
       "      <td>East Williamsburg</td>\n",
       "      <td>3044900</td>\n",
       "      <td>New York</td>\n",
       "      <td>40.717581</td>\n",
       "      <td>-73.936608</td>\n",
       "      <td>1.001823e+06</td>\n",
       "      <td>200716.891267</td>\n",
       "    </tr>\n",
       "    <tr>\n",
       "      <th>3</th>\n",
       "      <td>09/05/2015</td>\n",
       "      <td>204337</td>\n",
       "      <td>217969</td>\n",
       "      <td>POINT (-73.93445615919741 40.713537494833226)</td>\n",
       "      <td>10</td>\n",
       "      <td>0</td>\n",
       "      <td>OnCurb</td>\n",
       "      <td>Alive</td>\n",
       "      <td>Good</td>\n",
       "      <td>Gleditsia triacanthos var. inermis</td>\n",
       "      <td>honeylocust</td>\n",
       "      <td>NaN</td>\n",
       "      <td>NaN</td>\n",
       "      <td>Damage</td>\n",
       "      <td>Volunteer</td>\n",
       "      <td>Stones</td>\n",
       "      <td>Yes</td>\n",
       "      <td>No</td>\n",
       "      <td>No</td>\n",
       "      <td>No</td>\n",
       "      <td>No</td>\n",
       "      <td>No</td>\n",
       "      <td>No</td>\n",
       "      <td>No</td>\n",
       "      <td>No</td>\n",
       "      <td>1027 GRAND STREET</td>\n",
       "      <td>11211</td>\n",
       "      <td>Brooklyn</td>\n",
       "      <td>301</td>\n",
       "      <td>3</td>\n",
       "      <td>Brooklyn</td>\n",
       "      <td>34</td>\n",
       "      <td>53</td>\n",
       "      <td>18</td>\n",
       "      <td>BK90</td>\n",
       "      <td>East Williamsburg</td>\n",
       "      <td>3044900</td>\n",
       "      <td>New York</td>\n",
       "      <td>40.713537</td>\n",
       "      <td>-73.934456</td>\n",
       "      <td>1.002420e+06</td>\n",
       "      <td>199244.253136</td>\n",
       "    </tr>\n",
       "    <tr>\n",
       "      <th>4</th>\n",
       "      <td>08/30/2015</td>\n",
       "      <td>189565</td>\n",
       "      <td>223043</td>\n",
       "      <td>POINT (-73.97597938483258 40.66677775537875)</td>\n",
       "      <td>21</td>\n",
       "      <td>0</td>\n",
       "      <td>OnCurb</td>\n",
       "      <td>Alive</td>\n",
       "      <td>Good</td>\n",
       "      <td>Tilia americana</td>\n",
       "      <td>American linden</td>\n",
       "      <td>NaN</td>\n",
       "      <td>NaN</td>\n",
       "      <td>Damage</td>\n",
       "      <td>Volunteer</td>\n",
       "      <td>Stones</td>\n",
       "      <td>Yes</td>\n",
       "      <td>No</td>\n",
       "      <td>No</td>\n",
       "      <td>No</td>\n",
       "      <td>No</td>\n",
       "      <td>No</td>\n",
       "      <td>No</td>\n",
       "      <td>No</td>\n",
       "      <td>No</td>\n",
       "      <td>603 6 STREET</td>\n",
       "      <td>11215</td>\n",
       "      <td>Brooklyn</td>\n",
       "      <td>306</td>\n",
       "      <td>3</td>\n",
       "      <td>Brooklyn</td>\n",
       "      <td>39</td>\n",
       "      <td>44</td>\n",
       "      <td>21</td>\n",
       "      <td>BK37</td>\n",
       "      <td>Park Slope-Gowanus</td>\n",
       "      <td>3016500</td>\n",
       "      <td>New York</td>\n",
       "      <td>40.666778</td>\n",
       "      <td>-73.975979</td>\n",
       "      <td>9.909138e+05</td>\n",
       "      <td>182202.425999</td>\n",
       "    </tr>\n",
       "    <tr>\n",
       "      <th>5</th>\n",
       "      <td>08/30/2015</td>\n",
       "      <td>190422</td>\n",
       "      <td>106099</td>\n",
       "      <td>POINT (-73.98494997200308 40.770045625891846)</td>\n",
       "      <td>11</td>\n",
       "      <td>0</td>\n",
       "      <td>OnCurb</td>\n",
       "      <td>Alive</td>\n",
       "      <td>Good</td>\n",
       "      <td>Gleditsia triacanthos var. inermis</td>\n",
       "      <td>honeylocust</td>\n",
       "      <td>1or2</td>\n",
       "      <td>Helpful</td>\n",
       "      <td>NoDamage</td>\n",
       "      <td>Volunteer</td>\n",
       "      <td>NaN</td>\n",
       "      <td>No</td>\n",
       "      <td>No</td>\n",
       "      <td>No</td>\n",
       "      <td>No</td>\n",
       "      <td>No</td>\n",
       "      <td>No</td>\n",
       "      <td>No</td>\n",
       "      <td>No</td>\n",
       "      <td>No</td>\n",
       "      <td>8 COLUMBUS AVENUE</td>\n",
       "      <td>10023</td>\n",
       "      <td>New York</td>\n",
       "      <td>107</td>\n",
       "      <td>1</td>\n",
       "      <td>Manhattan</td>\n",
       "      <td>3</td>\n",
       "      <td>67</td>\n",
       "      <td>27</td>\n",
       "      <td>MN14</td>\n",
       "      <td>Lincoln Square</td>\n",
       "      <td>1014500</td>\n",
       "      <td>New York</td>\n",
       "      <td>40.770046</td>\n",
       "      <td>-73.984950</td>\n",
       "      <td>9.884187e+05</td>\n",
       "      <td>219825.522669</td>\n",
       "    </tr>\n",
       "    <tr>\n",
       "      <th>6</th>\n",
       "      <td>08/30/2015</td>\n",
       "      <td>190426</td>\n",
       "      <td>106099</td>\n",
       "      <td>POINT (-73.98533807200513 40.77020969000546)</td>\n",
       "      <td>11</td>\n",
       "      <td>0</td>\n",
       "      <td>OnCurb</td>\n",
       "      <td>Alive</td>\n",
       "      <td>Good</td>\n",
       "      <td>Gleditsia triacanthos var. inermis</td>\n",
       "      <td>honeylocust</td>\n",
       "      <td>1or2</td>\n",
       "      <td>Helpful</td>\n",
       "      <td>NoDamage</td>\n",
       "      <td>Volunteer</td>\n",
       "      <td>NaN</td>\n",
       "      <td>No</td>\n",
       "      <td>No</td>\n",
       "      <td>No</td>\n",
       "      <td>No</td>\n",
       "      <td>No</td>\n",
       "      <td>No</td>\n",
       "      <td>No</td>\n",
       "      <td>No</td>\n",
       "      <td>No</td>\n",
       "      <td>120 WEST 60 STREET</td>\n",
       "      <td>10023</td>\n",
       "      <td>New York</td>\n",
       "      <td>107</td>\n",
       "      <td>1</td>\n",
       "      <td>Manhattan</td>\n",
       "      <td>3</td>\n",
       "      <td>67</td>\n",
       "      <td>27</td>\n",
       "      <td>MN14</td>\n",
       "      <td>Lincoln Square</td>\n",
       "      <td>1014500</td>\n",
       "      <td>New York</td>\n",
       "      <td>40.770210</td>\n",
       "      <td>-73.985338</td>\n",
       "      <td>9.883112e+05</td>\n",
       "      <td>219885.278455</td>\n",
       "    </tr>\n",
       "    <tr>\n",
       "      <th>7</th>\n",
       "      <td>09/07/2015</td>\n",
       "      <td>208649</td>\n",
       "      <td>103940</td>\n",
       "      <td>POINT (-73.98729652382876 40.7627238542921)</td>\n",
       "      <td>9</td>\n",
       "      <td>0</td>\n",
       "      <td>OnCurb</td>\n",
       "      <td>Alive</td>\n",
       "      <td>Good</td>\n",
       "      <td>Tilia americana</td>\n",
       "      <td>American linden</td>\n",
       "      <td>NaN</td>\n",
       "      <td>NaN</td>\n",
       "      <td>NoDamage</td>\n",
       "      <td>Volunteer</td>\n",
       "      <td>MetalGrates</td>\n",
       "      <td>No</td>\n",
       "      <td>Yes</td>\n",
       "      <td>No</td>\n",
       "      <td>No</td>\n",
       "      <td>No</td>\n",
       "      <td>No</td>\n",
       "      <td>No</td>\n",
       "      <td>No</td>\n",
       "      <td>No</td>\n",
       "      <td>311 WEST 50 STREET</td>\n",
       "      <td>10019</td>\n",
       "      <td>New York</td>\n",
       "      <td>104</td>\n",
       "      <td>1</td>\n",
       "      <td>Manhattan</td>\n",
       "      <td>3</td>\n",
       "      <td>75</td>\n",
       "      <td>27</td>\n",
       "      <td>MN15</td>\n",
       "      <td>Clinton</td>\n",
       "      <td>1012700</td>\n",
       "      <td>New York</td>\n",
       "      <td>40.762724</td>\n",
       "      <td>-73.987297</td>\n",
       "      <td>9.877691e+05</td>\n",
       "      <td>217157.856088</td>\n",
       "    </tr>\n",
       "    <tr>\n",
       "      <th>8</th>\n",
       "      <td>09/08/2015</td>\n",
       "      <td>209610</td>\n",
       "      <td>407443</td>\n",
       "      <td>POINT (-74.07625483097186 40.596579313729144)</td>\n",
       "      <td>6</td>\n",
       "      <td>0</td>\n",
       "      <td>OnCurb</td>\n",
       "      <td>Alive</td>\n",
       "      <td>Good</td>\n",
       "      <td>Gleditsia triacanthos var. inermis</td>\n",
       "      <td>honeylocust</td>\n",
       "      <td>NaN</td>\n",
       "      <td>NaN</td>\n",
       "      <td>NoDamage</td>\n",
       "      <td>TreesCount Staff</td>\n",
       "      <td>NaN</td>\n",
       "      <td>No</td>\n",
       "      <td>No</td>\n",
       "      <td>No</td>\n",
       "      <td>No</td>\n",
       "      <td>No</td>\n",
       "      <td>No</td>\n",
       "      <td>No</td>\n",
       "      <td>No</td>\n",
       "      <td>No</td>\n",
       "      <td>65 JEROME AVENUE</td>\n",
       "      <td>10305</td>\n",
       "      <td>Staten Island</td>\n",
       "      <td>502</td>\n",
       "      <td>5</td>\n",
       "      <td>Staten Island</td>\n",
       "      <td>50</td>\n",
       "      <td>64</td>\n",
       "      <td>23</td>\n",
       "      <td>SI14</td>\n",
       "      <td>Grasmere-Arrochar-Ft. Wadsworth</td>\n",
       "      <td>5006400</td>\n",
       "      <td>New York</td>\n",
       "      <td>40.596579</td>\n",
       "      <td>-74.076255</td>\n",
       "      <td>9.630732e+05</td>\n",
       "      <td>156635.554233</td>\n",
       "    </tr>\n",
       "    <tr>\n",
       "      <th>9</th>\n",
       "      <td>08/31/2015</td>\n",
       "      <td>192755</td>\n",
       "      <td>207508</td>\n",
       "      <td>POINT (-73.96974394191379 40.58635724735751)</td>\n",
       "      <td>21</td>\n",
       "      <td>0</td>\n",
       "      <td>OffsetFromCurb</td>\n",
       "      <td>Alive</td>\n",
       "      <td>Fair</td>\n",
       "      <td>Platanus x acerifolia</td>\n",
       "      <td>London planetree</td>\n",
       "      <td>NaN</td>\n",
       "      <td>NaN</td>\n",
       "      <td>NoDamage</td>\n",
       "      <td>TreesCount Staff</td>\n",
       "      <td>NaN</td>\n",
       "      <td>No</td>\n",
       "      <td>No</td>\n",
       "      <td>No</td>\n",
       "      <td>No</td>\n",
       "      <td>No</td>\n",
       "      <td>No</td>\n",
       "      <td>No</td>\n",
       "      <td>No</td>\n",
       "      <td>No</td>\n",
       "      <td>638 AVENUE Z</td>\n",
       "      <td>11223</td>\n",
       "      <td>Brooklyn</td>\n",
       "      <td>313</td>\n",
       "      <td>3</td>\n",
       "      <td>Brooklyn</td>\n",
       "      <td>47</td>\n",
       "      <td>45</td>\n",
       "      <td>23</td>\n",
       "      <td>BK26</td>\n",
       "      <td>Gravesend</td>\n",
       "      <td>3037402</td>\n",
       "      <td>New York</td>\n",
       "      <td>40.586357</td>\n",
       "      <td>-73.969744</td>\n",
       "      <td>9.926537e+05</td>\n",
       "      <td>152903.630594</td>\n",
       "    </tr>\n",
       "  </tbody>\n",
       "</table>\n",
       "</div>"
      ],
      "text/plain": [
       "   created_at  tree_id  block_id  \\\n",
       "0  08/27/2015   180683    348711   \n",
       "1  09/03/2015   200540    315986   \n",
       "2  09/05/2015   204026    218365   \n",
       "3  09/05/2015   204337    217969   \n",
       "4  08/30/2015   189565    223043   \n",
       "5  08/30/2015   190422    106099   \n",
       "6  08/30/2015   190426    106099   \n",
       "7  09/07/2015   208649    103940   \n",
       "8  09/08/2015   209610    407443   \n",
       "9  08/31/2015   192755    207508   \n",
       "\n",
       "                                        the_geom  tree_dbh  stump_diam  \\\n",
       "0  POINT (-73.84421521958048 40.723091773924274)         3           0   \n",
       "1   POINT (-73.81867945834878 40.79411066708779)        21           0   \n",
       "2  POINT (-73.93660770459083 40.717580740099116)         3           0   \n",
       "3  POINT (-73.93445615919741 40.713537494833226)        10           0   \n",
       "4   POINT (-73.97597938483258 40.66677775537875)        21           0   \n",
       "5  POINT (-73.98494997200308 40.770045625891846)        11           0   \n",
       "6   POINT (-73.98533807200513 40.77020969000546)        11           0   \n",
       "7    POINT (-73.98729652382876 40.7627238542921)         9           0   \n",
       "8  POINT (-74.07625483097186 40.596579313729144)         6           0   \n",
       "9   POINT (-73.96974394191379 40.58635724735751)        21           0   \n",
       "\n",
       "         curb_loc status health                           spc_latin  \\\n",
       "0          OnCurb  Alive   Fair                         Acer rubrum   \n",
       "1          OnCurb  Alive   Fair                   Quercus palustris   \n",
       "2          OnCurb  Alive   Good  Gleditsia triacanthos var. inermis   \n",
       "3          OnCurb  Alive   Good  Gleditsia triacanthos var. inermis   \n",
       "4          OnCurb  Alive   Good                     Tilia americana   \n",
       "5          OnCurb  Alive   Good  Gleditsia triacanthos var. inermis   \n",
       "6          OnCurb  Alive   Good  Gleditsia triacanthos var. inermis   \n",
       "7          OnCurb  Alive   Good                     Tilia americana   \n",
       "8          OnCurb  Alive   Good  Gleditsia triacanthos var. inermis   \n",
       "9  OffsetFromCurb  Alive   Fair               Platanus x acerifolia   \n",
       "\n",
       "         spc_common steward   guards  sidewalk         user_type     problems  \\\n",
       "0         red maple     NaN      NaN  NoDamage  TreesCount Staff          NaN   \n",
       "1           pin oak     NaN      NaN    Damage  TreesCount Staff       Stones   \n",
       "2       honeylocust    1or2      NaN    Damage         Volunteer          NaN   \n",
       "3       honeylocust     NaN      NaN    Damage         Volunteer       Stones   \n",
       "4   American linden     NaN      NaN    Damage         Volunteer       Stones   \n",
       "5       honeylocust    1or2  Helpful  NoDamage         Volunteer          NaN   \n",
       "6       honeylocust    1or2  Helpful  NoDamage         Volunteer          NaN   \n",
       "7   American linden     NaN      NaN  NoDamage         Volunteer  MetalGrates   \n",
       "8       honeylocust     NaN      NaN  NoDamage  TreesCount Staff          NaN   \n",
       "9  London planetree     NaN      NaN  NoDamage  TreesCount Staff          NaN   \n",
       "\n",
       "  root_stone root_grate root_other trnk_wire trnk_light trnk_other brnch_ligh  \\\n",
       "0         No         No         No        No         No         No         No   \n",
       "1        Yes         No         No        No         No         No         No   \n",
       "2         No         No         No        No         No         No         No   \n",
       "3        Yes         No         No        No         No         No         No   \n",
       "4        Yes         No         No        No         No         No         No   \n",
       "5         No         No         No        No         No         No         No   \n",
       "6         No         No         No        No         No         No         No   \n",
       "7         No        Yes         No        No         No         No         No   \n",
       "8         No         No         No        No         No         No         No   \n",
       "9         No         No         No        No         No         No         No   \n",
       "\n",
       "  brnch_shoe brnch_othe             address  zipcode       zip_city  cb_num  \\\n",
       "0         No         No   108-005 70 AVENUE    11375   Forest Hills     406   \n",
       "1         No         No    147-074 7 AVENUE    11357     Whitestone     407   \n",
       "2         No         No   390 MORGAN AVENUE    11211       Brooklyn     301   \n",
       "3         No         No   1027 GRAND STREET    11211       Brooklyn     301   \n",
       "4         No         No        603 6 STREET    11215       Brooklyn     306   \n",
       "5         No         No   8 COLUMBUS AVENUE    10023       New York     107   \n",
       "6         No         No  120 WEST 60 STREET    10023       New York     107   \n",
       "7         No         No  311 WEST 50 STREET    10019       New York     104   \n",
       "8         No         No    65 JEROME AVENUE    10305  Staten Island     502   \n",
       "9         No         No        638 AVENUE Z    11223       Brooklyn     313   \n",
       "\n",
       "   borocode       boroname  cncldist  st_assem  st_senate   nta  \\\n",
       "0         4         Queens        29        28         16  QN17   \n",
       "1         4         Queens        19        27         11  QN49   \n",
       "2         3       Brooklyn        34        50         18  BK90   \n",
       "3         3       Brooklyn        34        53         18  BK90   \n",
       "4         3       Brooklyn        39        44         21  BK37   \n",
       "5         1      Manhattan         3        67         27  MN14   \n",
       "6         1      Manhattan         3        67         27  MN14   \n",
       "7         1      Manhattan         3        75         27  MN15   \n",
       "8         5  Staten Island        50        64         23  SI14   \n",
       "9         3       Brooklyn        47        45         23  BK26   \n",
       "\n",
       "                          nta_name  boro_ct     state   Latitude  longitude  \\\n",
       "0                     Forest Hills  4073900  New York  40.723092 -73.844215   \n",
       "1                       Whitestone  4097300  New York  40.794111 -73.818679   \n",
       "2                East Williamsburg  3044900  New York  40.717581 -73.936608   \n",
       "3                East Williamsburg  3044900  New York  40.713537 -73.934456   \n",
       "4               Park Slope-Gowanus  3016500  New York  40.666778 -73.975979   \n",
       "5                   Lincoln Square  1014500  New York  40.770046 -73.984950   \n",
       "6                   Lincoln Square  1014500  New York  40.770210 -73.985338   \n",
       "7                          Clinton  1012700  New York  40.762724 -73.987297   \n",
       "8  Grasmere-Arrochar-Ft. Wadsworth  5006400  New York  40.596579 -74.076255   \n",
       "9                        Gravesend  3037402  New York  40.586357 -73.969744   \n",
       "\n",
       "           x_sp           y_sp  \n",
       "0  1.027431e+06  202756.768749  \n",
       "1  1.034456e+06  228644.837379  \n",
       "2  1.001823e+06  200716.891267  \n",
       "3  1.002420e+06  199244.253136  \n",
       "4  9.909138e+05  182202.425999  \n",
       "5  9.884187e+05  219825.522669  \n",
       "6  9.883112e+05  219885.278455  \n",
       "7  9.877691e+05  217157.856088  \n",
       "8  9.630732e+05  156635.554233  \n",
       "9  9.926537e+05  152903.630594  "
      ]
     },
     "execution_count": 31,
     "metadata": {},
     "output_type": "execute_result"
    }
   ],
   "source": [
    "df.head(10)"
   ]
  },
  {
   "cell_type": "markdown",
   "metadata": {
    "id": "bRnUbNRqIaQn"
   },
   "source": [
    "** Get column titles**"
   ]
  },
  {
   "cell_type": "code",
   "execution_count": 32,
   "metadata": {
    "colab": {
     "base_uri": "https://localhost:8080/"
    },
    "executionInfo": {
     "elapsed": 960,
     "status": "ok",
     "timestamp": 1720681182207,
     "user": {
      "displayName": "Wanthanee Prachuabsupakij",
      "userId": "13160947104043617262"
     },
     "user_tz": -420
    },
    "id": "kIP1uha_Pp12",
    "outputId": "25ed0051-6f35-40b3-d75e-ecb90dd30f26"
   },
   "outputs": [
    {
     "name": "stdout",
     "output_type": "stream",
     "text": [
      "Column Titles: ['created_at' 'tree_id' 'block_id' 'the_geom' 'tree_dbh' 'stump_diam'\n",
      " 'curb_loc' 'status' 'health' 'spc_latin' 'spc_common' 'steward' 'guards'\n",
      " 'sidewalk' 'user_type' 'problems' 'root_stone' 'root_grate' 'root_other'\n",
      " 'trnk_wire' 'trnk_light' 'trnk_other' 'brnch_ligh' 'brnch_shoe'\n",
      " 'brnch_othe' 'address' 'zipcode' 'zip_city' 'cb_num' 'borocode'\n",
      " 'boroname' 'cncldist' 'st_assem' 'st_senate' 'nta' 'nta_name' 'boro_ct'\n",
      " 'state' 'Latitude' 'longitude' 'x_sp' 'y_sp']\n",
      "Column Titles: zip_city\n",
      "Column Titles: block_id\n",
      "Column Titles: tree_dbh\n"
     ]
    }
   ],
   "source": [
    "# Convert the DataFrame to a Numpy array\n",
    "tree_census = df.to_numpy()\n",
    "\n",
    "# Get column titles\n",
    "column_titles = df.columns.to_numpy()\n",
    "print(\"Column Titles:\", column_titles)\n",
    "\n",
    "print(\"Column Titles:\", column_titles[27])\n",
    "print(\"Column Titles:\", column_titles[2])\n",
    "print(\"Column Titles:\", column_titles[4])"
   ]
  },
  {
   "cell_type": "markdown",
   "metadata": {
    "id": "fKfDy1HFwgE3"
   },
   "source": [
    "**Slicing and indexing trees**"
   ]
  },
  {
   "cell_type": "code",
   "execution_count": 33,
   "metadata": {
    "colab": {
     "base_uri": "https://localhost:8080/"
    },
    "executionInfo": {
     "elapsed": 363,
     "status": "ok",
     "timestamp": 1720681364881,
     "user": {
      "displayName": "Wanthanee Prachuabsupakij",
      "userId": "13160947104043617262"
     },
     "user_tz": -420
    },
    "id": "hF2CziJeLkUq",
    "outputId": "82bdbac0-6094-4c44-db84-5c14cc50765c"
   },
   "outputs": [
    {
     "name": "stdout",
     "output_type": "stream",
     "text": [
      "[348711 315986 218365 217969 223043]\n",
      "207508\n",
      "[207508 302371 302371 415896 219493]\n"
     ]
    }
   ],
   "source": [
    "# Select all rows of block ID data from the second column\n",
    "block_ids = tree_census[:, 2]\n",
    "\n",
    "# Print the first five block_ids\n",
    "print(block_ids[:5])\n",
    "\n",
    "# Select the tenth block ID from block_ids\n",
    "tenth_block_id = block_ids[9]\n",
    "print(tenth_block_id)\n",
    "\n",
    "# Select five block IDs from block_ids starting with the tenth ID\n",
    "block_id_slice = block_ids[9:14]\n",
    "print(block_id_slice)"
   ]
  },
  {
   "cell_type": "markdown",
   "metadata": {
    "id": "FaXWm-NDZbjN"
   },
   "source": [
    "**Slicing and Indexing trees: specify the step size**"
   ]
  },
  {
   "cell_type": "code",
   "execution_count": 34,
   "metadata": {
    "colab": {
     "base_uri": "https://localhost:8080/"
    },
    "executionInfo": {
     "elapsed": 518,
     "status": "ok",
     "timestamp": 1720681462500,
     "user": {
      "displayName": "Wanthanee Prachuabsupakij",
      "userId": "13160947104043617262"
     },
     "user_tz": -420
    },
    "id": "Mu0t0_bMZekE",
    "outputId": "50faaefb-3e01-44a0-a2ed-1b0119b429b3"
   },
   "outputs": [
    {
     "name": "stdout",
     "output_type": "stream",
     "text": [
      "[3 21 3 10 21 11 11 9 6 21 11 8 13 22 30 12 2 14 14 10 11 14 4 9 2 5 33 19\n",
      " 9 9 7 3 7 5 4 12 13 12 24 20 13 12 36 29 6 9 18 13 13 9 19 17 32 28 7 10\n",
      " 5 3 8 10 6 2 8 5 5 26 10 18 11 25 15 13 5 26 36 16 13 2 2 4 22 28 42 12 3\n",
      " 3 26 3 26 18 24 32 13 11 22 38 18 2 29 11] \n",
      "\n",
      "[19 17 32 28 7 10 5 3 8 10 6 2 8 5 5 26 10 18 11 25 15 13 5 26 36 16 13 2\n",
      " 2 4 22 28 42 12 3 3 26 3 26 18 24 32 13 11 22 38 18 2 29 11 23] \n",
      "\n",
      "[19 32 7 5 8 6 8 5 10 11 15 5 36 13 2 22 42 3 26 26 24 13 22 18 29 23]\n"
     ]
    }
   ],
   "source": [
    "# Create an array of the first 100 trunk diameters from tree_census\n",
    "hundred_diameters = tree_census[:100, 4]\n",
    "print(hundred_diameters,\"\\n\")\n",
    "\n",
    "# Create an array of trunk diameters with even row indices from 50 to 100 inclusive\n",
    "every_diameter = tree_census[50:101, 4]\n",
    "print(every_diameter,\"\\n\")\n",
    "\n",
    "# Specify the step size\n",
    "every_two_diameter = tree_census[50:101:2, 4]\n",
    "print(every_two_diameter)"
   ]
  },
  {
   "cell_type": "markdown",
   "metadata": {
    "id": "vtB-5c00b6fS"
   },
   "source": [
    "**Sorting trees**"
   ]
  },
  {
   "cell_type": "code",
   "execution_count": 35,
   "metadata": {
    "colab": {
     "base_uri": "https://localhost:8080/"
    },
    "executionInfo": {
     "elapsed": 932,
     "status": "ok",
     "timestamp": 1719891017578,
     "user": {
      "displayName": "Wanthanee Prachuabsupakij",
      "userId": "13160947104043617262"
     },
     "user_tz": -420
    },
    "id": "keU7DJkbb9Pu",
    "outputId": "b5b30d6f-71cb-48d7-ca44-0464db6a812f"
   },
   "outputs": [
    {
     "name": "stdout",
     "output_type": "stream",
     "text": [
      "[0 0 0 ... 389 425 450] \n",
      "\n",
      "[74 74 74 74 75 76 76 77 78 79 79 80 80 80 81 87 88 88 88 89 89 89 89 91\n",
      " 94 94 98 99 99 100 102 104 105 106 106 109 109 110 110 118 120 120 122\n",
      " 123 123 127 127 128 131 132 132 139 140 141 141 142 143 145 147 149 149\n",
      " 151 154 159 164 165 168 169 170 172 172 175 177 181 183 195 198 199 204\n",
      " 204 204 210 217 228 234 248 250 255 261 266 281 282 291 293 298 318 318\n",
      " 389 425 450]\n"
     ]
    }
   ],
   "source": [
    "sorted_diameters = np.sort(tree_census[:, 4])\n",
    "print(sorted_diameters,\"\\n\")\n",
    "print(sorted_diameters[-100:])"
   ]
  },
  {
   "cell_type": "markdown",
   "metadata": {
    "id": "0E8lRK14puT0"
   },
   "source": [
    "**Using np.where()**"
   ]
  },
  {
   "cell_type": "code",
   "execution_count": 36,
   "metadata": {
    "colab": {
     "base_uri": "https://localhost:8080/"
    },
    "executionInfo": {
     "elapsed": 387,
     "status": "ok",
     "timestamp": 1720681731883,
     "user": {
      "displayName": "Wanthanee Prachuabsupakij",
      "userId": "13160947104043617262"
     },
     "user_tz": -420
    },
    "id": "xw4adIOup1bH",
    "outputId": "e98dba36-224d-4411-9deb-5b8e7fe54dea"
   },
   "outputs": [
    {
     "name": "stdout",
     "output_type": "stream",
     "text": [
      "(array([551980, 553978, 554466, 555946, 562030, 575243, 679352]),)\n",
      "Block 219890 Data:\n",
      " [['07/12/2015' 219890 110 'Brooklyn']\n",
      " ['07/12/2015' 219890 88 'Brooklyn']\n",
      " ['07/12/2015' 219890 79 'Brooklyn']\n",
      " ['07/12/2015' 219890 104 'Brooklyn']\n",
      " ['07/12/2015' 219890 0 'Brooklyn']\n",
      " ['07/12/2015' 219890 3 'Brooklyn']\n",
      " ['07/12/2015' 219890 2 'Brooklyn']]\n"
     ]
    }
   ],
   "source": [
    "# Create an array of row_indices for trees on block 219890\n",
    "row_indices = np.where(tree_census[:, 2] == 219890)\n",
    "print(row_indices)\n",
    "\n",
    "# Specify columns to include in the subset create_at, block_id, tree_dbh, zip_city\n",
    "columns_to_include = [0, 2, 4, 27]\n",
    "\n",
    "# Create an array which only contains data for trees on block 219890\n",
    "block_219890 = tree_census[row_indices][:, columns_to_include]\n",
    "print(\"Block 219890 Data:\\n\", block_219890)"
   ]
  },
  {
   "cell_type": "markdown",
   "metadata": {
    "id": "8Ww05nQ_sPiD"
   },
   "source": [
    "**Creating arrays from conditions**"
   ]
  },
  {
   "cell_type": "code",
   "execution_count": 37,
   "metadata": {
    "colab": {
     "base_uri": "https://localhost:8080/"
    },
    "executionInfo": {
     "elapsed": 386,
     "status": "ok",
     "timestamp": 1720681844415,
     "user": {
      "displayName": "Wanthanee Prachuabsupakij",
      "userId": "13160947104043617262"
     },
     "user_tz": -420
    },
    "id": "3MRm5n1bscep",
    "outputId": "59c7ef84-de63-46ae-99d7-42aea8f4a323"
   },
   "outputs": [
    {
     "name": "stdout",
     "output_type": "stream",
     "text": [
      "[100167 487485 553978]\n",
      "['New York' 'Jamaica' 'Brooklyn'] \n",
      "\n",
      "['Brooklyn' 'Bayside' 'Staten Island' 'Staten Island' 'New York'\n",
      " 'Brooklyn' 'Jamaica' 'Springfield Gardens' 'Bronx' 'Brooklyn' 'Bronx'\n",
      " 'Brooklyn' 'Staten Island' 'Bronx' 'New York' 'Staten Island'\n",
      " 'Far Rockaway' 'Brooklyn' 'Brooklyn' 'Brooklyn' 'Howard Beach'\n",
      " 'Forest Hills'] \n",
      "\n",
      "['Brooklyn' 'Bayside' 'Staten Island' 'Staten Island' 'New York']\n",
      "['Brooklyn' 'Brooklyn' 'Brooklyn' 'Howard Beach' 'Forest Hills']\n"
     ]
    }
   ],
   "source": [
    "# Find indices where tree_dbh == 88\n",
    "indices = np.where(tree_census[:, 4] == 88)[0]\n",
    "print(indices)\n",
    "\n",
    "trunk_stump_diameters = tree_census[indices,27] # 27 is column id\n",
    "print(trunk_stump_diameters,\"\\n\")\n",
    "\n",
    "# Find indices where tree_dbh > 200\n",
    "indices = np.where(tree_census[:, 4] > 200)[0]\n",
    "trunk_stump_diameters = tree_census[indices, 27]\n",
    "print(trunk_stump_diameters,\"\\n\")\n",
    "\n",
    "print(trunk_stump_diameters[:5])\n",
    "print(trunk_stump_diameters[-5:])"
   ]
  },
  {
   "cell_type": "markdown",
   "metadata": {
    "id": "XJmNDeEoW4Tr"
   },
   "source": [
    "##  แบบฝึกหัด Statistics with TreeData"
   ]
  },
  {
   "cell_type": "markdown",
   "metadata": {
    "id": "cEkA6GtbnxcD"
   },
   "source": [
    "ให้นักศึกษาแสดงค่ารวมของจำนวนต้นไม้ และ ค่าเฉลี่ยของจำนวนต้นไม้ทั้งหมดที่มี\n",
    "(column cb_num)  \n",
    "\n",
    "**ตัวอย่าง Output**\n",
    "\n",
    "Sum the number of tree: 234884873\n",
    "\n",
    "Mean the number of tree: 343.50540372162135"
   ]
  },
  {
   "cell_type": "code",
   "execution_count": 42,
   "metadata": {
    "colab": {
     "base_uri": "https://localhost:8080/"
    },
    "executionInfo": {
     "elapsed": 396,
     "status": "ok",
     "timestamp": 1720683115161,
     "user": {
      "displayName": "Wanthanee Prachuabsupakij",
      "userId": "13160947104043617262"
     },
     "user_tz": -420
    },
    "id": "4RwrZD6PkytD",
    "outputId": "5a18ede5-20b2-44af-9084-3bfa03d6bf13"
   },
   "outputs": [
    {
     "name": "stdout",
     "output_type": "stream",
     "text": [
      "Sum the number of tree: 234,884,873\n",
      "Mean the number of tree: 343.51\n"
     ]
    }
   ],
   "source": [
    "tree_census = df.to_numpy()\n",
    "column_titles = df.columns.to_numpy()\n",
    "\n",
    "# Find column index for cb_num\n",
    "cb_num_index = np.where(column_titles == 'cb_num')[0][0]\n",
    "\n",
    "sum_cb_num = np.sum(tree_census[:, cb_num_index])\n",
    "print(f\"Sum the number of tree: {sum_cb_num:,}\")\n",
    "\n",
    "mean_cb_num = np.mean(tree_census[:, cb_num_index])\n",
    "print(f\"Mean the number of tree: {mean_cb_num:,.2f}\")"
   ]
  },
  {
   "cell_type": "markdown",
   "metadata": {
    "id": "ArsQcDMkoG_k"
   },
   "source": [
    "ให้นักศึกษาแสดงจำนวนต้นไม้ทั้งหมดที่มีเฉพาะเมือง Newyork\n",
    "\n",
    "**ตัวอย่าง Output**\n",
    "\n",
    "Sum  of Trees at New York City: 6,909,057.00\n"
   ]
  },
  {
   "cell_type": "code",
   "execution_count": 44,
   "metadata": {
    "colab": {
     "base_uri": "https://localhost:8080/"
    },
    "executionInfo": {
     "elapsed": 624,
     "status": "ok",
     "timestamp": 1720684748573,
     "user": {
      "displayName": "Wanthanee Prachuabsupakij",
      "userId": "13160947104043617262"
     },
     "user_tz": -420
    },
    "id": "IXD_t7wWojz8",
    "outputId": "03b32879-b5d2-4adb-c784-3bbf6ee9b40b"
   },
   "outputs": [
    {
     "name": "stdout",
     "output_type": "stream",
     "text": [
      "Sum of Trees at New York City: 6,909,057.00\n"
     ]
    }
   ],
   "source": [
    "zip_city_index = np.where(column_titles == 'zip_city')[0][0]\n",
    "\n",
    "# Find indices where zip_city == New York\n",
    "indices = np.where(tree_census[:, zip_city_index] == 'New York')[0]\n",
    "\n",
    "# Find the sum of cb_num for trees in New York\n",
    "sum_cb_num = np.sum(tree_census[indices, cb_num_index])\n",
    "\n",
    "print(f\"Sum of Trees at New York City: {sum_cb_num:,.2f}\")"
   ]
  }
 ],
 "metadata": {
  "accelerator": "GPU",
  "colab": {
   "gpuType": "T4",
   "provenance": [
    {
     "file_id": "1KbsmfDpJJQFGXQN4EUo_WYi2BOO2BqjX",
     "timestamp": 1671079015458
    },
    {
     "file_id": "1VGBL9Mrqicw_r9dUOh-97fuVroU-mye-",
     "timestamp": 1595406421599
    },
    {
     "file_id": "1fNVhIqjmq7mS9M8DM21woLTUHNntklQM",
     "timestamp": 1594427320871
    }
   ]
  },
  "kernelspec": {
   "display_name": "venv",
   "language": "python",
   "name": "python3"
  },
  "language_info": {
   "codemirror_mode": {
    "name": "ipython",
    "version": 3
   },
   "file_extension": ".py",
   "mimetype": "text/x-python",
   "name": "python",
   "nbconvert_exporter": "python",
   "pygments_lexer": "ipython3",
   "version": "3.12.6"
  }
 },
 "nbformat": 4,
 "nbformat_minor": 0
}
