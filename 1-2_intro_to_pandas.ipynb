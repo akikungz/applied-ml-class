{
 "cells": [
  {
   "cell_type": "markdown",
   "metadata": {
    "id": "qjuJpDj_Uj23"
   },
   "source": [
    "# **pandas**\n",
    "\n",
    "ย่อมาจากคำว่า “panel data”\n",
    "\n",
    "https://pypi.org/project/pandas/\n",
    "\n",
    "ความสามารถของตัว pandas จัดการข้อมูลที่อยู่รูปแบบ tabular หรือในรูปแบบตาราง\n",
    "\n",
    "pandas เป็น library ที่เสริมความสามารถของ numpy ให้มากขึ้น\n",
    "\n",
    "เราได้เข้าใจพื้นฐานของ array มาจาก numpy มาแล้ว\n",
    "\n",
    "pandas อาจจะยังไม่ถูกติดตั้งมาพร้อม Python ดังนั้นจำเป็นจะต้องติดตั้งลงเครื่องก่อน เช่น\n",
    "```\n",
    "pip install pandas\n",
    "```"
   ]
  },
  {
   "cell_type": "markdown",
   "metadata": {
    "id": "DBQYMhU8Z8aO"
   },
   "source": [
    "import numpy as np\n",
    "\n",
    "import pandas as pd"
   ]
  },
  {
   "cell_type": "code",
   "execution_count": 1,
   "metadata": {
    "id": "-B94966WcwUP"
   },
   "outputs": [],
   "source": [
    "import numpy as np\n",
    "import pandas as pd"
   ]
  },
  {
   "cell_type": "markdown",
   "metadata": {
    "id": "cJ1WHxYdbG4M"
   },
   "source": [
    "##Series และ DataFrame\n",
    "\n",
    "Series (1D) - labeled, homogenous array of immutable size\n",
    "\n",
    "DataFrames (2D) - labeled, heterogeneously typed, size-mutable tabular data structures\n",
    "\n",
    "Series และ DataFrame เป็นเหมือนที่บรรจุข้อมูลเพื่อนำมาวิเคราะห์ในงาน data science\n",
    "\n",
    "Series หรือ อนุกรม คือชุดข้อมูลที่เรียงต่อกัน และเราจะอาศัยพื้นฐานความสามารถของ numpy\n",
    "\n",
    "DataFrame คือตารางของข้อมูล ซึ่งประกอบขึ้นจากหลาย ๆ Series\n",
    "\n",
    "ต่อไปเราจะใช้ประโยชน์จาก DataFrame"
   ]
  },
  {
   "cell_type": "markdown",
   "metadata": {
    "id": "pVteuE-MdHLe"
   },
   "source": [
    "###Creating a Series"
   ]
  },
  {
   "cell_type": "markdown",
   "metadata": {
    "id": "a2EQkAtEdfGR"
   },
   "source": [
    "**Creating an empty Series**"
   ]
  },
  {
   "cell_type": "code",
   "execution_count": 2,
   "metadata": {
    "colab": {
     "base_uri": "https://localhost:8080/",
     "height": 221
    },
    "executionInfo": {
     "elapsed": 520,
     "status": "ok",
     "timestamp": 1720684907171,
     "user": {
      "displayName": "Wanthanee Prachuabsupakij",
      "userId": "13160947104043617262"
     },
     "user_tz": -420
    },
    "id": "Yll16kYRdLgD",
    "outputId": "49af43a0-8c7c-4371-af05-1589c6915c15"
   },
   "outputs": [
    {
     "name": "stdout",
     "output_type": "stream",
     "text": [
      "Series([], dtype: object)\n"
     ]
    },
    {
     "data": {
      "text/plain": [
       "pandas.core.series.Series"
      ]
     },
     "execution_count": 2,
     "metadata": {},
     "output_type": "execute_result"
    }
   ],
   "source": [
    "myseries = pd.Series() # The Series() function creates a new Series\n",
    "print(myseries)\n",
    "type(myseries)"
   ]
  },
  {
   "cell_type": "code",
   "execution_count": 3,
   "metadata": {
    "colab": {
     "base_uri": "https://localhost:8080/"
    },
    "executionInfo": {
     "elapsed": 525,
     "status": "ok",
     "timestamp": 1720684940555,
     "user": {
      "displayName": "Wanthanee Prachuabsupakij",
      "userId": "13160947104043617262"
     },
     "user_tz": -420
    },
    "id": "IkiVuxPMe01P",
    "outputId": "1ff7330d-0ca6-4dfa-ab33-2d2120826d96"
   },
   "outputs": [
    {
     "name": "stdout",
     "output_type": "stream",
     "text": [
      "0     สุดา\n",
      "1    กันยา\n",
      "2     สมพร\n",
      "3      Ann\n",
      "4    Pimpa\n",
      "dtype: object\n",
      "0    1\n",
      "1    2\n",
      "2    9\n",
      "3    3\n",
      "dtype: int64\n"
     ]
    }
   ],
   "source": [
    "myseries1 = pd.Series(['สุดา','กันยา','สมพร','Ann','Pimpa'])\n",
    "print(myseries1)\n",
    "print(pd.Series([1,2,9,3])) #print ซีรีส์ออกมาจะอยู่ในรูปที่ดูเป็นระเบียบดูง่าย"
   ]
  },
  {
   "cell_type": "markdown",
   "metadata": {
    "id": "EA8MTrBdfUtp"
   },
   "source": [
    "dtype คือชนิดของข้อมูล เช่นเดียวกับในอาเรย์ของ numpy\n",
    "\n",
    "ชนิดข้อมูลสามารถระบุได้ตอนสร้างโดยเพิ่มคีย์เวิร์ด dtype"
   ]
  },
  {
   "cell_type": "code",
   "execution_count": 4,
   "metadata": {
    "colab": {
     "base_uri": "https://localhost:8080/"
    },
    "executionInfo": {
     "elapsed": 497,
     "status": "ok",
     "timestamp": 1720684986455,
     "user": {
      "displayName": "Wanthanee Prachuabsupakij",
      "userId": "13160947104043617262"
     },
     "user_tz": -420
    },
    "id": "V1ZJsfxzfnGa",
    "outputId": "54062140-e656-43a6-8c34-6344cace6a50"
   },
   "outputs": [
    {
     "name": "stdout",
     "output_type": "stream",
     "text": [
      "0    1.0\n",
      "1    2.0\n",
      "2    9.0\n",
      "3    3.1\n",
      "dtype: float64\n"
     ]
    }
   ],
   "source": [
    "print(pd.Series([1,2,'9',3.1],dtype='float64')) # หรือ dtype=float"
   ]
  },
  {
   "cell_type": "markdown",
   "metadata": {
    "id": "wwYM5fXxdpRs"
   },
   "source": [
    "**Creating a series from an ndarray**"
   ]
  },
  {
   "cell_type": "code",
   "execution_count": 5,
   "metadata": {
    "colab": {
     "base_uri": "https://localhost:8080/"
    },
    "executionInfo": {
     "elapsed": 479,
     "status": "ok",
     "timestamp": 1720685054086,
     "user": {
      "displayName": "Wanthanee Prachuabsupakij",
      "userId": "13160947104043617262"
     },
     "user_tz": -420
    },
    "id": "FmQPnXOkdYrC",
    "outputId": "fd7281ff-29f0-49c6-de90-0d97cc96ebe3"
   },
   "outputs": [
    {
     "name": "stdout",
     "output_type": "stream",
     "text": [
      "0    10\n",
      "1    20\n",
      "2    30\n",
      "3    40\n",
      "4    50\n",
      "dtype: int64\n",
      "RangeIndex(start=0, stop=5, step=1)\n"
     ]
    }
   ],
   "source": [
    "# Note that indexes are a assigned automatically if not specifies\n",
    "arr = np.array([10,20,30,40,50])\n",
    "series1 = pd.Series(arr)\n",
    "print(series1)\n",
    "print(series1.index)"
   ]
  },
  {
   "cell_type": "markdown",
   "metadata": {
    "id": "uyv1cApjd9hu"
   },
   "source": [
    "**Creating a series from a Python dict**"
   ]
  },
  {
   "cell_type": "code",
   "execution_count": 6,
   "metadata": {
    "colab": {
     "base_uri": "https://localhost:8080/"
    },
    "executionInfo": {
     "elapsed": 497,
     "status": "ok",
     "timestamp": 1720685111219,
     "user": {
      "displayName": "Wanthanee Prachuabsupakij",
      "userId": "13160947104043617262"
     },
     "user_tz": -420
    },
    "id": "2DYcMNYud-r4",
    "outputId": "97f623ff-f44d-4ae3-bd5f-2ed9bd416f39"
   },
   "outputs": [
    {
     "name": "stdout",
     "output_type": "stream",
     "text": [
      "a    10\n",
      "b    20\n",
      "c    30\n",
      "dtype: int64\n",
      "Index(['a', 'b', 'c'], dtype='object')\n"
     ]
    }
   ],
   "source": [
    "# Note that the keys of the dictionary are used to assign indexes during conversion\n",
    "data = {'a':10, 'b':20, 'c':30}\n",
    "series2 = pd.Series(data)\n",
    "print(series2)\n",
    "print(series2.index)"
   ]
  },
  {
   "cell_type": "markdown",
   "metadata": {
    "id": "nDuh4n1kg2Ft"
   },
   "source": [
    "index เป็นได้ทั้งตัวเลข หรือตัวอักษร"
   ]
  },
  {
   "cell_type": "markdown",
   "metadata": {
    "id": "tTurHXw6eEY9"
   },
   "source": [
    "###**Retrieving a part of the series**"
   ]
  },
  {
   "cell_type": "code",
   "execution_count": 7,
   "metadata": {
    "colab": {
     "base_uri": "https://localhost:8080/"
    },
    "executionInfo": {
     "elapsed": 506,
     "status": "ok",
     "timestamp": 1720685151592,
     "user": {
      "displayName": "Wanthanee Prachuabsupakij",
      "userId": "13160947104043617262"
     },
     "user_tz": -420
    },
    "id": "yc2aU2LmeIG9",
    "outputId": "799ee846-a807-40f7-b6a6-b496d85b6e0b"
   },
   "outputs": [
    {
     "name": "stdout",
     "output_type": "stream",
     "text": [
      "1    20\n",
      "2    30\n",
      "3    40\n",
      "dtype: int64\n"
     ]
    }
   ],
   "source": [
    "print(series1[1:4])"
   ]
  },
  {
   "cell_type": "markdown",
   "metadata": {
    "id": "zENe4xxSgHin"
   },
   "source": [
    "ข้อมูลภายในสามารถเข้าถึงได้โดยอาศัยดัชนีซึ่งอยู่ทางซ้าย\n",
    "\n",
    "เช่น"
   ]
  },
  {
   "cell_type": "markdown",
   "metadata": {
    "id": "Fm-Cb41Zj9oW"
   },
   "source": [
    "###การวิเคราะห์ข้อมูลใน Series"
   ]
  },
  {
   "cell_type": "code",
   "execution_count": 8,
   "metadata": {
    "colab": {
     "base_uri": "https://localhost:8080/"
    },
    "executionInfo": {
     "elapsed": 500,
     "status": "ok",
     "timestamp": 1720685173157,
     "user": {
      "displayName": "Wanthanee Prachuabsupakij",
      "userId": "13160947104043617262"
     },
     "user_tz": -420
    },
    "id": "w7BTN7RTkH4z",
    "outputId": "d660d3b7-d3a4-4938-db68-2c4823c24aab"
   },
   "outputs": [
    {
     "name": "stdout",
     "output_type": "stream",
     "text": [
      "131.68\n",
      "21.94666666666667\n",
      "54.4\n",
      "2\n",
      "10.8\n",
      "3\n",
      "16.299081773727828\n",
      "หมูน้อย    15.00\n",
      "มานพ       19.90\n",
      "สุดา       54.40\n",
      "สิทธา      10.80\n",
      "สามจอม     12.43\n",
      "วันดี      19.15\n",
      "dtype: float64\n"
     ]
    }
   ],
   "source": [
    "stu = pd.Series(\n",
    "    [15.0,19.9,54.4,10.8,12.43,19.15],\n",
    "    index=['หมูน้อย','มานพ','สุดา','สิทธา','สามจอม','วันดี']\n",
    ")\n",
    "print(stu.sum())\n",
    "print(stu.mean())\n",
    "print(stu.max())\n",
    "print(stu.argmax())\n",
    "print(stu.min())\n",
    "print(stu.argmin())\n",
    "print(stu.std())\n",
    "print(stu)"
   ]
  },
  {
   "cell_type": "markdown",
   "metadata": {
    "id": "tYksEcPNlHnD"
   },
   "source": [
    "###การเพิ่มและแก้ไขข้อมูล"
   ]
  },
  {
   "cell_type": "code",
   "execution_count": 9,
   "metadata": {
    "colab": {
     "base_uri": "https://localhost:8080/"
    },
    "executionInfo": {
     "elapsed": 494,
     "status": "ok",
     "timestamp": 1720685231761,
     "user": {
      "displayName": "Wanthanee Prachuabsupakij",
      "userId": "13160947104043617262"
     },
     "user_tz": -420
    },
    "id": "Vnkm7fDjk7ql",
    "outputId": "9a4da26c-216f-4fca-8d39-651bc7638f76"
   },
   "outputs": [
    {
     "name": "stdout",
     "output_type": "stream",
     "text": [
      "หมูน้อย    30.00\n",
      "มานพ       19.90\n",
      "สุดา       54.40\n",
      "สิทธา      10.80\n",
      "สามจอม     12.43\n",
      "วันดี      19.15\n",
      "มิตติ      31.80\n",
      "พาวา       23.57\n",
      "dtype: float64\n"
     ]
    }
   ],
   "source": [
    "stu['มิตติ'] = 31.8 #การเพิ่ม\n",
    "stu['พาวา'] = 23.57 #การเพิ่ม\n",
    "stu['หมูน้อย'] = 30 #แก้ไขข้อมูล\n",
    "print(stu)"
   ]
  },
  {
   "cell_type": "markdown",
   "metadata": {
    "id": "Zm0bkRj-loxp"
   },
   "source": [
    "Series เป็นแค่แถวของข้อมูลซึ่งมีเพียงมิติเดียว\n",
    "\n",
    "ถ้าเรามีข้อมูลหลายชุด จำเป็นจะต้องสร้าง Series หลายอัน\n",
    "\n",
    "Series หลายอันจะมารวมเข้าเป็นตาราง\n",
    "\n",
    "ตารางข้อมูลที่เกิดจากการรวมนั้นก็คือ DataFrames\n",
    "\n",
    "Series อาจเทียบได้กับ array 1 มิติ\n",
    "\n",
    "DataFrames อาจเทียบได้กับ array 2 มิติ"
   ]
  },
  {
   "cell_type": "markdown",
   "metadata": {
    "id": "da2GtVEHeQA0"
   },
   "source": [
    "##**DataFrames**\n",
    "1. A DataFrame is a 2D data structure in which data is aligned in a tabular fashion consisting of rows & columns\n",
    "2. A DataFrame can be created using the following constructor - pandas.DataFrame(data, index, dtype, copy)\n",
    "3. Data can be of multiple data types such as ndarray, list, constants, series, dict etc.\n",
    "4. Index Row and column labels of the dataframe; defaults to np.arrange(n) if no index is passed\n",
    "5. Data type of each column\n",
    "6. Creates a deep copy of the data, set to false as default"
   ]
  },
  {
   "cell_type": "markdown",
   "metadata": {
    "id": "8kqdxuRVejnt"
   },
   "source": [
    "###**Creating a DataFrame**\n",
    "\n",
    "DataFrame สามารถถูกสร้างขึ้นได้โดยใช้\n",
    "```\n",
    "pd.DataFrame()\n",
    "```\n",
    "วิธีการสร้างนั้นมีหลายวิธี"
   ]
  },
  {
   "cell_type": "markdown",
   "metadata": {
    "id": "3un3C527epNF"
   },
   "source": [
    "**Converting a list into a DataFrame**"
   ]
  },
  {
   "cell_type": "code",
   "execution_count": 10,
   "metadata": {
    "colab": {
     "base_uri": "https://localhost:8080/"
    },
    "executionInfo": {
     "elapsed": 571,
     "status": "ok",
     "timestamp": 1720685300674,
     "user": {
      "displayName": "Wanthanee Prachuabsupakij",
      "userId": "13160947104043617262"
     },
     "user_tz": -420
    },
    "id": "8wWjPtLneshj",
    "outputId": "e968d6d0-6fc4-4c53-f738-cd87d8cfef80"
   },
   "outputs": [
    {
     "name": "stdout",
     "output_type": "stream",
     "text": [
      "10\n",
      "30\n",
      "    0\n",
      "0  10\n",
      "1  20\n",
      "2  30\n",
      "3  40\n"
     ]
    }
   ],
   "source": [
    "list1 = [10, 20, 30, 40]\n",
    "print(list1[0])\n",
    "print(list1[2])\n",
    "table = pd.DataFrame(list1)\n",
    "print(table)\n"
   ]
  },
  {
   "cell_type": "markdown",
   "metadata": {
    "id": "RpkQnQRqoLwv"
   },
   "source": [
    "ตัวอย่าง สร้างตารางข้อมูลของนักเรียน ซึ่งข้อมูลประกอบไปด้วยชื่อ, เพศ, ส่วนสูง และน้ำหนัก ข้อมูลแต่ละอย่างใส่ในคนละคอลัมน์ และหนึ่งแถวคือนักเรียนหนึ่งคน"
   ]
  },
  {
   "cell_type": "code",
   "execution_count": 11,
   "metadata": {
    "colab": {
     "base_uri": "https://localhost:8080/"
    },
    "executionInfo": {
     "elapsed": 505,
     "status": "ok",
     "timestamp": 1720685338232,
     "user": {
      "displayName": "Wanthanee Prachuabsupakij",
      "userId": "13160947104043617262"
     },
     "user_tz": -420
    },
    "id": "1xkiYkbunqUr",
    "outputId": "090cb5c3-98e9-4d70-be37-6a40cc71a8a8"
   },
   "outputs": [
    {
     "name": "stdout",
     "output_type": "stream",
     "text": [
      "['สุดา', 'ญ', 150, 64]\n",
      "['ยานี', 'ญ', 157, 65]\n",
      "      0  1    2   3\n",
      "0  สุดา  ญ  150  64\n",
      "1  มานพ  ช  160  55\n",
      "2  ยานี  ญ  157  65\n"
     ]
    }
   ],
   "source": [
    "s = [['สุดา','ญ',150,64],\n",
    "     ['มานพ','ช',160,55],\n",
    "     ['ยานี','ญ',157,65]]\n",
    "print(s[0])\n",
    "print(s[2])\n",
    "stu = pd.DataFrame(s)\n",
    "print(stu)"
   ]
  },
  {
   "cell_type": "code",
   "execution_count": 12,
   "metadata": {
    "colab": {
     "base_uri": "https://localhost:8080/",
     "height": 143
    },
    "executionInfo": {
     "elapsed": 489,
     "status": "ok",
     "timestamp": 1720685406938,
     "user": {
      "displayName": "Wanthanee Prachuabsupakij",
      "userId": "13160947104043617262"
     },
     "user_tz": -420
    },
    "id": "cx_fNGsd1suO",
    "outputId": "a8f3c747-5a7f-47b8-d77d-e95109eb6576"
   },
   "outputs": [
    {
     "data": {
      "text/html": [
       "<div>\n",
       "<style scoped>\n",
       "    .dataframe tbody tr th:only-of-type {\n",
       "        vertical-align: middle;\n",
       "    }\n",
       "\n",
       "    .dataframe tbody tr th {\n",
       "        vertical-align: top;\n",
       "    }\n",
       "\n",
       "    .dataframe thead th {\n",
       "        text-align: right;\n",
       "    }\n",
       "</style>\n",
       "<table border=\"1\" class=\"dataframe\">\n",
       "  <thead>\n",
       "    <tr style=\"text-align: right;\">\n",
       "      <th></th>\n",
       "      <th>0</th>\n",
       "      <th>1</th>\n",
       "      <th>2</th>\n",
       "      <th>3</th>\n",
       "    </tr>\n",
       "  </thead>\n",
       "  <tbody>\n",
       "    <tr>\n",
       "      <th>0</th>\n",
       "      <td>สุดา</td>\n",
       "      <td>ญ</td>\n",
       "      <td>150</td>\n",
       "      <td>64</td>\n",
       "    </tr>\n",
       "    <tr>\n",
       "      <th>1</th>\n",
       "      <td>มานพ</td>\n",
       "      <td>ช</td>\n",
       "      <td>160</td>\n",
       "      <td>55</td>\n",
       "    </tr>\n",
       "    <tr>\n",
       "      <th>2</th>\n",
       "      <td>ยานี</td>\n",
       "      <td>ญ</td>\n",
       "      <td>157</td>\n",
       "      <td>65</td>\n",
       "    </tr>\n",
       "  </tbody>\n",
       "</table>\n",
       "</div>"
      ],
      "text/plain": [
       "      0  1    2   3\n",
       "0  สุดา  ญ  150  64\n",
       "1  มานพ  ช  160  55\n",
       "2  ยานี  ญ  157  65"
      ]
     },
     "execution_count": 12,
     "metadata": {},
     "output_type": "execute_result"
    }
   ],
   "source": [
    "stu"
   ]
  },
  {
   "cell_type": "code",
   "execution_count": 13,
   "metadata": {
    "colab": {
     "base_uri": "https://localhost:8080/",
     "height": 324
    },
    "executionInfo": {
     "elapsed": 677,
     "status": "ok",
     "timestamp": 1720685623857,
     "user": {
      "displayName": "Wanthanee Prachuabsupakij",
      "userId": "13160947104043617262"
     },
     "user_tz": -420
    },
    "id": "73jVFMRqgGrL",
    "outputId": "d9601dab-e8c4-42d0-a617-9917c53a3743"
   },
   "outputs": [
    {
     "name": "stdout",
     "output_type": "stream",
     "text": [
      "   one  two\n",
      "a  1.0    1\n",
      "b  2.0    2\n",
      "c  3.0    3\n",
      "d  NaN    4\n"
     ]
    },
    {
     "data": {
      "text/html": [
       "<div>\n",
       "<style scoped>\n",
       "    .dataframe tbody tr th:only-of-type {\n",
       "        vertical-align: middle;\n",
       "    }\n",
       "\n",
       "    .dataframe tbody tr th {\n",
       "        vertical-align: top;\n",
       "    }\n",
       "\n",
       "    .dataframe thead th {\n",
       "        text-align: right;\n",
       "    }\n",
       "</style>\n",
       "<table border=\"1\" class=\"dataframe\">\n",
       "  <thead>\n",
       "    <tr style=\"text-align: right;\">\n",
       "      <th></th>\n",
       "      <th>one</th>\n",
       "      <th>two</th>\n",
       "      <th>three</th>\n",
       "    </tr>\n",
       "  </thead>\n",
       "  <tbody>\n",
       "    <tr>\n",
       "      <th>0</th>\n",
       "      <td>1.0</td>\n",
       "      <td>1</td>\n",
       "      <td>10.0</td>\n",
       "    </tr>\n",
       "    <tr>\n",
       "      <th>1</th>\n",
       "      <td>2.0</td>\n",
       "      <td>2</td>\n",
       "      <td>20.0</td>\n",
       "    </tr>\n",
       "    <tr>\n",
       "      <th>2</th>\n",
       "      <td>3.0</td>\n",
       "      <td>3</td>\n",
       "      <td>30.0</td>\n",
       "    </tr>\n",
       "    <tr>\n",
       "      <th>3</th>\n",
       "      <td>NaN</td>\n",
       "      <td>4</td>\n",
       "      <td>NaN</td>\n",
       "    </tr>\n",
       "    <tr>\n",
       "      <th>4</th>\n",
       "      <td>NaN</td>\n",
       "      <td>11</td>\n",
       "      <td>13.0</td>\n",
       "    </tr>\n",
       "    <tr>\n",
       "      <th>5</th>\n",
       "      <td>NaN</td>\n",
       "      <td>17</td>\n",
       "      <td>19.0</td>\n",
       "    </tr>\n",
       "  </tbody>\n",
       "</table>\n",
       "</div>"
      ],
      "text/plain": [
       "   one  two  three\n",
       "0  1.0    1   10.0\n",
       "1  2.0    2   20.0\n",
       "2  3.0    3   30.0\n",
       "3  NaN    4    NaN\n",
       "4  NaN   11   13.0\n",
       "5  NaN   17   19.0"
      ]
     },
     "execution_count": 13,
     "metadata": {},
     "output_type": "execute_result"
    }
   ],
   "source": [
    "# The append() function can be used to add more rows to the DataFrame\n",
    "data2 = {'one':pd.Series([1,2,3], index = ['a', 'b', 'c']),\n",
    "        'two':pd.Series([1,2,3,4], index = ['a', 'b', 'c', 'd'])}\n",
    "table5 = pd.DataFrame(data2)\n",
    "print(table5)\n",
    "table5['three'] = pd.Series([10,20,30], index = ['a', 'b', 'c'])\n",
    "row = pd.DataFrame([[11,13],[17,19]], columns = ['two', 'three'])\n",
    "\n",
    "table6 = pd.concat([table5, row], ignore_index=True)\n",
    "table6\n"
   ]
  },
  {
   "cell_type": "code",
   "execution_count": 14,
   "metadata": {
    "colab": {
     "base_uri": "https://localhost:8080/",
     "height": 206
    },
    "executionInfo": {
     "elapsed": 361,
     "status": "ok",
     "timestamp": 1722830430600,
     "user": {
      "displayName": "Wanthanee Prachuabsupakij",
      "userId": "13160947104043617262"
     },
     "user_tz": -420
    },
    "id": "yxKfjMGnr2WK",
    "outputId": "581176ef-394b-4297-ba62-f764e01cbdf9"
   },
   "outputs": [
    {
     "data": {
      "text/html": [
       "<div>\n",
       "<style scoped>\n",
       "    .dataframe tbody tr th:only-of-type {\n",
       "        vertical-align: middle;\n",
       "    }\n",
       "\n",
       "    .dataframe tbody tr th {\n",
       "        vertical-align: top;\n",
       "    }\n",
       "\n",
       "    .dataframe thead th {\n",
       "        text-align: right;\n",
       "    }\n",
       "</style>\n",
       "<table border=\"1\" class=\"dataframe\">\n",
       "  <thead>\n",
       "    <tr style=\"text-align: right;\">\n",
       "      <th></th>\n",
       "      <th>doc</th>\n",
       "      <th>cat</th>\n",
       "      <th>bear</th>\n",
       "    </tr>\n",
       "  </thead>\n",
       "  <tbody>\n",
       "    <tr>\n",
       "      <th>a</th>\n",
       "      <td>9.0</td>\n",
       "      <td>5</td>\n",
       "      <td>10.0</td>\n",
       "    </tr>\n",
       "    <tr>\n",
       "      <th>b</th>\n",
       "      <td>8.0</td>\n",
       "      <td>4</td>\n",
       "      <td>20.0</td>\n",
       "    </tr>\n",
       "    <tr>\n",
       "      <th>c</th>\n",
       "      <td>7.0</td>\n",
       "      <td>3</td>\n",
       "      <td>NaN</td>\n",
       "    </tr>\n",
       "    <tr>\n",
       "      <th>d</th>\n",
       "      <td>6.0</td>\n",
       "      <td>2</td>\n",
       "      <td>NaN</td>\n",
       "    </tr>\n",
       "    <tr>\n",
       "      <th>e</th>\n",
       "      <td>NaN</td>\n",
       "      <td>1</td>\n",
       "      <td>NaN</td>\n",
       "    </tr>\n",
       "  </tbody>\n",
       "</table>\n",
       "</div>"
      ],
      "text/plain": [
       "   doc  cat  bear\n",
       "a  9.0    5  10.0\n",
       "b  8.0    4  20.0\n",
       "c  7.0    3   NaN\n",
       "d  6.0    2   NaN\n",
       "e  NaN    1   NaN"
      ]
     },
     "execution_count": 14,
     "metadata": {},
     "output_type": "execute_result"
    }
   ],
   "source": [
    "# The append() function can be used to add more rows to the DataFrame\n",
    "data2 = {'doc':pd.Series([9,8,7,6], index = ['a', 'b', 'c','d']),\n",
    "        'cat':pd.Series([5,4,3,2,1], index = ['a', 'b', 'c', 'd','e'])}\n",
    "table5 = pd.DataFrame(data2)\n",
    "table5['bear'] = pd.Series([10,20], index = ['a', 'b'])\n",
    "table5"
   ]
  },
  {
   "cell_type": "code",
   "execution_count": 15,
   "metadata": {
    "colab": {
     "base_uri": "https://localhost:8080/",
     "height": 206
    },
    "executionInfo": {
     "elapsed": 501,
     "status": "ok",
     "timestamp": 1720685687198,
     "user": {
      "displayName": "Wanthanee Prachuabsupakij",
      "userId": "13160947104043617262"
     },
     "user_tz": -420
    },
    "id": "nORqHMLDgQuD",
    "outputId": "76105875-24a8-42d3-dbd8-103ee45c6f9f"
   },
   "outputs": [
    {
     "data": {
      "text/html": [
       "<div>\n",
       "<style scoped>\n",
       "    .dataframe tbody tr th:only-of-type {\n",
       "        vertical-align: middle;\n",
       "    }\n",
       "\n",
       "    .dataframe tbody tr th {\n",
       "        vertical-align: top;\n",
       "    }\n",
       "\n",
       "    .dataframe thead th {\n",
       "        text-align: right;\n",
       "    }\n",
       "</style>\n",
       "<table border=\"1\" class=\"dataframe\">\n",
       "  <thead>\n",
       "    <tr style=\"text-align: right;\">\n",
       "      <th></th>\n",
       "      <th>one</th>\n",
       "      <th>two</th>\n",
       "      <th>three</th>\n",
       "    </tr>\n",
       "  </thead>\n",
       "  <tbody>\n",
       "    <tr>\n",
       "      <th>1</th>\n",
       "      <td>2.0</td>\n",
       "      <td>2</td>\n",
       "      <td>20.0</td>\n",
       "    </tr>\n",
       "    <tr>\n",
       "      <th>2</th>\n",
       "      <td>3.0</td>\n",
       "      <td>3</td>\n",
       "      <td>30.0</td>\n",
       "    </tr>\n",
       "    <tr>\n",
       "      <th>3</th>\n",
       "      <td>NaN</td>\n",
       "      <td>4</td>\n",
       "      <td>NaN</td>\n",
       "    </tr>\n",
       "    <tr>\n",
       "      <th>4</th>\n",
       "      <td>NaN</td>\n",
       "      <td>11</td>\n",
       "      <td>13.0</td>\n",
       "    </tr>\n",
       "    <tr>\n",
       "      <th>5</th>\n",
       "      <td>NaN</td>\n",
       "      <td>17</td>\n",
       "      <td>19.0</td>\n",
       "    </tr>\n",
       "  </tbody>\n",
       "</table>\n",
       "</div>"
      ],
      "text/plain": [
       "   one  two  three\n",
       "1  2.0    2   20.0\n",
       "2  3.0    3   30.0\n",
       "3  NaN    4    NaN\n",
       "4  NaN   11   13.0\n",
       "5  NaN   17   19.0"
      ]
     },
     "execution_count": 15,
     "metadata": {},
     "output_type": "execute_result"
    }
   ],
   "source": [
    "# The drop() function can be used to drop rows whose labels are provided\n",
    "table7 = table6.drop(0)\n",
    "table7"
   ]
  },
  {
   "cell_type": "code",
   "execution_count": 16,
   "metadata": {
    "colab": {
     "base_uri": "https://localhost:8080/",
     "height": 237
    },
    "executionInfo": {
     "elapsed": 515,
     "status": "ok",
     "timestamp": 1720685716517,
     "user": {
      "displayName": "Wanthanee Prachuabsupakij",
      "userId": "13160947104043617262"
     },
     "user_tz": -420
    },
    "id": "qzSF85yeXP8e",
    "outputId": "378f03ce-4053-4575-b3f7-bb37ec07c013"
   },
   "outputs": [
    {
     "data": {
      "text/html": [
       "<div>\n",
       "<style scoped>\n",
       "    .dataframe tbody tr th:only-of-type {\n",
       "        vertical-align: middle;\n",
       "    }\n",
       "\n",
       "    .dataframe tbody tr th {\n",
       "        vertical-align: top;\n",
       "    }\n",
       "\n",
       "    .dataframe thead th {\n",
       "        text-align: right;\n",
       "    }\n",
       "</style>\n",
       "<table border=\"1\" class=\"dataframe\">\n",
       "  <thead>\n",
       "    <tr style=\"text-align: right;\">\n",
       "      <th></th>\n",
       "      <th>one</th>\n",
       "      <th>two</th>\n",
       "    </tr>\n",
       "  </thead>\n",
       "  <tbody>\n",
       "    <tr>\n",
       "      <th>0</th>\n",
       "      <td>1.0</td>\n",
       "      <td>1</td>\n",
       "    </tr>\n",
       "    <tr>\n",
       "      <th>1</th>\n",
       "      <td>2.0</td>\n",
       "      <td>2</td>\n",
       "    </tr>\n",
       "    <tr>\n",
       "      <th>2</th>\n",
       "      <td>3.0</td>\n",
       "      <td>3</td>\n",
       "    </tr>\n",
       "    <tr>\n",
       "      <th>3</th>\n",
       "      <td>NaN</td>\n",
       "      <td>4</td>\n",
       "    </tr>\n",
       "    <tr>\n",
       "      <th>4</th>\n",
       "      <td>NaN</td>\n",
       "      <td>11</td>\n",
       "    </tr>\n",
       "    <tr>\n",
       "      <th>5</th>\n",
       "      <td>NaN</td>\n",
       "      <td>17</td>\n",
       "    </tr>\n",
       "  </tbody>\n",
       "</table>\n",
       "</div>"
      ],
      "text/plain": [
       "   one  two\n",
       "0  1.0    1\n",
       "1  2.0    2\n",
       "2  3.0    3\n",
       "3  NaN    4\n",
       "4  NaN   11\n",
       "5  NaN   17"
      ]
     },
     "execution_count": 16,
     "metadata": {},
     "output_type": "execute_result"
    }
   ],
   "source": [
    "table7 = table6.drop(['three'], axis=1)\n",
    "table7"
   ]
  },
  {
   "cell_type": "markdown",
   "metadata": {
    "id": "p3eNN7AO_uEl"
   },
   "source": [
    "##แบบฝึกหัด WS#2.1\n",
    "ขอให้นักศึกษานำข้อมูลจาก Wine dataset มาทำการคำนวณค่าทาง statistics\n",
    "โดยแสดงค่าต่อไปนี้\n",
    "ค่า sum\n",
    "ค่า mean\n",
    "ค่า max\n",
    "ค่า sd\n",
    "ของแต่ละแอททริบิวต์ และแสดงผลลัพธ์ออกมาทางจอภาพ\n",
    "\n"
   ]
  },
  {
   "cell_type": "code",
   "execution_count": 17,
   "metadata": {
    "colab": {
     "base_uri": "https://localhost:8080/"
    },
    "executionInfo": {
     "elapsed": 27016,
     "status": "ok",
     "timestamp": 1720685756397,
     "user": {
      "displayName": "Wanthanee Prachuabsupakij",
      "userId": "13160947104043617262"
     },
     "user_tz": -420
    },
    "id": "Izh9Bql8Eayx",
    "outputId": "b1ec099e-0827-43d1-bfde-3854dc4dc051"
   },
   "outputs": [],
   "source": [
    "# from google.colab import drive\n",
    "# drive.mount('/content/drive') #ระวังเครื่องหมาย ‘ กับ ' ต่างกันนะคะ"
   ]
  },
  {
   "cell_type": "code",
   "execution_count": 18,
   "metadata": {
    "colab": {
     "base_uri": "https://localhost:8080/",
     "height": 423
    },
    "executionInfo": {
     "elapsed": 1760,
     "status": "ok",
     "timestamp": 1720685787166,
     "user": {
      "displayName": "Wanthanee Prachuabsupakij",
      "userId": "13160947104043617262"
     },
     "user_tz": -420
    },
    "id": "Ry9kOJ-_uaSR",
    "outputId": "b9b54f51-f311-41ed-bed0-dbf1dcb336b9"
   },
   "outputs": [
    {
     "data": {
      "text/html": [
       "<div>\n",
       "<style scoped>\n",
       "    .dataframe tbody tr th:only-of-type {\n",
       "        vertical-align: middle;\n",
       "    }\n",
       "\n",
       "    .dataframe tbody tr th {\n",
       "        vertical-align: top;\n",
       "    }\n",
       "\n",
       "    .dataframe thead th {\n",
       "        text-align: right;\n",
       "    }\n",
       "</style>\n",
       "<table border=\"1\" class=\"dataframe\">\n",
       "  <thead>\n",
       "    <tr style=\"text-align: right;\">\n",
       "      <th></th>\n",
       "      <th>1</th>\n",
       "      <th>14.23</th>\n",
       "      <th>1.71</th>\n",
       "      <th>2.43</th>\n",
       "      <th>15.6</th>\n",
       "      <th>127</th>\n",
       "      <th>2.8</th>\n",
       "      <th>3.06</th>\n",
       "      <th>.28</th>\n",
       "      <th>2.29</th>\n",
       "      <th>5.64</th>\n",
       "      <th>1.04</th>\n",
       "      <th>3.92</th>\n",
       "      <th>1065</th>\n",
       "    </tr>\n",
       "  </thead>\n",
       "  <tbody>\n",
       "    <tr>\n",
       "      <th>0</th>\n",
       "      <td>1</td>\n",
       "      <td>13.20</td>\n",
       "      <td>1.78</td>\n",
       "      <td>2.14</td>\n",
       "      <td>11.2</td>\n",
       "      <td>100</td>\n",
       "      <td>2.65</td>\n",
       "      <td>2.76</td>\n",
       "      <td>0.26</td>\n",
       "      <td>1.28</td>\n",
       "      <td>4.38</td>\n",
       "      <td>1.05</td>\n",
       "      <td>3.40</td>\n",
       "      <td>1050</td>\n",
       "    </tr>\n",
       "    <tr>\n",
       "      <th>1</th>\n",
       "      <td>1</td>\n",
       "      <td>13.16</td>\n",
       "      <td>2.36</td>\n",
       "      <td>2.67</td>\n",
       "      <td>18.6</td>\n",
       "      <td>101</td>\n",
       "      <td>2.80</td>\n",
       "      <td>3.24</td>\n",
       "      <td>0.30</td>\n",
       "      <td>2.81</td>\n",
       "      <td>5.68</td>\n",
       "      <td>1.03</td>\n",
       "      <td>3.17</td>\n",
       "      <td>1185</td>\n",
       "    </tr>\n",
       "    <tr>\n",
       "      <th>2</th>\n",
       "      <td>1</td>\n",
       "      <td>14.37</td>\n",
       "      <td>1.95</td>\n",
       "      <td>2.50</td>\n",
       "      <td>16.8</td>\n",
       "      <td>113</td>\n",
       "      <td>3.85</td>\n",
       "      <td>3.49</td>\n",
       "      <td>0.24</td>\n",
       "      <td>2.18</td>\n",
       "      <td>7.80</td>\n",
       "      <td>0.86</td>\n",
       "      <td>3.45</td>\n",
       "      <td>1480</td>\n",
       "    </tr>\n",
       "    <tr>\n",
       "      <th>3</th>\n",
       "      <td>1</td>\n",
       "      <td>13.24</td>\n",
       "      <td>2.59</td>\n",
       "      <td>2.87</td>\n",
       "      <td>21.0</td>\n",
       "      <td>118</td>\n",
       "      <td>2.80</td>\n",
       "      <td>2.69</td>\n",
       "      <td>0.39</td>\n",
       "      <td>1.82</td>\n",
       "      <td>4.32</td>\n",
       "      <td>1.04</td>\n",
       "      <td>2.93</td>\n",
       "      <td>735</td>\n",
       "    </tr>\n",
       "    <tr>\n",
       "      <th>4</th>\n",
       "      <td>1</td>\n",
       "      <td>14.20</td>\n",
       "      <td>1.76</td>\n",
       "      <td>2.45</td>\n",
       "      <td>15.2</td>\n",
       "      <td>112</td>\n",
       "      <td>3.27</td>\n",
       "      <td>3.39</td>\n",
       "      <td>0.34</td>\n",
       "      <td>1.97</td>\n",
       "      <td>6.75</td>\n",
       "      <td>1.05</td>\n",
       "      <td>2.85</td>\n",
       "      <td>1450</td>\n",
       "    </tr>\n",
       "    <tr>\n",
       "      <th>...</th>\n",
       "      <td>...</td>\n",
       "      <td>...</td>\n",
       "      <td>...</td>\n",
       "      <td>...</td>\n",
       "      <td>...</td>\n",
       "      <td>...</td>\n",
       "      <td>...</td>\n",
       "      <td>...</td>\n",
       "      <td>...</td>\n",
       "      <td>...</td>\n",
       "      <td>...</td>\n",
       "      <td>...</td>\n",
       "      <td>...</td>\n",
       "      <td>...</td>\n",
       "    </tr>\n",
       "    <tr>\n",
       "      <th>172</th>\n",
       "      <td>3</td>\n",
       "      <td>13.71</td>\n",
       "      <td>5.65</td>\n",
       "      <td>2.45</td>\n",
       "      <td>20.5</td>\n",
       "      <td>95</td>\n",
       "      <td>1.68</td>\n",
       "      <td>0.61</td>\n",
       "      <td>0.52</td>\n",
       "      <td>1.06</td>\n",
       "      <td>7.70</td>\n",
       "      <td>0.64</td>\n",
       "      <td>1.74</td>\n",
       "      <td>740</td>\n",
       "    </tr>\n",
       "    <tr>\n",
       "      <th>173</th>\n",
       "      <td>3</td>\n",
       "      <td>13.40</td>\n",
       "      <td>3.91</td>\n",
       "      <td>2.48</td>\n",
       "      <td>23.0</td>\n",
       "      <td>102</td>\n",
       "      <td>1.80</td>\n",
       "      <td>0.75</td>\n",
       "      <td>0.43</td>\n",
       "      <td>1.41</td>\n",
       "      <td>7.30</td>\n",
       "      <td>0.70</td>\n",
       "      <td>1.56</td>\n",
       "      <td>750</td>\n",
       "    </tr>\n",
       "    <tr>\n",
       "      <th>174</th>\n",
       "      <td>3</td>\n",
       "      <td>13.27</td>\n",
       "      <td>4.28</td>\n",
       "      <td>2.26</td>\n",
       "      <td>20.0</td>\n",
       "      <td>120</td>\n",
       "      <td>1.59</td>\n",
       "      <td>0.69</td>\n",
       "      <td>0.43</td>\n",
       "      <td>1.35</td>\n",
       "      <td>10.20</td>\n",
       "      <td>0.59</td>\n",
       "      <td>1.56</td>\n",
       "      <td>835</td>\n",
       "    </tr>\n",
       "    <tr>\n",
       "      <th>175</th>\n",
       "      <td>3</td>\n",
       "      <td>13.17</td>\n",
       "      <td>2.59</td>\n",
       "      <td>2.37</td>\n",
       "      <td>20.0</td>\n",
       "      <td>120</td>\n",
       "      <td>1.65</td>\n",
       "      <td>0.68</td>\n",
       "      <td>0.53</td>\n",
       "      <td>1.46</td>\n",
       "      <td>9.30</td>\n",
       "      <td>0.60</td>\n",
       "      <td>1.62</td>\n",
       "      <td>840</td>\n",
       "    </tr>\n",
       "    <tr>\n",
       "      <th>176</th>\n",
       "      <td>3</td>\n",
       "      <td>14.13</td>\n",
       "      <td>4.10</td>\n",
       "      <td>2.74</td>\n",
       "      <td>24.5</td>\n",
       "      <td>96</td>\n",
       "      <td>2.05</td>\n",
       "      <td>0.76</td>\n",
       "      <td>0.56</td>\n",
       "      <td>1.35</td>\n",
       "      <td>9.20</td>\n",
       "      <td>0.61</td>\n",
       "      <td>1.60</td>\n",
       "      <td>560</td>\n",
       "    </tr>\n",
       "  </tbody>\n",
       "</table>\n",
       "<p>177 rows × 14 columns</p>\n",
       "</div>"
      ],
      "text/plain": [
       "     1  14.23  1.71  2.43  15.6  127   2.8  3.06   .28  2.29   5.64  1.04  \\\n",
       "0    1  13.20  1.78  2.14  11.2  100  2.65  2.76  0.26  1.28   4.38  1.05   \n",
       "1    1  13.16  2.36  2.67  18.6  101  2.80  3.24  0.30  2.81   5.68  1.03   \n",
       "2    1  14.37  1.95  2.50  16.8  113  3.85  3.49  0.24  2.18   7.80  0.86   \n",
       "3    1  13.24  2.59  2.87  21.0  118  2.80  2.69  0.39  1.82   4.32  1.04   \n",
       "4    1  14.20  1.76  2.45  15.2  112  3.27  3.39  0.34  1.97   6.75  1.05   \n",
       "..  ..    ...   ...   ...   ...  ...   ...   ...   ...   ...    ...   ...   \n",
       "172  3  13.71  5.65  2.45  20.5   95  1.68  0.61  0.52  1.06   7.70  0.64   \n",
       "173  3  13.40  3.91  2.48  23.0  102  1.80  0.75  0.43  1.41   7.30  0.70   \n",
       "174  3  13.27  4.28  2.26  20.0  120  1.59  0.69  0.43  1.35  10.20  0.59   \n",
       "175  3  13.17  2.59  2.37  20.0  120  1.65  0.68  0.53  1.46   9.30  0.60   \n",
       "176  3  14.13  4.10  2.74  24.5   96  2.05  0.76  0.56  1.35   9.20  0.61   \n",
       "\n",
       "     3.92  1065  \n",
       "0    3.40  1050  \n",
       "1    3.17  1185  \n",
       "2    3.45  1480  \n",
       "3    2.93   735  \n",
       "4    2.85  1450  \n",
       "..    ...   ...  \n",
       "172  1.74   740  \n",
       "173  1.56   750  \n",
       "174  1.56   835  \n",
       "175  1.62   840  \n",
       "176  1.60   560  \n",
       "\n",
       "[177 rows x 14 columns]"
      ]
     },
     "execution_count": 18,
     "metadata": {},
     "output_type": "execute_result"
    }
   ],
   "source": [
    "import pandas as pd\n",
    "path = './data/wine_data.csv'\n",
    "myfiledata = pd.read_csv(path) ## Dataset is now stored in a Pandas Dataframe\n",
    "myfiledata"
   ]
  },
  {
   "cell_type": "code",
   "execution_count": 19,
   "metadata": {
    "colab": {
     "base_uri": "https://localhost:8080/",
     "height": 383
    },
    "executionInfo": {
     "elapsed": 542,
     "status": "ok",
     "timestamp": 1720685810230,
     "user": {
      "displayName": "Wanthanee Prachuabsupakij",
      "userId": "13160947104043617262"
     },
     "user_tz": -420
    },
    "id": "W41GH63uu5hI",
    "outputId": "380ce154-1d0f-41a8-a4c7-9b9cf86de6fb"
   },
   "outputs": [
    {
     "data": {
      "text/html": [
       "<div>\n",
       "<style scoped>\n",
       "    .dataframe tbody tr th:only-of-type {\n",
       "        vertical-align: middle;\n",
       "    }\n",
       "\n",
       "    .dataframe tbody tr th {\n",
       "        vertical-align: top;\n",
       "    }\n",
       "\n",
       "    .dataframe thead th {\n",
       "        text-align: right;\n",
       "    }\n",
       "</style>\n",
       "<table border=\"1\" class=\"dataframe\">\n",
       "  <thead>\n",
       "    <tr style=\"text-align: right;\">\n",
       "      <th></th>\n",
       "      <th>Cultivator</th>\n",
       "      <th>Alchol</th>\n",
       "      <th>Malic_Acid</th>\n",
       "      <th>Ash</th>\n",
       "      <th>Alcalinity_of_Ash</th>\n",
       "      <th>Magnesium</th>\n",
       "      <th>Total_phenols</th>\n",
       "      <th>Falvanoids</th>\n",
       "      <th>Nonflavanoid_phenols</th>\n",
       "      <th>Proanthocyanins</th>\n",
       "      <th>Color_intensity</th>\n",
       "      <th>Hue</th>\n",
       "      <th>OD280</th>\n",
       "      <th>Proline</th>\n",
       "    </tr>\n",
       "  </thead>\n",
       "  <tbody>\n",
       "    <tr>\n",
       "      <th>168</th>\n",
       "      <td>3</td>\n",
       "      <td>13.58</td>\n",
       "      <td>2.58</td>\n",
       "      <td>2.69</td>\n",
       "      <td>24.5</td>\n",
       "      <td>105</td>\n",
       "      <td>1.55</td>\n",
       "      <td>0.84</td>\n",
       "      <td>0.39</td>\n",
       "      <td>1.54</td>\n",
       "      <td>8.660000</td>\n",
       "      <td>0.74</td>\n",
       "      <td>1.80</td>\n",
       "      <td>750</td>\n",
       "    </tr>\n",
       "    <tr>\n",
       "      <th>169</th>\n",
       "      <td>3</td>\n",
       "      <td>13.40</td>\n",
       "      <td>4.60</td>\n",
       "      <td>2.86</td>\n",
       "      <td>25.0</td>\n",
       "      <td>112</td>\n",
       "      <td>1.98</td>\n",
       "      <td>0.96</td>\n",
       "      <td>0.27</td>\n",
       "      <td>1.11</td>\n",
       "      <td>8.500000</td>\n",
       "      <td>0.67</td>\n",
       "      <td>1.92</td>\n",
       "      <td>630</td>\n",
       "    </tr>\n",
       "    <tr>\n",
       "      <th>170</th>\n",
       "      <td>3</td>\n",
       "      <td>12.20</td>\n",
       "      <td>3.03</td>\n",
       "      <td>2.32</td>\n",
       "      <td>19.0</td>\n",
       "      <td>96</td>\n",
       "      <td>1.25</td>\n",
       "      <td>0.49</td>\n",
       "      <td>0.40</td>\n",
       "      <td>0.73</td>\n",
       "      <td>5.500000</td>\n",
       "      <td>0.66</td>\n",
       "      <td>1.83</td>\n",
       "      <td>510</td>\n",
       "    </tr>\n",
       "    <tr>\n",
       "      <th>171</th>\n",
       "      <td>3</td>\n",
       "      <td>12.77</td>\n",
       "      <td>2.39</td>\n",
       "      <td>2.28</td>\n",
       "      <td>19.5</td>\n",
       "      <td>86</td>\n",
       "      <td>1.39</td>\n",
       "      <td>0.51</td>\n",
       "      <td>0.48</td>\n",
       "      <td>0.64</td>\n",
       "      <td>9.899999</td>\n",
       "      <td>0.57</td>\n",
       "      <td>1.63</td>\n",
       "      <td>470</td>\n",
       "    </tr>\n",
       "    <tr>\n",
       "      <th>172</th>\n",
       "      <td>3</td>\n",
       "      <td>14.16</td>\n",
       "      <td>2.51</td>\n",
       "      <td>2.48</td>\n",
       "      <td>20.0</td>\n",
       "      <td>91</td>\n",
       "      <td>1.68</td>\n",
       "      <td>0.70</td>\n",
       "      <td>0.44</td>\n",
       "      <td>1.24</td>\n",
       "      <td>9.700000</td>\n",
       "      <td>0.62</td>\n",
       "      <td>1.71</td>\n",
       "      <td>660</td>\n",
       "    </tr>\n",
       "    <tr>\n",
       "      <th>173</th>\n",
       "      <td>3</td>\n",
       "      <td>13.71</td>\n",
       "      <td>5.65</td>\n",
       "      <td>2.45</td>\n",
       "      <td>20.5</td>\n",
       "      <td>95</td>\n",
       "      <td>1.68</td>\n",
       "      <td>0.61</td>\n",
       "      <td>0.52</td>\n",
       "      <td>1.06</td>\n",
       "      <td>7.700000</td>\n",
       "      <td>0.64</td>\n",
       "      <td>1.74</td>\n",
       "      <td>740</td>\n",
       "    </tr>\n",
       "    <tr>\n",
       "      <th>174</th>\n",
       "      <td>3</td>\n",
       "      <td>13.40</td>\n",
       "      <td>3.91</td>\n",
       "      <td>2.48</td>\n",
       "      <td>23.0</td>\n",
       "      <td>102</td>\n",
       "      <td>1.80</td>\n",
       "      <td>0.75</td>\n",
       "      <td>0.43</td>\n",
       "      <td>1.41</td>\n",
       "      <td>7.300000</td>\n",
       "      <td>0.70</td>\n",
       "      <td>1.56</td>\n",
       "      <td>750</td>\n",
       "    </tr>\n",
       "    <tr>\n",
       "      <th>175</th>\n",
       "      <td>3</td>\n",
       "      <td>13.27</td>\n",
       "      <td>4.28</td>\n",
       "      <td>2.26</td>\n",
       "      <td>20.0</td>\n",
       "      <td>120</td>\n",
       "      <td>1.59</td>\n",
       "      <td>0.69</td>\n",
       "      <td>0.43</td>\n",
       "      <td>1.35</td>\n",
       "      <td>10.200000</td>\n",
       "      <td>0.59</td>\n",
       "      <td>1.56</td>\n",
       "      <td>835</td>\n",
       "    </tr>\n",
       "    <tr>\n",
       "      <th>176</th>\n",
       "      <td>3</td>\n",
       "      <td>13.17</td>\n",
       "      <td>2.59</td>\n",
       "      <td>2.37</td>\n",
       "      <td>20.0</td>\n",
       "      <td>120</td>\n",
       "      <td>1.65</td>\n",
       "      <td>0.68</td>\n",
       "      <td>0.53</td>\n",
       "      <td>1.46</td>\n",
       "      <td>9.300000</td>\n",
       "      <td>0.60</td>\n",
       "      <td>1.62</td>\n",
       "      <td>840</td>\n",
       "    </tr>\n",
       "    <tr>\n",
       "      <th>177</th>\n",
       "      <td>3</td>\n",
       "      <td>14.13</td>\n",
       "      <td>4.10</td>\n",
       "      <td>2.74</td>\n",
       "      <td>24.5</td>\n",
       "      <td>96</td>\n",
       "      <td>2.05</td>\n",
       "      <td>0.76</td>\n",
       "      <td>0.56</td>\n",
       "      <td>1.35</td>\n",
       "      <td>9.200000</td>\n",
       "      <td>0.61</td>\n",
       "      <td>1.60</td>\n",
       "      <td>560</td>\n",
       "    </tr>\n",
       "  </tbody>\n",
       "</table>\n",
       "</div>"
      ],
      "text/plain": [
       "     Cultivator  Alchol  Malic_Acid   Ash  Alcalinity_of_Ash  Magnesium  \\\n",
       "168           3   13.58        2.58  2.69               24.5        105   \n",
       "169           3   13.40        4.60  2.86               25.0        112   \n",
       "170           3   12.20        3.03  2.32               19.0         96   \n",
       "171           3   12.77        2.39  2.28               19.5         86   \n",
       "172           3   14.16        2.51  2.48               20.0         91   \n",
       "173           3   13.71        5.65  2.45               20.5         95   \n",
       "174           3   13.40        3.91  2.48               23.0        102   \n",
       "175           3   13.27        4.28  2.26               20.0        120   \n",
       "176           3   13.17        2.59  2.37               20.0        120   \n",
       "177           3   14.13        4.10  2.74               24.5         96   \n",
       "\n",
       "     Total_phenols  Falvanoids  Nonflavanoid_phenols  Proanthocyanins  \\\n",
       "168           1.55        0.84                  0.39             1.54   \n",
       "169           1.98        0.96                  0.27             1.11   \n",
       "170           1.25        0.49                  0.40             0.73   \n",
       "171           1.39        0.51                  0.48             0.64   \n",
       "172           1.68        0.70                  0.44             1.24   \n",
       "173           1.68        0.61                  0.52             1.06   \n",
       "174           1.80        0.75                  0.43             1.41   \n",
       "175           1.59        0.69                  0.43             1.35   \n",
       "176           1.65        0.68                  0.53             1.46   \n",
       "177           2.05        0.76                  0.56             1.35   \n",
       "\n",
       "     Color_intensity   Hue  OD280  Proline  \n",
       "168         8.660000  0.74   1.80      750  \n",
       "169         8.500000  0.67   1.92      630  \n",
       "170         5.500000  0.66   1.83      510  \n",
       "171         9.899999  0.57   1.63      470  \n",
       "172         9.700000  0.62   1.71      660  \n",
       "173         7.700000  0.64   1.74      740  \n",
       "174         7.300000  0.70   1.56      750  \n",
       "175        10.200000  0.59   1.56      835  \n",
       "176         9.300000  0.60   1.62      840  \n",
       "177         9.200000  0.61   1.60      560  "
      ]
     },
     "execution_count": 19,
     "metadata": {},
     "output_type": "execute_result"
    }
   ],
   "source": [
    "features = [\"Cultivator\", \"Alchol\", \"Malic_Acid\", \"Ash\", \"Alcalinity_of_Ash\", \"Magnesium\", \"Total_phenols\", \"Falvanoids\", \"Nonflavanoid_phenols\", \"Proanthocyanins\", \"Color_intensity\", \"Hue\", \"OD280\", \"Proline\"]\n",
    "winedata = pd.read_csv(path, names = features) #ถ้าอ่านจาก drive ให้ใช้ ตัวแปร path\n",
    "#winedata = pd.read_csv('wine_data.csv', names = features) #้ถ้าอ่านจาก local ให้ระบุชื่อไฟล์ได้เลย\n",
    "winedata.tail(10)"
   ]
  },
  {
   "cell_type": "code",
   "execution_count": 20,
   "metadata": {
    "colab": {
     "base_uri": "https://localhost:8080/",
     "height": 443
    },
    "executionInfo": {
     "elapsed": 505,
     "status": "ok",
     "timestamp": 1720685818515,
     "user": {
      "displayName": "Wanthanee Prachuabsupakij",
      "userId": "13160947104043617262"
     },
     "user_tz": -420
    },
    "id": "xzDGaBVOu8nR",
    "outputId": "cd64f9fc-5021-493c-8ac2-0222a1e1c7be"
   },
   "outputs": [
    {
     "data": {
      "text/html": [
       "<div>\n",
       "<style scoped>\n",
       "    .dataframe tbody tr th:only-of-type {\n",
       "        vertical-align: middle;\n",
       "    }\n",
       "\n",
       "    .dataframe tbody tr th {\n",
       "        vertical-align: top;\n",
       "    }\n",
       "\n",
       "    .dataframe thead th {\n",
       "        text-align: right;\n",
       "    }\n",
       "</style>\n",
       "<table border=\"1\" class=\"dataframe\">\n",
       "  <thead>\n",
       "    <tr style=\"text-align: right;\">\n",
       "      <th></th>\n",
       "      <th>Alchol</th>\n",
       "      <th>Malic_Acid</th>\n",
       "      <th>Ash</th>\n",
       "      <th>Alcalinity_of_Ash</th>\n",
       "      <th>Magnesium</th>\n",
       "      <th>Total_phenols</th>\n",
       "      <th>Falvanoids</th>\n",
       "      <th>Nonflavanoid_phenols</th>\n",
       "      <th>Proanthocyanins</th>\n",
       "      <th>Color_intensity</th>\n",
       "      <th>Hue</th>\n",
       "      <th>OD280</th>\n",
       "      <th>Proline</th>\n",
       "    </tr>\n",
       "  </thead>\n",
       "  <tbody>\n",
       "    <tr>\n",
       "      <th>0</th>\n",
       "      <td>14.23</td>\n",
       "      <td>1.71</td>\n",
       "      <td>2.43</td>\n",
       "      <td>15.6</td>\n",
       "      <td>127</td>\n",
       "      <td>2.80</td>\n",
       "      <td>3.06</td>\n",
       "      <td>0.28</td>\n",
       "      <td>2.29</td>\n",
       "      <td>5.64</td>\n",
       "      <td>1.04</td>\n",
       "      <td>3.92</td>\n",
       "      <td>1065</td>\n",
       "    </tr>\n",
       "    <tr>\n",
       "      <th>1</th>\n",
       "      <td>13.20</td>\n",
       "      <td>1.78</td>\n",
       "      <td>2.14</td>\n",
       "      <td>11.2</td>\n",
       "      <td>100</td>\n",
       "      <td>2.65</td>\n",
       "      <td>2.76</td>\n",
       "      <td>0.26</td>\n",
       "      <td>1.28</td>\n",
       "      <td>4.38</td>\n",
       "      <td>1.05</td>\n",
       "      <td>3.40</td>\n",
       "      <td>1050</td>\n",
       "    </tr>\n",
       "    <tr>\n",
       "      <th>2</th>\n",
       "      <td>13.16</td>\n",
       "      <td>2.36</td>\n",
       "      <td>2.67</td>\n",
       "      <td>18.6</td>\n",
       "      <td>101</td>\n",
       "      <td>2.80</td>\n",
       "      <td>3.24</td>\n",
       "      <td>0.30</td>\n",
       "      <td>2.81</td>\n",
       "      <td>5.68</td>\n",
       "      <td>1.03</td>\n",
       "      <td>3.17</td>\n",
       "      <td>1185</td>\n",
       "    </tr>\n",
       "    <tr>\n",
       "      <th>3</th>\n",
       "      <td>14.37</td>\n",
       "      <td>1.95</td>\n",
       "      <td>2.50</td>\n",
       "      <td>16.8</td>\n",
       "      <td>113</td>\n",
       "      <td>3.85</td>\n",
       "      <td>3.49</td>\n",
       "      <td>0.24</td>\n",
       "      <td>2.18</td>\n",
       "      <td>7.80</td>\n",
       "      <td>0.86</td>\n",
       "      <td>3.45</td>\n",
       "      <td>1480</td>\n",
       "    </tr>\n",
       "    <tr>\n",
       "      <th>4</th>\n",
       "      <td>13.24</td>\n",
       "      <td>2.59</td>\n",
       "      <td>2.87</td>\n",
       "      <td>21.0</td>\n",
       "      <td>118</td>\n",
       "      <td>2.80</td>\n",
       "      <td>2.69</td>\n",
       "      <td>0.39</td>\n",
       "      <td>1.82</td>\n",
       "      <td>4.32</td>\n",
       "      <td>1.04</td>\n",
       "      <td>2.93</td>\n",
       "      <td>735</td>\n",
       "    </tr>\n",
       "    <tr>\n",
       "      <th>...</th>\n",
       "      <td>...</td>\n",
       "      <td>...</td>\n",
       "      <td>...</td>\n",
       "      <td>...</td>\n",
       "      <td>...</td>\n",
       "      <td>...</td>\n",
       "      <td>...</td>\n",
       "      <td>...</td>\n",
       "      <td>...</td>\n",
       "      <td>...</td>\n",
       "      <td>...</td>\n",
       "      <td>...</td>\n",
       "      <td>...</td>\n",
       "    </tr>\n",
       "    <tr>\n",
       "      <th>173</th>\n",
       "      <td>13.71</td>\n",
       "      <td>5.65</td>\n",
       "      <td>2.45</td>\n",
       "      <td>20.5</td>\n",
       "      <td>95</td>\n",
       "      <td>1.68</td>\n",
       "      <td>0.61</td>\n",
       "      <td>0.52</td>\n",
       "      <td>1.06</td>\n",
       "      <td>7.70</td>\n",
       "      <td>0.64</td>\n",
       "      <td>1.74</td>\n",
       "      <td>740</td>\n",
       "    </tr>\n",
       "    <tr>\n",
       "      <th>174</th>\n",
       "      <td>13.40</td>\n",
       "      <td>3.91</td>\n",
       "      <td>2.48</td>\n",
       "      <td>23.0</td>\n",
       "      <td>102</td>\n",
       "      <td>1.80</td>\n",
       "      <td>0.75</td>\n",
       "      <td>0.43</td>\n",
       "      <td>1.41</td>\n",
       "      <td>7.30</td>\n",
       "      <td>0.70</td>\n",
       "      <td>1.56</td>\n",
       "      <td>750</td>\n",
       "    </tr>\n",
       "    <tr>\n",
       "      <th>175</th>\n",
       "      <td>13.27</td>\n",
       "      <td>4.28</td>\n",
       "      <td>2.26</td>\n",
       "      <td>20.0</td>\n",
       "      <td>120</td>\n",
       "      <td>1.59</td>\n",
       "      <td>0.69</td>\n",
       "      <td>0.43</td>\n",
       "      <td>1.35</td>\n",
       "      <td>10.20</td>\n",
       "      <td>0.59</td>\n",
       "      <td>1.56</td>\n",
       "      <td>835</td>\n",
       "    </tr>\n",
       "    <tr>\n",
       "      <th>176</th>\n",
       "      <td>13.17</td>\n",
       "      <td>2.59</td>\n",
       "      <td>2.37</td>\n",
       "      <td>20.0</td>\n",
       "      <td>120</td>\n",
       "      <td>1.65</td>\n",
       "      <td>0.68</td>\n",
       "      <td>0.53</td>\n",
       "      <td>1.46</td>\n",
       "      <td>9.30</td>\n",
       "      <td>0.60</td>\n",
       "      <td>1.62</td>\n",
       "      <td>840</td>\n",
       "    </tr>\n",
       "    <tr>\n",
       "      <th>177</th>\n",
       "      <td>14.13</td>\n",
       "      <td>4.10</td>\n",
       "      <td>2.74</td>\n",
       "      <td>24.5</td>\n",
       "      <td>96</td>\n",
       "      <td>2.05</td>\n",
       "      <td>0.76</td>\n",
       "      <td>0.56</td>\n",
       "      <td>1.35</td>\n",
       "      <td>9.20</td>\n",
       "      <td>0.61</td>\n",
       "      <td>1.60</td>\n",
       "      <td>560</td>\n",
       "    </tr>\n",
       "  </tbody>\n",
       "</table>\n",
       "<p>178 rows × 13 columns</p>\n",
       "</div>"
      ],
      "text/plain": [
       "     Alchol  Malic_Acid   Ash  Alcalinity_of_Ash  Magnesium  Total_phenols  \\\n",
       "0     14.23        1.71  2.43               15.6        127           2.80   \n",
       "1     13.20        1.78  2.14               11.2        100           2.65   \n",
       "2     13.16        2.36  2.67               18.6        101           2.80   \n",
       "3     14.37        1.95  2.50               16.8        113           3.85   \n",
       "4     13.24        2.59  2.87               21.0        118           2.80   \n",
       "..      ...         ...   ...                ...        ...            ...   \n",
       "173   13.71        5.65  2.45               20.5         95           1.68   \n",
       "174   13.40        3.91  2.48               23.0        102           1.80   \n",
       "175   13.27        4.28  2.26               20.0        120           1.59   \n",
       "176   13.17        2.59  2.37               20.0        120           1.65   \n",
       "177   14.13        4.10  2.74               24.5         96           2.05   \n",
       "\n",
       "     Falvanoids  Nonflavanoid_phenols  Proanthocyanins  Color_intensity   Hue  \\\n",
       "0          3.06                  0.28             2.29             5.64  1.04   \n",
       "1          2.76                  0.26             1.28             4.38  1.05   \n",
       "2          3.24                  0.30             2.81             5.68  1.03   \n",
       "3          3.49                  0.24             2.18             7.80  0.86   \n",
       "4          2.69                  0.39             1.82             4.32  1.04   \n",
       "..          ...                   ...              ...              ...   ...   \n",
       "173        0.61                  0.52             1.06             7.70  0.64   \n",
       "174        0.75                  0.43             1.41             7.30  0.70   \n",
       "175        0.69                  0.43             1.35            10.20  0.59   \n",
       "176        0.68                  0.53             1.46             9.30  0.60   \n",
       "177        0.76                  0.56             1.35             9.20  0.61   \n",
       "\n",
       "     OD280  Proline  \n",
       "0     3.92     1065  \n",
       "1     3.40     1050  \n",
       "2     3.17     1185  \n",
       "3     3.45     1480  \n",
       "4     2.93      735  \n",
       "..     ...      ...  \n",
       "173   1.74      740  \n",
       "174   1.56      750  \n",
       "175   1.56      835  \n",
       "176   1.62      840  \n",
       "177   1.60      560  \n",
       "\n",
       "[178 rows x 13 columns]"
      ]
     },
     "execution_count": 20,
     "metadata": {},
     "output_type": "execute_result"
    }
   ],
   "source": [
    "winedata = winedata.drop(['Cultivator'], axis=1)\n",
    "winedata"
   ]
  },
  {
   "cell_type": "markdown",
   "metadata": {
    "id": "gbdPPBx4s32J"
   },
   "source": [
    "**แบบฝึกหัด**\n",
    "\n",
    "จงหาค่า sum ค่า mean ค่า max ค่า sd ของแต่ละแอททริบิวต์ และแสดงผลลัพธ์ออกมาทางจอภาพ\n",
    "\n",
    "ตัวอย่างค่า sum\n",
    "\n",
    "Alchol                    2314.110000\n",
    "\n",
    "Malic_Acid                 415.870000\n",
    "\n",
    "Ash                        421.240000\n",
    "\n",
    "Alcalinity_of_Ash         3470.100000\n",
    "\n",
    "Magnesium                17754.000000\n",
    "\n",
    "Total_phenols              408.530000\n",
    "\n",
    "Falvanoids                 361.210000\n",
    "\n",
    "Nonflavanoid_phenols        64.410000\n",
    "\n",
    "Proanthocyanins            283.180000\n",
    "\n",
    "Color_intensity            900.339999\n",
    "\n",
    "Hue                        170.426000\n",
    "\n",
    "OD280                      464.880000\n",
    "\n",
    "Proline                 132947.000000\n",
    "\n",
    "dtype: float64"
   ]
  },
  {
   "cell_type": "code",
   "execution_count": 25,
   "metadata": {
    "colab": {
     "base_uri": "https://localhost:8080/"
    },
    "executionInfo": {
     "elapsed": 367,
     "status": "ok",
     "timestamp": 1719894478240,
     "user": {
      "displayName": "Wanthanee Prachuabsupakij",
      "userId": "13160947104043617262"
     },
     "user_tz": -420
    },
    "id": "5vHxvl2IxYXO",
    "outputId": "1a4605eb-15f2-4936-a242-c6f79f40c5af"
   },
   "outputs": [
    {
     "name": "stdout",
     "output_type": "stream",
     "text": [
      "count    178.000000\n",
      "mean      13.000618\n",
      "std        0.811827\n",
      "min       11.030000\n",
      "25%       12.362500\n",
      "50%       13.050000\n",
      "75%       13.677500\n",
      "max       14.830000\n",
      "Name: Alchol, dtype: float64\n",
      "count    178.000000\n",
      "mean       2.336348\n",
      "std        1.117146\n",
      "min        0.740000\n",
      "25%        1.602500\n",
      "50%        1.865000\n",
      "75%        3.082500\n",
      "max        5.800000\n",
      "Name: Malic_Acid, dtype: float64\n",
      "count    178.000000\n",
      "mean       2.366517\n",
      "std        0.274344\n",
      "min        1.360000\n",
      "25%        2.210000\n",
      "50%        2.360000\n",
      "75%        2.557500\n",
      "max        3.230000\n",
      "Name: Ash, dtype: float64\n",
      "count    178.000000\n",
      "mean      19.494944\n",
      "std        3.339564\n",
      "min       10.600000\n",
      "25%       17.200000\n",
      "50%       19.500000\n",
      "75%       21.500000\n",
      "max       30.000000\n",
      "Name: Alcalinity_of_Ash, dtype: float64\n",
      "count    178.000000\n",
      "mean      99.741573\n",
      "std       14.282484\n",
      "min       70.000000\n",
      "25%       88.000000\n",
      "50%       98.000000\n",
      "75%      107.000000\n",
      "max      162.000000\n",
      "Name: Magnesium, dtype: float64\n",
      "count    178.000000\n",
      "mean       2.295112\n",
      "std        0.625851\n",
      "min        0.980000\n",
      "25%        1.742500\n",
      "50%        2.355000\n",
      "75%        2.800000\n",
      "max        3.880000\n",
      "Name: Total_phenols, dtype: float64\n",
      "count    178.000000\n",
      "mean       2.029270\n",
      "std        0.998859\n",
      "min        0.340000\n",
      "25%        1.205000\n",
      "50%        2.135000\n",
      "75%        2.875000\n",
      "max        5.080000\n",
      "Name: Falvanoids, dtype: float64\n",
      "count    178.000000\n",
      "mean       0.361854\n",
      "std        0.124453\n",
      "min        0.130000\n",
      "25%        0.270000\n",
      "50%        0.340000\n",
      "75%        0.437500\n",
      "max        0.660000\n",
      "Name: Nonflavanoid_phenols, dtype: float64\n",
      "count    178.000000\n",
      "mean       1.590899\n",
      "std        0.572359\n",
      "min        0.410000\n",
      "25%        1.250000\n",
      "50%        1.555000\n",
      "75%        1.950000\n",
      "max        3.580000\n",
      "Name: Proanthocyanins, dtype: float64\n",
      "count    178.000000\n",
      "mean       5.058090\n",
      "std        2.318286\n",
      "min        1.280000\n",
      "25%        3.220000\n",
      "50%        4.690000\n",
      "75%        6.200000\n",
      "max       13.000000\n",
      "Name: Color_intensity, dtype: float64\n",
      "count    178.000000\n",
      "mean       0.957449\n",
      "std        0.228572\n",
      "min        0.480000\n",
      "25%        0.782500\n",
      "50%        0.965000\n",
      "75%        1.120000\n",
      "max        1.710000\n",
      "Name: Hue, dtype: float64\n",
      "count    178.000000\n",
      "mean       2.611685\n",
      "std        0.709990\n",
      "min        1.270000\n",
      "25%        1.937500\n",
      "50%        2.780000\n",
      "75%        3.170000\n",
      "max        4.000000\n",
      "Name: OD280, dtype: float64\n",
      "count     178.000000\n",
      "mean      746.893258\n",
      "std       314.907474\n",
      "min       278.000000\n",
      "25%       500.500000\n",
      "50%       673.500000\n",
      "75%       985.000000\n",
      "max      1680.000000\n",
      "Name: Proline, dtype: float64\n"
     ]
    }
   ],
   "source": [
    "# เขียน code ตรงนี้\n",
    "col = winedata.columns.tolist()\n",
    "\n",
    "for i in col:\n",
    "    print(winedata[i].describe())"
   ]
  },
  {
   "cell_type": "markdown",
   "metadata": {
    "id": "L9TpbW8y0nrl"
   },
   "source": [
    "**จงแปลงผลลัพธ์ที่ได้ให้อยู่ในรูปแบบ DataFrame**"
   ]
  },
  {
   "cell_type": "code",
   "execution_count": null,
   "metadata": {
    "id": "NlE7EMQttZ36"
   },
   "outputs": [],
   "source": [
    "#เขียน code ต่อจากตรงนี้\n",
    "\n"
   ]
  },
  {
   "cell_type": "code",
   "execution_count": null,
   "metadata": {
    "colab": {
     "base_uri": "https://localhost:8080/",
     "height": 457
    },
    "executionInfo": {
     "elapsed": 335,
     "status": "ok",
     "timestamp": 1702968533857,
     "user": {
      "displayName": "Wanthanee Prachuabsupakij",
      "userId": "13160947104043617262"
     },
     "user_tz": -420
    },
    "id": "tbcgLy_ZxiDF",
    "outputId": "21217fa4-1283-432c-fbe8-a2cd3f467f1c"
   },
   "outputs": [],
   "source": [
    "#ตัวอย่างผลลัพธ์"
   ]
  },
  {
   "cell_type": "markdown",
   "metadata": {
    "id": "vC6UipxVvm_5"
   },
   "source": [
    "# แบบฝึกหัด DataFrame ชุดข้อมูล Sport Car Price"
   ]
  },
  {
   "cell_type": "markdown",
   "metadata": {
    "id": "gsIWQ5uIlib3"
   },
   "source": [
    "1. Copy file to \"csv\" folder then mount drive\n",
    "This dataset download from [kaggle](https://www.kaggle.com/datasets/rkiattisak/sports-car-prices-dataset?resource=download)"
   ]
  },
  {
   "cell_type": "code",
   "execution_count": null,
   "metadata": {
    "colab": {
     "base_uri": "https://localhost:8080/"
    },
    "executionInfo": {
     "elapsed": 24454,
     "status": "ok",
     "timestamp": 1721888403275,
     "user": {
      "displayName": "Wanthanee Prachuabsupakij",
      "userId": "13160947104043617262"
     },
     "user_tz": -420
    },
    "id": "wktvwQn1kVf5",
    "outputId": "32a5e15d-3d5b-49cf-d80e-57a12c0a4318"
   },
   "outputs": [],
   "source": [
    "# from google.colab import drive\n",
    "import pandas as pd\n",
    "\n",
    "# Mount Google Drive\n",
    "# drive.mount('/content/drive')\n",
    "\n",
    "# Path to the CSV file in your Google Drive\n",
    "file_path = './data/Sport_car_price.csv'\n",
    "\n",
    "# Read the CSV file into a pandas DataFrame\n",
    "car = pd.read_csv(file_path)"
   ]
  },
  {
   "cell_type": "markdown",
   "metadata": {
    "id": "Mtz3LtSDmBdH"
   },
   "source": [
    "Inspecting a DataFrame\n",
    "\n",
    "2. .**head**() returns the first few rows (the “head” of the DataFrame).\n",
    "\n",
    "\n",
    "\n"
   ]
  },
  {
   "cell_type": "code",
   "execution_count": null,
   "metadata": {
    "colab": {
     "base_uri": "https://localhost:8080/",
     "height": 415
    },
    "executionInfo": {
     "elapsed": 367,
     "status": "ok",
     "timestamp": 1721888819509,
     "user": {
      "displayName": "Wanthanee Prachuabsupakij",
      "userId": "13160947104043617262"
     },
     "user_tz": -420
    },
    "id": "8Y-P4X9ZmC6t",
    "outputId": "61f871cc-21fb-4e99-94e4-b2dde2441aad"
   },
   "outputs": [],
   "source": [
    "# Display the first few rows of the dataframe\n",
    "# Print the head of the sport_car_price data\n",
    "car.head(10)"
   ]
  },
  {
   "cell_type": "markdown",
   "metadata": {
    "id": "nyEECATSrW1O"
   },
   "source": [
    "3. .**info**() shows information on each of the columns, such as the data type and number of missing values.\n"
   ]
  },
  {
   "cell_type": "code",
   "execution_count": null,
   "metadata": {
    "colab": {
     "base_uri": "https://localhost:8080/"
    },
    "executionInfo": {
     "elapsed": 357,
     "status": "ok",
     "timestamp": 1721888710039,
     "user": {
      "displayName": "Wanthanee Prachuabsupakij",
      "userId": "13160947104043617262"
     },
     "user_tz": -420
    },
    "id": "qLrUvX0xmgl0",
    "outputId": "8bec2506-1aaa-4caa-d978-a738088447f2"
   },
   "outputs": [],
   "source": [
    "# Display the first few rows of the dataframe\n",
    "# Print information about `sport_car_price`\n",
    "car.info()"
   ]
  },
  {
   "cell_type": "markdown",
   "metadata": {
    "id": "mVIo-McZrccW"
   },
   "source": [
    "4. .**shape** returns the number of rows and columns of the DataFrame.\n"
   ]
  },
  {
   "cell_type": "code",
   "execution_count": null,
   "metadata": {
    "colab": {
     "base_uri": "https://localhost:8080/"
    },
    "executionInfo": {
     "elapsed": 361,
     "status": "ok",
     "timestamp": 1721888735526,
     "user": {
      "displayName": "Wanthanee Prachuabsupakij",
      "userId": "13160947104043617262"
     },
     "user_tz": -420
    },
    "id": "QonMrFnXmjlh",
    "outputId": "9d5d3c34-884d-4d1e-8e83-d2f3845e9d1c"
   },
   "outputs": [],
   "source": [
    "car.shape"
   ]
  },
  {
   "cell_type": "markdown",
   "metadata": {
    "id": "qHuNXzkqrgkX"
   },
   "source": [
    "5. .**describe**() calculates a few summary statistics for each column."
   ]
  },
  {
   "cell_type": "code",
   "execution_count": null,
   "metadata": {
    "colab": {
     "base_uri": "https://localhost:8080/",
     "height": 300
    },
    "executionInfo": {
     "elapsed": 346,
     "status": "ok",
     "timestamp": 1721888823840,
     "user": {
      "displayName": "Wanthanee Prachuabsupakij",
      "userId": "13160947104043617262"
     },
     "user_tz": -420
    },
    "id": "eZfJpF1tmmqj",
    "outputId": "90b3f8ec-08b7-4a99-9e49-8b1bc5fbd407"
   },
   "outputs": [],
   "source": [
    "car.describe()"
   ]
  },
  {
   "cell_type": "code",
   "execution_count": null,
   "metadata": {
    "colab": {
     "base_uri": "https://localhost:8080/"
    },
    "executionInfo": {
     "elapsed": 384,
     "status": "ok",
     "timestamp": 1721888894005,
     "user": {
      "displayName": "Wanthanee Prachuabsupakij",
      "userId": "13160947104043617262"
     },
     "user_tz": -420
    },
    "id": "fvdPQB2akrga",
    "outputId": "1ef62d13-0a8b-480a-869d-71f17b0a165c"
   },
   "outputs": [],
   "source": [
    "car['Price (in USD)'].describe()"
   ]
  },
  {
   "cell_type": "code",
   "execution_count": null,
   "metadata": {
    "colab": {
     "base_uri": "https://localhost:8080/"
    },
    "executionInfo": {
     "elapsed": 371,
     "status": "ok",
     "timestamp": 1721888929790,
     "user": {
      "displayName": "Wanthanee Prachuabsupakij",
      "userId": "13160947104043617262"
     },
     "user_tz": -420
    },
    "id": "J_DTsz9Zk9GZ",
    "outputId": "afd922d7-6dd8-489c-bfc4-f7a722cf3cc0"
   },
   "outputs": [],
   "source": [
    "car['Price (in USD)']"
   ]
  },
  {
   "cell_type": "code",
   "execution_count": null,
   "metadata": {
    "colab": {
     "base_uri": "https://localhost:8080/"
    },
    "executionInfo": {
     "elapsed": 372,
     "status": "ok",
     "timestamp": 1721889129229,
     "user": {
      "displayName": "Wanthanee Prachuabsupakij",
      "userId": "13160947104043617262"
     },
     "user_tz": -420
    },
    "id": "ryitLzg_2GgT",
    "outputId": "c7d94711-e1df-470c-b0b2-a1ae59ff20f7"
   },
   "outputs": [],
   "source": [
    "try:\n",
    "    car['Price (in USD)'] = car['Price (in USD)'].str.replace(',', '').astype(int)\n",
    "except Exception as e:\n",
    "    print(f\"An error occurred: {e}\")\n",
    "pd.options.display.float_format = '{:,.0f}'.format\n",
    "car['Price (in USD)'].describe()"
   ]
  },
  {
   "cell_type": "markdown",
   "metadata": {
    "id": "trcvqVGapSNG"
   },
   "source": [
    "6. Parts of a DataFrame\n",
    "\n",
    "*   .**values**: A two-dimensional NumPy array of values.\n",
    "*   .**columns**: An index of columns: the column names.\n",
    "*   .**index**: An index for the rows: either row numbers or row names."
   ]
  },
  {
   "cell_type": "code",
   "execution_count": null,
   "metadata": {
    "colab": {
     "base_uri": "https://localhost:8080/"
    },
    "executionInfo": {
     "elapsed": 365,
     "status": "ok",
     "timestamp": 1721889222438,
     "user": {
      "displayName": "Wanthanee Prachuabsupakij",
      "userId": "13160947104043617262"
     },
     "user_tz": -420
    },
    "id": "qIK9UXmxo71u",
    "outputId": "44290651-203d-48f0-9007-e7d9e747df4a"
   },
   "outputs": [],
   "source": [
    "# Print the values of sport_car_price\n",
    "print(car.values,\"\\n\")\n",
    "\n",
    "# Print the column index of sport_car_price\n",
    "print(car.columns,\"\\n\")\n",
    "\n",
    "# Print the row index of sport_car_price\n",
    "print(car.index)"
   ]
  },
  {
   "cell_type": "markdown",
   "metadata": {
    "id": "dJIqp7GKtXai"
   },
   "source": [
    "7. Sorting rows : use .**sort_values**()"
   ]
  },
  {
   "cell_type": "code",
   "execution_count": null,
   "metadata": {
    "colab": {
     "base_uri": "https://localhost:8080/",
     "height": 415
    },
    "executionInfo": {
     "elapsed": 371,
     "status": "ok",
     "timestamp": 1721889281081,
     "user": {
      "displayName": "Wanthanee Prachuabsupakij",
      "userId": "13160947104043617262"
     },
     "user_tz": -420
    },
    "id": "dLj0tTnEtYaR",
    "outputId": "edf5b43b-b929-4fc0-d305-b63d8dde864e"
   },
   "outputs": [],
   "source": [
    "# Convert 'Price (in USD)' to numeric, removing commas\n",
    "try:\n",
    "    car['Price (in USD)'] = car['Price (in USD)'].str.replace(',', '').astype(int)\n",
    "except Exception as e:\n",
    "    print(f\"An error occurred: {e}\")\n",
    "\n",
    "# Sort sport_car_price by individuals\n",
    "sport_car_price_size = car.sort_values(\"Price (in USD)\")\n",
    "\n",
    "# Print the top few rows\n",
    "sport_car_price_size.head(10)"
   ]
  },
  {
   "cell_type": "markdown",
   "metadata": {
    "id": "FzNXsccjG4js"
   },
   "source": [
    "8. Sorting rows : use .**sort_values**() : define ascending"
   ]
  },
  {
   "cell_type": "code",
   "execution_count": null,
   "metadata": {
    "colab": {
     "base_uri": "https://localhost:8080/",
     "height": 432
    },
    "executionInfo": {
     "elapsed": 349,
     "status": "ok",
     "timestamp": 1721889331474,
     "user": {
      "displayName": "Wanthanee Prachuabsupakij",
      "userId": "13160947104043617262"
     },
     "user_tz": -420
    },
    "id": "-0eusTSmwSIS",
    "outputId": "55924679-76c4-418c-9aaf-83a99b92a559"
   },
   "outputs": [],
   "source": [
    "# Sort sport_car_price by 'Price (in USD)'\n",
    "sport_car_price_size = car.sort_values(\"Price (in USD)\", ascending=False)\n",
    "\n",
    "# Print the top few rows\n",
    "sport_car_price_size.head(10)"
   ]
  },
  {
   "cell_type": "markdown",
   "metadata": {
    "id": "IecNaNrsHB3l"
   },
   "source": [
    "9. Sorting rows : use .**sort_values**() : define two value to sort"
   ]
  },
  {
   "cell_type": "code",
   "execution_count": null,
   "metadata": {
    "colab": {
     "base_uri": "https://localhost:8080/",
     "height": 1000
    },
    "executionInfo": {
     "elapsed": 366,
     "status": "ok",
     "timestamp": 1721889453991,
     "user": {
      "displayName": "Wanthanee Prachuabsupakij",
      "userId": "13160947104043617262"
     },
     "user_tz": -420
    },
    "id": "pgj0o0Tbxo7n",
    "outputId": "f421f01a-29f7-4057-97ba-16c493075f40"
   },
   "outputs": [],
   "source": [
    "# Sort sport_car_price by 'Car Make', then descending 'Price (in USD)'\n",
    "sport_car_price_make_price = car.sort_values([\"Car Make\", \"Price (in USD)\"], ascending=[True, False])\n",
    "\n",
    "# Print the top few rows\n",
    "sport_car_price_make_price.head(50)"
   ]
  },
  {
   "cell_type": "markdown",
   "metadata": {
    "id": "LYRJ5lWOzN6t"
   },
   "source": [
    "10. Subsetting columns"
   ]
  },
  {
   "cell_type": "code",
   "execution_count": null,
   "metadata": {
    "colab": {
     "base_uri": "https://localhost:8080/",
     "height": 362
    },
    "executionInfo": {
     "elapsed": 397,
     "status": "ok",
     "timestamp": 1721889517671,
     "user": {
      "displayName": "Wanthanee Prachuabsupakij",
      "userId": "13160947104043617262"
     },
     "user_tz": -420
    },
    "id": "NJzIIjttzP5o",
    "outputId": "b3732977-52fe-403f-9ffd-2534b5e358e5"
   },
   "outputs": [],
   "source": [
    "# Select the 'Car Make' and 'Price (in USD)' columns\n",
    "make_price = car[[\"Car Make\", \"Price (in USD)\"]]\n",
    "\n",
    "# Print the head of the result\n",
    "make_price.head(10)"
   ]
  },
  {
   "cell_type": "markdown",
   "metadata": {
    "id": "ggTb8Szsz-oF"
   },
   "source": [
    "11. Example of subsetting rows"
   ]
  },
  {
   "cell_type": "code",
   "execution_count": null,
   "metadata": {
    "colab": {
     "base_uri": "https://localhost:8080/",
     "height": 369
    },
    "executionInfo": {
     "elapsed": 350,
     "status": "ok",
     "timestamp": 1721889581435,
     "user": {
      "displayName": "Wanthanee Prachuabsupakij",
      "userId": "13160947104043617262"
     },
     "user_tz": -420
    },
    "id": "NkkVjfxH0BWt",
    "outputId": "dcb8f6ef-be58-43bd-833c-6e37cf5d121a"
   },
   "outputs": [],
   "source": [
    "# Filter for rows where Price (in USD) is greater than 3000000\n",
    "price_gt_3000k = car[car[\"Price (in USD)\"] > 3000000]\n",
    "\n",
    "price_gt_3000k_sorted = price_gt_3000k.sort_values(by=\"Price (in USD)\")\n",
    "\n",
    "# See the result\n",
    "price_gt_3000k_sorted.head(10)"
   ]
  },
  {
   "cell_type": "markdown",
   "metadata": {
    "id": "9WWNrSt0OwP8"
   },
   "source": [
    "12. Example of subsetting rows"
   ]
  },
  {
   "cell_type": "code",
   "execution_count": null,
   "metadata": {
    "colab": {
     "base_uri": "https://localhost:8080/",
     "height": 397
    },
    "executionInfo": {
     "elapsed": 427,
     "status": "ok",
     "timestamp": 1721889638985,
     "user": {
      "displayName": "Wanthanee Prachuabsupakij",
      "userId": "13160947104043617262"
     },
     "user_tz": -420
    },
    "id": "6UFjW_G81aSj",
    "outputId": "08bbba1c-a241-48eb-92e3-88bbe9e24635"
   },
   "outputs": [],
   "source": [
    "# Filter for rows where 'Car Make' is 'Audi'\n",
    "audi_make = car[car[\"Car Make\"] == \"Audi\"]\n",
    "\n",
    "audi_make_sorted = audi_make.sort_values(by=\"Price (in USD)\", ascending=False)\n",
    "\n",
    "# See the result\n",
    "audi_make_sorted.head(10)"
   ]
  },
  {
   "cell_type": "markdown",
   "metadata": {
    "id": "PHWsbEPGOyi0"
   },
   "source": [
    "13. Example of subsetting rows"
   ]
  },
  {
   "cell_type": "code",
   "execution_count": null,
   "metadata": {
    "colab": {
     "base_uri": "https://localhost:8080/",
     "height": 160
    },
    "executionInfo": {
     "elapsed": 501,
     "status": "ok",
     "timestamp": 1721889660167,
     "user": {
      "displayName": "Wanthanee Prachuabsupakij",
      "userId": "13160947104043617262"
     },
     "user_tz": -420
    },
    "id": "ftBKD45x2WdB",
    "outputId": "b4dd959a-f386-4c75-8c91-d33495b4e037"
   },
   "outputs": [],
   "source": [
    "# Filter for rows where 'Price (in USD)' is more than 120000\n",
    "# and 'Car Make' is 'Audi'\n",
    "price_120k_make = car[(car[\"Price (in USD)\"] > 120000) & (car[\"Car Make\"] == \"Audi\")]\n",
    "\n",
    "price_120k_make"
   ]
  },
  {
   "cell_type": "markdown",
   "metadata": {
    "id": "OmcMKZ454atN"
   },
   "source": [
    "14. Example of subsetting rows"
   ]
  },
  {
   "cell_type": "code",
   "execution_count": null,
   "metadata": {
    "colab": {
     "base_uri": "https://localhost:8080/",
     "height": 441
    },
    "executionInfo": {
     "elapsed": 363,
     "status": "ok",
     "timestamp": 1721889691919,
     "user": {
      "displayName": "Wanthanee Prachuabsupakij",
      "userId": "13160947104043617262"
     },
     "user_tz": -420
    },
    "id": "SmEs8l8H4p1N",
    "outputId": "0345e622-c507-406b-f6e3-0b06067d077e"
   },
   "outputs": [],
   "source": [
    "# Subset for rows in 'Audi' or 'BMW' car make\n",
    "audi_bmw = car[(car[\"Car Make\"] == \"Audi\") | (car[\"Car Make\"] == \"BMW\")]\n",
    "\n",
    "# See the result\n",
    "audi_bmw"
   ]
  },
  {
   "cell_type": "markdown",
   "metadata": {
    "id": "7knktEsBRiIt"
   },
   "source": [
    "15. Example of subsetting rows : use isin()"
   ]
  },
  {
   "cell_type": "code",
   "execution_count": null,
   "metadata": {
    "colab": {
     "base_uri": "https://localhost:8080/",
     "height": 475
    },
    "executionInfo": {
     "elapsed": 350,
     "status": "ok",
     "timestamp": 1721889755601,
     "user": {
      "displayName": "Wanthanee Prachuabsupakij",
      "userId": "13160947104043617262"
     },
     "user_tz": -420
    },
    "id": "w6RoON3K5Xv8",
    "outputId": "830f772a-42a4-4062-95eb-a0056c5183d0"
   },
   "outputs": [],
   "source": [
    "# The Car Make\n",
    "car_m = [\"Audi\", \"BMW\", \"Ford\", \"Porsche\"]\n",
    "\n",
    "# Filter for rows in the Car Make\n",
    "car_m_sport_car_price = car[car[\"Car Make\"].isin(car_m)]\n",
    "\n",
    "# See the result\n",
    "car_m_sport_car_price"
   ]
  },
  {
   "cell_type": "markdown",
   "metadata": {
    "id": "sWKxipezcc_y"
   },
   "source": [
    "16. Adding new columns"
   ]
  },
  {
   "cell_type": "code",
   "execution_count": null,
   "metadata": {
    "colab": {
     "base_uri": "https://localhost:8080/",
     "height": 493
    },
    "executionInfo": {
     "elapsed": 385,
     "status": "ok",
     "timestamp": 1721889813067,
     "user": {
      "displayName": "Wanthanee Prachuabsupakij",
      "userId": "13160947104043617262"
     },
     "user_tz": -420
    },
    "id": "5nHnMER6cg1j",
    "outputId": "2ee0963a-da7f-4fb3-959a-387c165dc28f"
   },
   "outputs": [],
   "source": [
    "# Add interest col (1.79%)\n",
    "car[\"Interest 1.79%\"] =  car[\"Price (in USD)\"] * 1.79  / 100\n",
    "\n",
    "# Add total col (Price (in USD)+Interest 1.79%)\n",
    "car[\"Total price (in USD)\"] =  car[\"Price (in USD)\"] + car[\"Interest 1.79%\"]\n",
    "\n",
    "# See the result\n",
    "car"
   ]
  },
  {
   "cell_type": "markdown",
   "metadata": {
    "id": "EpHpjHPBhM8i"
   },
   "source": [
    "16. **Summary statistics**\n",
    "*   .**mean**()\n",
    "*   .**median**()\n",
    "*   .**max**()\n",
    "*   .**min**()"
   ]
  },
  {
   "cell_type": "code",
   "execution_count": null,
   "metadata": {
    "colab": {
     "base_uri": "https://localhost:8080/"
    },
    "executionInfo": {
     "elapsed": 384,
     "status": "ok",
     "timestamp": 1721889832441,
     "user": {
      "displayName": "Wanthanee Prachuabsupakij",
      "userId": "13160947104043617262"
     },
     "user_tz": -420
    },
    "id": "U4I_c9yuhUWC",
    "outputId": "cc9ea3a8-4b79-4a9a-cbe2-2de45cfd2e00"
   },
   "outputs": [],
   "source": [
    "print(car[\"Price (in USD)\"].mean())\n",
    "print(car[\"Price (in USD)\"].median())\n",
    "print(car[\"Price (in USD)\"].max())\n",
    "print(car[\"Price (in USD)\"].min())"
   ]
  },
  {
   "cell_type": "markdown",
   "metadata": {
    "id": "9q_zG5gonIUT"
   },
   "source": [
    "18.   .**agg**(): to apply one or more aggregation functions to one or more columns of a DataFrame."
   ]
  },
  {
   "cell_type": "code",
   "execution_count": null,
   "metadata": {
    "colab": {
     "base_uri": "https://localhost:8080/"
    },
    "executionInfo": {
     "elapsed": 364,
     "status": "ok",
     "timestamp": 1721889974736,
     "user": {
      "displayName": "Wanthanee Prachuabsupakij",
      "userId": "13160947104043617262"
     },
     "user_tz": -420
    },
    "id": "BuCUXFsik0A0",
    "outputId": "ce90fcf7-5034-478a-ba5e-70452dc63027"
   },
   "outputs": [],
   "source": [
    "# Aggregating the mean and max of the \"Price (in USD)\" column\n",
    "agg_price = car[\"Price (in USD)\"].agg([\"min\", \"max\"])\n",
    "print(agg_price)\n",
    "\n",
    "# Custom function to find the range (max - min)\n",
    "def range_func(x):\n",
    "    return x.max() - x.min()\n",
    "\n",
    "# Aggregating with a custom function\n",
    "agg_custom = car[\"Price (in USD)\"].agg([\"median\", \"mean\", range_func])\n",
    "agg_custom\n"
   ]
  },
  {
   "cell_type": "markdown",
   "metadata": {
    "id": "D6goaE0OcIuC"
   },
   "source": [
    "# แบบฝึกหัด\n",
    "1. จงสร้าง subset  ชื่อ subset_year  เพื่อแสดงข้อมูลรถที่ผลิตในปี 2022 เท่านั้น"
   ]
  },
  {
   "cell_type": "code",
   "execution_count": null,
   "metadata": {
    "id": "3iKw8Ofacci6"
   },
   "outputs": [],
   "source": [
    "#เขียน code ตรงนี้\n"
   ]
  },
  {
   "cell_type": "code",
   "execution_count": null,
   "metadata": {
    "colab": {
     "base_uri": "https://localhost:8080/"
    },
    "executionInfo": {
     "elapsed": 444,
     "status": "ok",
     "timestamp": 1719990332319,
     "user": {
      "displayName": "Wanthanee Prachuabsupakij",
      "userId": "13160947104043617262"
     },
     "user_tz": -420
    },
    "id": "Vn3zYNgqZO3L",
    "outputId": "a940b7f0-c776-4dc6-a892-889e7f97cf3c"
   },
   "outputs": [],
   "source": [
    "#ตัวอย่างผลลัพธ์"
   ]
  },
  {
   "cell_type": "markdown",
   "metadata": {
    "id": "Pbnu7EY9cf4f"
   },
   "source": [
    "2. จงสร้าง subset_price  ที่นำ subset_year มากรองเฉพาะรถที่มีแรงม้ามากกว่า 400 และมีราคาต่ำกว่า 60000\n"
   ]
  },
  {
   "cell_type": "code",
   "execution_count": null,
   "metadata": {
    "id": "z5evMgxCcwvy"
   },
   "outputs": [],
   "source": [
    "#เขียน code ตรงนี้\n",
    "#\n"
   ]
  },
  {
   "cell_type": "code",
   "execution_count": null,
   "metadata": {
    "colab": {
     "base_uri": "https://localhost:8080/"
    },
    "executionInfo": {
     "elapsed": 400,
     "status": "ok",
     "timestamp": 1719990588174,
     "user": {
      "displayName": "Wanthanee Prachuabsupakij",
      "userId": "13160947104043617262"
     },
     "user_tz": -420
    },
    "id": "XAGshXuRabwL",
    "outputId": "654348e9-8174-4afd-f478-a3420c888fcf"
   },
   "outputs": [],
   "source": [
    "#ตัวอย่าง output\n"
   ]
  },
  {
   "cell_type": "markdown",
   "metadata": {
    "id": "yxOFjXAyc57L"
   },
   "source": [
    "3. จาก subset_price ให้สร้าง subset_brand เพื่อกรองเฉพาะข้อมูลรถยี่ห้อฟอร์ด และแสดงเฉพาะ 4 แอททริบิวต์ตามตัวอย่าง"
   ]
  },
  {
   "cell_type": "code",
   "execution_count": null,
   "metadata": {
    "id": "3riRUs9qdEVy"
   },
   "outputs": [],
   "source": [
    "#เขียน code ตรงนี้\n"
   ]
  },
  {
   "cell_type": "code",
   "execution_count": null,
   "metadata": {
    "colab": {
     "base_uri": "https://localhost:8080/"
    },
    "executionInfo": {
     "elapsed": 391,
     "status": "ok",
     "timestamp": 1719990676048,
     "user": {
      "displayName": "Wanthanee Prachuabsupakij",
      "userId": "13160947104043617262"
     },
     "user_tz": -420
    },
    "id": "6YWYhn8Ra3cz",
    "outputId": "9df18d41-6fac-4082-a689-7f8a72b64c36"
   },
   "outputs": [],
   "source": [
    "# ตัวอย่างผลลัพธ์"
   ]
  }
 ],
 "metadata": {
  "colab": {
   "authorship_tag": "ABX9TyPY87VZOrOBh72Tzbig5ct/",
   "provenance": []
  },
  "kernelspec": {
   "display_name": "venv",
   "language": "python",
   "name": "python3"
  },
  "language_info": {
   "codemirror_mode": {
    "name": "ipython",
    "version": 3
   },
   "file_extension": ".py",
   "mimetype": "text/x-python",
   "name": "python",
   "nbconvert_exporter": "python",
   "pygments_lexer": "ipython3",
   "version": "3.12.6"
  }
 },
 "nbformat": 4,
 "nbformat_minor": 0
}
