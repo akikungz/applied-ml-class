{
 "cells": [
  {
   "cell_type": "markdown",
   "metadata": {
    "id": "n3xfiZqa52Zl"
   },
   "source": [
    "#**Chapter 2_1**\n",
    "**https://is.gd/C1foVi**\n",
    "# **Data preprocessing using Scikit-Learn and Pandas**\n",
    "\n",
    "Day 2 [23 July 2020]"
   ]
  },
  {
   "cell_type": "markdown",
   "metadata": {
    "id": "7uJcQDA16XnZ"
   },
   "source": [
    "เขียนและเรียบเรียงโดย คุณครูพี่จ๊ะ (ดร.กาญจนา แสงทองพัฒนา )\n",
    "\n",
    "kanchana.sae@nectec.or.th\n",
    "\n",
    "สร้างเมื่อ 9 กรกฎาคม 2563\n",
    "\n",
    ">สำหรับการอบรมแบบออนไลน์ ภายใต้โครงการ การอบรบเรื่อง\n",
    "\n",
    "> \"**Introduction to machine learning with python**\"\n",
    "\n",
    "> ร่วมกับ ผศ.ดร. วันทนี ประจวบศุภกิจ และ ดร. ธนพล ตันติศรีปรีชา\n",
    "\n",
    ">>ให้กับนักศึกษา สาขาวิชาวิทยาการคอมพิวเตอร์ คณะวิทยาศาสตร์\n",
    "\n",
    ">>สถาบันเทคโนโลยีพระจอมเกล้าเจ้าคุณทหารลาดกระบัง\n",
    "\n",
    ">>วันที่ 22 - 24 กรกฎาคม 2563\n"
   ]
  },
  {
   "cell_type": "markdown",
   "metadata": {
    "id": "oQNSdL9pgeG8"
   },
   "source": [
    "'* *การเรียบเรียง เป็นการนำความรู้จากหลาย ๆ แหล่งข้อมูลที่มีอยู่แล้ว มาปรับใช้ ปรับการเขียน ให้เหมาะสมกับการให้ความรู้แก่นักศึกษาในการอบรมครั้งนี้ ขอขอบคุณ และขออนุญาต ทุกแหล่งความรู้ที่ได้นำมาใช้ ณ ที่นี้ด้วยค่ะ*"
   ]
  },
  {
   "cell_type": "markdown",
   "metadata": {
    "id": "o32a6gz1ozzg"
   },
   "source": [
    "#**บทนำ**\n",
    "\n",
    "**Data preprocessing using Scikit-Learn and Pandas**\n",
    "\n",
    "ในหัวข้อนี้นักศึกษาจะได้เรียนรู้การเขียน Code เบื้องต้นด้วยภาษา Python\n",
    "\n",
    "โดยอาศัย Library ชื่อ **Scikit-Learn** และ **Pandas**\n",
    "\n",
    "เพื่อให้นักศึกษาสามารถทำการเตรียมข้อมูล เพื่อนำข้อมูลเข้าสู่กระบวนการต่อไปของ Machine Learning ได้\n",
    "\n",
    "Data preprocessing มีส่วนช่วยให้เรานำข้อมูลมาใช้สร้างโมเดล เพื่อการทำนายที่ถูกต้องมากขึ้น\n",
    "\n",
    "วิธีการที่มักใช้ในการทำ Data preprocessing ในที่นี้ขอกล่าวถึง 4 วิธี คือ\n",
    "\n",
    "1. Scaling Data การปรับ scale ข้อมูลให้อยู่ในscaleที่เราต้องการ\n",
    "2. Imputation การเติมข้อมูลที่ขาด\n",
    "3. Handling Outliers การจัดการข้อมูลที่โดด\n",
    "4. Discretization การแบ่งข้อมูลเป็นช่วง\n"
   ]
  },
  {
   "cell_type": "markdown",
   "metadata": {
    "id": "xyfx52rAKYcx"
   },
   "source": [
    "# **scikit-learn**"
   ]
  },
  {
   "cell_type": "markdown",
   "metadata": {
    "id": "kfvM-pKIKM_D"
   },
   "source": [
    "scikit-learn เป็นหนึ่งในเครื่องมือในการทำ machine learning ที่มีความสามารถในการทำ predictive data analysis โดยสร้างขึ้นมาจากโมดูลหลายตัวคือ NumPy, SciPy และ matplotlib ทำให้ scikit-learn มีความสามารถที่หลากหลาย นำไปใช้ในงานได้หลายประเภท\n",
    "\n",
    "ศึกษาเพิ่มเติมได้จากเว็บ https://scikit-learn.org/stable/index.html"
   ]
  },
  {
   "cell_type": "markdown",
   "metadata": {
    "id": "_j_SXM9VqHML"
   },
   "source": [
    "# **การนำเข้า Dataset File**\n",
    "\n",
    "ตัวอย่างในหัวข้อนี้ ใช้ข้อมูลตัวอย่างชื่อ “Wine Data Set” ซึ่งเป็นข้อมูล ขนาดเล็ก และ free download จาก นักศึกษาสามารถดูได้จากเว็บ https://archive.ics.uci.edu/ml/datasets/wine\n",
    "\n",
    "Wine Data Set เป็นข้อมูลของเครื่องดืม Wine แต่ละชนิด ซึ่งมี Profile ที่แตกต่างกัน เช่น ค่ากรด (Malic acid), แมกนีเซียม (Magnesium), สี (Color intensity), ค่า pH ,และระดับแอกฮอลล์ ที่ไม่เท่ากัน ซึ่งสามารถ Download ได้จาก link ที่ให้ไว้ด้านบนนี้แล้ว\n",
    "\n",
    "เพื่อสะดวกในการเรียนรู้ ขอให้นักศึกษา download file ชื่อ wine_data.csv จากเว็บ https://is.gd/PWLDX7\n",
    "\n",
    "นำไว้บนเครื่องขอตนเองก่อน จากนั้น ให้คัดลอกไฟล์ดังกล่าวไปไว้บน google drive ของตนเอง\n",
    "\n",
    "**ข้อควระวัง**\n",
    "\n",
    "จำให้ได้ด้วยนะคะว่าเอาไฟล์ไปวางไว้ตรงไหนของเครื่องคอม และตรงไหนของ google drive ตัวเอง ^__^\n",
    "\n",
    "เช่น ในตัวอย่าง google drive เก็บไฟล์ wine_data.csv ไว้ใน folder ชื่อ dataset\n",
    "\n",
    "จากนั้น เราจะทำการ drive mount"
   ]
  },
  {
   "cell_type": "code",
   "execution_count": 1,
   "metadata": {
    "colab": {
     "base_uri": "https://localhost:8080/"
    },
    "executionInfo": {
     "elapsed": 19258,
     "status": "ok",
     "timestamp": 1672040510730,
     "user": {
      "displayName": "Wanthanee Prachuabsupakij",
      "userId": "13160947104043617262"
     },
     "user_tz": -420
    },
    "id": "yRfFP5yx1pIo",
    "outputId": "c0778b3b-af52-49a1-aba4-5f145f7c4ec2"
   },
   "outputs": [],
   "source": [
    "# from google.colab import drive\n",
    "# drive.mount('/content/drive')"
   ]
  },
  {
   "cell_type": "markdown",
   "metadata": {
    "id": "xxp6Z58h61Ac"
   },
   "source": [
    "## drive mount\n",
    "\n",
    "เพื่อเชื่อมโยง google drive ของเรากับ coloab เพื่อให้โปรแกรมที่เราเขียน มองเห็นไฟล์ใน google drive ได้ จะได้อ้างอิงและนำข้อมูลมาใช้งาน\n",
    "\n",
    "เราใช้ from google.colab import drive ตามตัวอย่างนี้"
   ]
  },
  {
   "cell_type": "code",
   "execution_count": 2,
   "metadata": {
    "colab": {
     "base_uri": "https://localhost:8080/"
    },
    "executionInfo": {
     "elapsed": 20248,
     "status": "ok",
     "timestamp": 1703577044053,
     "user": {
      "displayName": "Wanthanee Prachuabsupakij",
      "userId": "13160947104043617262"
     },
     "user_tz": -420
    },
    "id": "XTOx0Xhuig7I",
    "outputId": "8d924694-9040-44d5-b7a6-a2759a5738c7"
   },
   "outputs": [],
   "source": [
    "# from google.colab import drive\n",
    "# drive.mount('/content/drive') #ระวังเครื่องหมาย ‘ กับ ' ต่างกันนะคะ"
   ]
  },
  {
   "cell_type": "markdown",
   "metadata": {
    "id": "htCGi7ypIjIy"
   },
   "source": [
    "ตอน run ด้านบนนี้ จะมีข้อความ เช่น\n",
    "\n",
    ">**Go to this URL in a browser: https://accounts.google.com/o/oauth2/auth?client_id=947xxxxxxxxfpeopleapi.readonly**\n",
    "\n",
    ">**Enter your authorization code:**\n",
    "\n",
    "ให้คลิกที่ link ดังกล่าว หน้าต่างของ google จะปรากฎขึ้นมาให้\n",
    "\n",
    "เพื่อให้เราอนุญาตให้ Google Drive File Stream มีการเข้าถึงบัญชี Google  ของเราได้\n",
    "\n",
    "ให้ตอบตกลง\n",
    "\n",
    "จากนั้นจะปรากฎหน้าที่แสดงข้อความว่า\n",
    "\n",
    "\"\n",
    "\n",
    ">**ลงชื่อเข้าใช้งาน**\n",
    "\n",
    ">**โปรดคัดลอกโค้ดนี้ไว้ สลับไปที่แอปพลิเคชันของคุณแล้ววางโค้ดลงไป:**\n",
    "\n",
    ">**4/1wHM128b4roXxxxxxxxxxxxxxxxxxxxx**\n",
    "\n",
    "\"\n",
    "\n",
    "ให้เรา copy โค้ท ของเรา เช่น 4/1wHM128b4roXxxxxxxxxxxxxxxxxxxxx**\n",
    "\n",
    "มาวางในช่อง\n",
    "\n",
    ">**Enter your authorization code:**\n",
    "\n",
    "เมื่อ run เสร็จเรียบร้อยแล้วจะมีข้อความ\n",
    "\n",
    ">**Mounted at /content/drive**\n",
    "\n",
    "-----\n",
    "จากนั้น ให้สังเกตที่ด้านซ้ายมือของหน้าต่าง colab มีสัญลักษณ์รูป Folder Files\n",
    "\n",
    "ให้คลิกเลือกที่สัญลักษณ์ดังกล่าว จากนั้น colab จะแสดงรายการ drive และ files ต่างๆ\n",
    "\n",
    "ให้เราเลือกเข้าไปที่ files ที่ต้องการ เมื่อเจอแล้ว ให้คลิกขวาที่ไฟล์นั้่น แล้วเลือก copy path เอาไปวางใน code ตัวอย่างด้านล่างต่อจากนี้\n",
    "\n",
    "-----\n",
    "\n",
    ">ถ้านักศึกษา มองภาพไม่ออก ขอให้ดูตัวอย่างได้จากคลิปในยูทูปนี้ นะคะ\n",
    "\n",
    ">https://www.youtube.com/watch?v=TDyfhlg23vs&feature=youtu.be\n",
    "\n",
    ">ขอขอบคุณคลิปนี้ด้วยค่ะ\n",
    "\n",
    "** _หากเกิดปัญหา มองไม่เห็น drive_ **\n",
    "\n",
    "ให้สังเกต ด้านซ้ายมือของหน้าต่าง colab มีสัญลักษณ์รูป Folder\n",
    "\n",
    "เมื่อคลิกเลือกเข้าไป จะมีสัญลักษณ์ในรูป Folder 3 แบบ แบบที่มีหัวลูกศรขึ้น (upload), แบบมีหัวลูกศรวน (refresh), และแบบมีสัญสามเหลี่ยมใน folder (munt drive)\n",
    "\n",
    "หากสัญลักษณ์รูป Folder แบบมีสามเหลี่ยมใน folder (mount drive) ไม่มีขีดทับบนสัญลักษณ์ ให้กดที่รูปนั้น เพื่อให้เกิดการ mount drive ก็จะมองเห็น folder แสดง path content > drive > My Drive > และ folder หรือ file ใน Google Drive ของตัวเราเอง ได้\n"
   ]
  },
  {
   "cell_type": "markdown",
   "metadata": {
    "id": "leCWHptK-Mwm"
   },
   "source": [
    "## การเรียกใช้ไฟล์ เพื่อกำหนดเป็นชุดข้อมูล\n",
    "\n",
    "ดูตัวอย่างใน code ด้านล่าง\n",
    "\n",
    "ในตัวอย่างเราจะเรียกใช้ไฟล์ wine_data.csv ที่เก็บไว้ใน\n",
    "\n",
    "/content/drive/My Drive/dataset\n",
    "\n",
    "แต่หากนักศึกษาเก็บไฟล์ไว้ต่างที่กับตัวอย่าง ก็อ้งอิงได้นะคะ โดยเปลี่ยนให้เป็นของตัวเอง\n",
    "\n",
    "path = '.....................'\n",
    "\n",
    "จากนั้นเราจะนำข้อมูลจากไฟล์มาเก็บไว้ในตัวแปรของ Pandas Dataframe ด้วยคำสั่ง\n",
    "\n",
    "winedata = pd.read_csv(path)"
   ]
  },
  {
   "cell_type": "code",
   "execution_count": 3,
   "metadata": {
    "colab": {
     "base_uri": "https://localhost:8080/"
    },
    "executionInfo": {
     "elapsed": 333,
     "status": "ok",
     "timestamp": 1703577141286,
     "user": {
      "displayName": "Wanthanee Prachuabsupakij",
      "userId": "13160947104043617262"
     },
     "user_tz": -420
    },
    "id": "X2T6on9pV22Z",
    "outputId": "c8954e1b-8098-4c59-b151-3965287f11c2"
   },
   "outputs": [
    {
     "name": "stdout",
     "output_type": "stream",
     "text": [
      "Dataset Lenght::  177\n",
      "Dataset Shape::  (177, 14)\n",
      "     1  14.23  1.71  2.43  15.6  127   2.8  3.06   .28  2.29   5.64  1.04  \\\n",
      "0    1  13.20  1.78  2.14  11.2  100  2.65  2.76  0.26  1.28   4.38  1.05   \n",
      "1    1  13.16  2.36  2.67  18.6  101  2.80  3.24  0.30  2.81   5.68  1.03   \n",
      "2    1  14.37  1.95  2.50  16.8  113  3.85  3.49  0.24  2.18   7.80  0.86   \n",
      "3    1  13.24  2.59  2.87  21.0  118  2.80  2.69  0.39  1.82   4.32  1.04   \n",
      "4    1  14.20  1.76  2.45  15.2  112  3.27  3.39  0.34  1.97   6.75  1.05   \n",
      "..  ..    ...   ...   ...   ...  ...   ...   ...   ...   ...    ...   ...   \n",
      "172  3  13.71  5.65  2.45  20.5   95  1.68  0.61  0.52  1.06   7.70  0.64   \n",
      "173  3  13.40  3.91  2.48  23.0  102  1.80  0.75  0.43  1.41   7.30  0.70   \n",
      "174  3  13.27  4.28  2.26  20.0  120  1.59  0.69  0.43  1.35  10.20  0.59   \n",
      "175  3  13.17  2.59  2.37  20.0  120  1.65  0.68  0.53  1.46   9.30  0.60   \n",
      "176  3  14.13  4.10  2.74  24.5   96  2.05  0.76  0.56  1.35   9.20  0.61   \n",
      "\n",
      "     3.92  1065  \n",
      "0    3.40  1050  \n",
      "1    3.17  1185  \n",
      "2    3.45  1480  \n",
      "3    2.93   735  \n",
      "4    2.85  1450  \n",
      "..    ...   ...  \n",
      "172  1.74   740  \n",
      "173  1.56   750  \n",
      "174  1.56   835  \n",
      "175  1.62   840  \n",
      "176  1.60   560  \n",
      "\n",
      "[177 rows x 14 columns]\n"
     ]
    }
   ],
   "source": [
    "#อ่านไฟล์จาก drive\n",
    "import pandas as pd\n",
    "#path =  'ตรงนี้ให้นักศึกษาวาง ข้อมูลที่ได้จาก การคลิกขวาที่ไฟล์นั้่น แล้วเลือก copy path เช่น'\n",
    "path = 'data/wine_data.csv'\n",
    "winedata = pd.read_csv(path) ## Dataset is now stored in a Pandas Dataframe\n",
    "print (\"Dataset Lenght:: \", len(winedata))\n",
    "print (\"Dataset Shape:: \", winedata.shape)\n",
    "print(winedata)\n"
   ]
  },
  {
   "cell_type": "code",
   "execution_count": 4,
   "metadata": {
    "id": "m37FS8u2-R4w"
   },
   "outputs": [
    {
     "name": "stdout",
     "output_type": "stream",
     "text": [
      "Dataset Lenght::  177\n",
      "Dataset Shape::  (177, 14)\n",
      "     1  14.23  1.71  2.43  15.6  127   2.8  3.06   .28  2.29   5.64  1.04  \\\n",
      "0    1  13.20  1.78  2.14  11.2  100  2.65  2.76  0.26  1.28   4.38  1.05   \n",
      "1    1  13.16  2.36  2.67  18.6  101  2.80  3.24  0.30  2.81   5.68  1.03   \n",
      "2    1  14.37  1.95  2.50  16.8  113  3.85  3.49  0.24  2.18   7.80  0.86   \n",
      "3    1  13.24  2.59  2.87  21.0  118  2.80  2.69  0.39  1.82   4.32  1.04   \n",
      "4    1  14.20  1.76  2.45  15.2  112  3.27  3.39  0.34  1.97   6.75  1.05   \n",
      "..  ..    ...   ...   ...   ...  ...   ...   ...   ...   ...    ...   ...   \n",
      "172  3  13.71  5.65  2.45  20.5   95  1.68  0.61  0.52  1.06   7.70  0.64   \n",
      "173  3  13.40  3.91  2.48  23.0  102  1.80  0.75  0.43  1.41   7.30  0.70   \n",
      "174  3  13.27  4.28  2.26  20.0  120  1.59  0.69  0.43  1.35  10.20  0.59   \n",
      "175  3  13.17  2.59  2.37  20.0  120  1.65  0.68  0.53  1.46   9.30  0.60   \n",
      "176  3  14.13  4.10  2.74  24.5   96  2.05  0.76  0.56  1.35   9.20  0.61   \n",
      "\n",
      "     3.92  1065  \n",
      "0    3.40  1050  \n",
      "1    3.17  1185  \n",
      "2    3.45  1480  \n",
      "3    2.93   735  \n",
      "4    2.85  1450  \n",
      "..    ...   ...  \n",
      "172  1.74   740  \n",
      "173  1.56   750  \n",
      "174  1.56   835  \n",
      "175  1.62   840  \n",
      "176  1.60   560  \n",
      "\n",
      "[177 rows x 14 columns]\n"
     ]
    }
   ],
   "source": [
    "#อ่านไฟล์จาก local file\n",
    "import pandas as pd\n",
    "# from google.colab import files\n",
    "# uploaded = files.upload()\n",
    "# import io\n",
    "# winedata = pd.read_csv(io.BytesIO(uploaded['wine_data.csv']))\n",
    "winedata = pd.read_csv('./data/wine_data.csv')\n",
    "print (\"Dataset Lenght:: \", len(winedata))\n",
    "print (\"Dataset Shape:: \", winedata.shape)\n",
    "print(winedata)\n",
    "# Dataset is now stored in a Pandas Dataframe"
   ]
  },
  {
   "cell_type": "markdown",
   "metadata": {
    "id": "T_G8rfG3N_lq"
   },
   "source": [
    "##การกำหนดชื่อ Features และ Class\n",
    "\n",
    "เป็นขั้นตอนในการกำหนดว่า Column ใด เป็นข้อมูลของ Features ใด\n",
    "\n",
    "และ Column ใดเป็นข้อมูลแสดง Class\n",
    "\n",
    "ในข้อมูลตัวอย่าง กำหนดให้ข้อมูลที่อยู่ภายใต้ Column ชื่อ **Cultivator** คือ เป็นข้อมูลชนิดของ Wine ข้อมูลนี้จึงเป็น **Class**\n",
    "\n",
    "Column อื่นๆ เป็น Features\n",
    "\n",
    "ขอให้นักศึกษาดู code โปรแกรมตัวอย่างด้านล่าง\n",
    "\n",
    "จากที่เราทำโหลด Data ด้วย Pandas Class\n",
    "\n",
    "ต่อมา\n",
    "\n",
    "เราใช้คำสั่ง winedata.head() เพื่อกำหนดชื่อของ features ให้กับข้อมูลแต่ละ column\n",
    "ก่อน และแสดงตัวอย่างให้เห็นเหมือนเป็นตาราง\n",
    "\n",
    ">ข้อมูลบางส่วน นำมาจากเว็บ https://is.gd/4p3hNw ขอขอบคุณค่ะ"
   ]
  },
  {
   "cell_type": "code",
   "execution_count": 5,
   "metadata": {
    "colab": {
     "base_uri": "https://localhost:8080/"
    },
    "executionInfo": {
     "elapsed": 334,
     "status": "ok",
     "timestamp": 1703577277814,
     "user": {
      "displayName": "Wanthanee Prachuabsupakij",
      "userId": "13160947104043617262"
     },
     "user_tz": -420
    },
    "id": "VUHJFJli_BLs",
    "outputId": "47738c75-5869-435e-fe26-1c2cdd72ca6e"
   },
   "outputs": [
    {
     "name": "stdout",
     "output_type": "stream",
     "text": [
      "     Alchol  Malic_Acid   Ash  Alcalinity_of_Ash  Magnesium  Total_phenols  \\\n",
      "0     14.23        1.71  2.43               15.6        127           2.80   \n",
      "1     13.20        1.78  2.14               11.2        100           2.65   \n",
      "2     13.16        2.36  2.67               18.6        101           2.80   \n",
      "3     14.37        1.95  2.50               16.8        113           3.85   \n",
      "4     13.24        2.59  2.87               21.0        118           2.80   \n",
      "..      ...         ...   ...                ...        ...            ...   \n",
      "173   13.71        5.65  2.45               20.5         95           1.68   \n",
      "174   13.40        3.91  2.48               23.0        102           1.80   \n",
      "175   13.27        4.28  2.26               20.0        120           1.59   \n",
      "176   13.17        2.59  2.37               20.0        120           1.65   \n",
      "177   14.13        4.10  2.74               24.5         96           2.05   \n",
      "\n",
      "     Falvanoids  Nonflavanoid_phenols  Proanthocyanins  Color_intensity   Hue  \\\n",
      "0          3.06                  0.28             2.29             5.64  1.04   \n",
      "1          2.76                  0.26             1.28             4.38  1.05   \n",
      "2          3.24                  0.30             2.81             5.68  1.03   \n",
      "3          3.49                  0.24             2.18             7.80  0.86   \n",
      "4          2.69                  0.39             1.82             4.32  1.04   \n",
      "..          ...                   ...              ...              ...   ...   \n",
      "173        0.61                  0.52             1.06             7.70  0.64   \n",
      "174        0.75                  0.43             1.41             7.30  0.70   \n",
      "175        0.69                  0.43             1.35            10.20  0.59   \n",
      "176        0.68                  0.53             1.46             9.30  0.60   \n",
      "177        0.76                  0.56             1.35             9.20  0.61   \n",
      "\n",
      "     OD280  Proline  \n",
      "0     3.92     1065  \n",
      "1     3.40     1050  \n",
      "2     3.17     1185  \n",
      "3     3.45     1480  \n",
      "4     2.93      735  \n",
      "..     ...      ...  \n",
      "173   1.74      740  \n",
      "174   1.56      750  \n",
      "175   1.56      835  \n",
      "176   1.62      840  \n",
      "177   1.60      560  \n",
      "\n",
      "[178 rows x 13 columns]\n",
      "0      1\n",
      "1      1\n",
      "2      1\n",
      "3      1\n",
      "4      1\n",
      "      ..\n",
      "173    3\n",
      "174    3\n",
      "175    3\n",
      "176    3\n",
      "177    3\n",
      "Name: Cultivator, Length: 178, dtype: int64\n"
     ]
    }
   ],
   "source": [
    "features = [\"Cultivator\", \"Alchol\", \"Malic_Acid\", \"Ash\", \"Alcalinity_of_Ash\", \"Magnesium\", \"Total_phenols\", \"Falvanoids\", \"Nonflavanoid_phenols\", \"Proanthocyanins\", \"Color_intensity\", \"Hue\", \"OD280\", \"Proline\"]\n",
    "winedata = pd.read_csv(path, names = features) #ถ้าอ่านจาก drive ให้ใช้ ตัวแปร path\n",
    "#winedata = pd.read_csv('wine_data.csv', names = features) #้ถ้าอ่านจาก local ให้ระบุชื่อไฟล์ได้เลย\n",
    "winedata.head()\n",
    "X = winedata.drop('Cultivator',axis=1)\n",
    "y = winedata['Cultivator']\n",
    "print(X)\n",
    "print(y)"
   ]
  },
  {
   "cell_type": "markdown",
   "metadata": {
    "id": "yZPkVMEvYn5y"
   },
   "source": [
    "## sklearn.preprocessing\n",
    "sklearn.preprocessing เป็น package ที่เตรียม function และ classes ไว้มากมาย เพื่อจัดการกับ raw feature vectors ให้มีความเหมาะสมมากขึ้น\n",
    "\n",
    "ตัวอย่างเช่น  นำ sklearn มาทำข้อมูลให้เป็นมาตรฐาน เราใช้\n",
    "\n",
    "from sklearn.preprocessing import StandardScaler\n",
    "\n",
    "เป็นต้น"
   ]
  },
  {
   "cell_type": "markdown",
   "metadata": {
    "id": "FqVhBGZjrtrq"
   },
   "source": [
    "# Scaling Data or Standardization\n",
    "\n",
    "ดูข้อมูลเพิ่มเติมได้จากเว็บ https://is.gd/NXN3Le\n",
    "\n",
    "การที่เราต้องทำ Scaling Data or Standardization ข้อมูล\n",
    "ก็เพราะว่า ข้อมูลที่เราได้รับมานั้นอาจจะมีความหลากหลาย เช่น ชนิดข้อมูลต่างกัน รูปแบบข้อมูลต่างกัน และ Scale ช่วงของข้อมูลต่างกันเช่น ข้อมูลบุคคล มี 3 Feature คือ อายุ [10, 20], น้ำหนัก [30, 200] ส่วนสูง [120, 180]\n",
    "\n",
    "โดยปกติแล้วภายใน dataset ของเราจะมีข้อมูลที่มีความสัมพันธ์กัน แต่ข้อมูลเหล่านั้นมีค่า “Variance” (ค่าความแปรปรวน) / ค่า “mean” (ค่าเฉลี่ย) ของข้อมูลซึ่งเราต้องปรับให้ความแปรปรวนข้อมูลเหล่านี้มีค่าเท่ากันและปรับให้ค่าเฉลี่ยมีค่าเท่าๆกันก่อนที่จะนำข้อมูลไปใช้\n",
    "\n",
    "\n",
    "Machine Learning บางตัว ไม่สามารถรับข้อมูลหลากหลาย Scale ได้โดยตรง เราจึงต้องทำ scale data ก่อนที่เราจะป้อนข้อมูลให้กับMachine Learning เพื่อนำไปสร้าง model ต่อไป\n",
    "\n",
    "StandardScaler เหมาะกับข้อมูลที่อยู่ในรูปแบบ Normal distribution"
   ]
  },
  {
   "cell_type": "code",
   "execution_count": 6,
   "metadata": {
    "executionInfo": {
     "elapsed": 347,
     "status": "ok",
     "timestamp": 1703577347498,
     "user": {
      "displayName": "Wanthanee Prachuabsupakij",
      "userId": "13160947104043617262"
     },
     "user_tz": -420
    },
    "id": "kqVH7Kctqpr_"
   },
   "outputs": [],
   "source": [
    "import pandas as pd\n",
    "import numpy as np"
   ]
  },
  {
   "cell_type": "markdown",
   "metadata": {
    "id": "krOVHuO_tJYm"
   },
   "source": [
    "##StandardScaler"
   ]
  },
  {
   "cell_type": "code",
   "execution_count": null,
   "metadata": {
    "id": "dLxClJGxjGZ-"
   },
   "outputs": [],
   "source": []
  },
  {
   "cell_type": "code",
   "execution_count": 7,
   "metadata": {
    "colab": {
     "base_uri": "https://localhost:8080/"
    },
    "executionInfo": {
     "elapsed": 1075,
     "status": "ok",
     "timestamp": 1703577395052,
     "user": {
      "displayName": "Wanthanee Prachuabsupakij",
      "userId": "13160947104043617262"
     },
     "user_tz": -420
    },
    "id": "rLcqSDx135Yn",
    "outputId": "d4f29ded-89c7-497e-d829-6c81c06910db"
   },
   "outputs": [
    {
     "name": "stdout",
     "output_type": "stream",
     "text": [
      "Requirement already satisfied: scikit-learn in .\\venv\\lib\\site-packages (1.5.2)\n",
      "Requirement already satisfied: numpy>=1.19.5 in .\\venv\\lib\\site-packages (from scikit-learn) (2.1.3)\n",
      "Requirement already satisfied: scipy>=1.6.0 in .\\venv\\lib\\site-packages (from scikit-learn) (1.14.1)\n",
      "Requirement already satisfied: joblib>=1.2.0 in .\\venv\\lib\\site-packages (from scikit-learn) (1.4.2)\n",
      "Requirement already satisfied: threadpoolctl>=3.1.0 in .\\venv\\lib\\site-packages (from scikit-learn) (3.5.0)\n",
      "[[ 1.51861254 -0.5622498   0.23205254 ...  0.36217728  1.84791957\n",
      "   1.01300893]\n",
      " [ 0.24628963 -0.49941338 -0.82799632 ...  0.40605066  1.1134493\n",
      "   0.96524152]\n",
      " [ 0.19687903  0.02123125  1.10933436 ...  0.31830389  0.78858745\n",
      "   1.39514818]\n",
      " ...\n",
      " [ 0.33275817  1.74474449 -0.38935541 ... -1.61212515 -1.48544548\n",
      "   0.28057537]\n",
      " [ 0.20923168  0.22769377  0.01273209 ... -1.56825176 -1.40069891\n",
      "   0.29649784]\n",
      " [ 1.39508604  1.58316512  1.36520822 ... -1.52437837 -1.42894777\n",
      "  -0.59516041]]\n"
     ]
    }
   ],
   "source": [
    "! pip install -U scikit-learn\n",
    "from sklearn.preprocessing import StandardScaler\n",
    "ss = StandardScaler()#สร้างออบเจ็กต์ขึ้นจากคลาส StandardScaler\n",
    "#print(X)\n",
    "X_scaled = ss.fit_transform(X)  #ข้อมูลดิบของ wine data ผ่านการ ทำ data preprocessing แบบ StandardScaler\n",
    "# fit_transform ทำการคำนวณค่าเฉลี่ยและส่วนเบี่ยงเบนมาตรฐานของข้อมูล X และคืนค่า X ที่ทำให้เป็นมาตรฐานแล้ว\n",
    "print(X_scaled)\n"
   ]
  },
  {
   "cell_type": "code",
   "execution_count": 8,
   "metadata": {
    "colab": {
     "base_uri": "https://localhost:8080/"
    },
    "executionInfo": {
     "elapsed": 349,
     "status": "ok",
     "timestamp": 1703577420405,
     "user": {
      "displayName": "Wanthanee Prachuabsupakij",
      "userId": "13160947104043617262"
     },
     "user_tz": -420
    },
    "id": "_lg9I0kCggrv",
    "outputId": "84aaf938-43e2-4529-e949-ef1e79b7754a"
   },
   "outputs": [
    {
     "name": "stdout",
     "output_type": "stream",
     "text": [
      "1.0\n"
     ]
    }
   ],
   "source": [
    "print(X_scaled.var())"
   ]
  },
  {
   "cell_type": "code",
   "execution_count": 9,
   "metadata": {
    "colab": {
     "base_uri": "https://localhost:8080/"
    },
    "executionInfo": {
     "elapsed": 350,
     "status": "ok",
     "timestamp": 1703577427476,
     "user": {
      "displayName": "Wanthanee Prachuabsupakij",
      "userId": "13160947104043617262"
     },
     "user_tz": -420
    },
    "id": "wM1Yd7QWgnRn",
    "outputId": "021a99d2-69ff-4249-8631-0a6d043ef22b"
   },
   "outputs": [
    {
     "name": "stdout",
     "output_type": "stream",
     "text": [
      "-1.2282501914608474e-16\n"
     ]
    }
   ],
   "source": [
    "print(X_scaled.mean())"
   ]
  },
  {
   "cell_type": "markdown",
   "metadata": {
    "id": "n8IdgfB0YH-F"
   },
   "source": [
    "ทดลองสร้าง array ขึ้นมาชื่อ X_train เพื่อนำข้อมูลนี้มาทดลองการ preprocess  "
   ]
  },
  {
   "cell_type": "code",
   "execution_count": 10,
   "metadata": {
    "executionInfo": {
     "elapsed": 2,
     "status": "ok",
     "timestamp": 1703577456377,
     "user": {
      "displayName": "Wanthanee Prachuabsupakij",
      "userId": "13160947104043617262"
     },
     "user_tz": -420
    },
    "id": "Y8wwNAhMBS2U"
   },
   "outputs": [],
   "source": [
    "from sklearn import preprocessing\n",
    "X_train = np.array([[ 1, -1,  2],\n",
    "                    [ 2,  0,  6],\n",
    "                    [ 0,  1, -1]])"
   ]
  },
  {
   "cell_type": "code",
   "execution_count": 11,
   "metadata": {
    "colab": {
     "base_uri": "https://localhost:8080/"
    },
    "executionInfo": {
     "elapsed": 320,
     "status": "ok",
     "timestamp": 1703577458258,
     "user": {
      "displayName": "Wanthanee Prachuabsupakij",
      "userId": "13160947104043617262"
     },
     "user_tz": -420
    },
    "id": "qdYKRZ5IPV1U",
    "outputId": "a66deaaf-6335-4f43-c73c-7c8e6e215097"
   },
   "outputs": [
    {
     "data": {
      "text/plain": [
       "array([[ 1, -1,  2],\n",
       "       [ 2,  0,  6],\n",
       "       [ 0,  1, -1]])"
      ]
     },
     "execution_count": 11,
     "metadata": {},
     "output_type": "execute_result"
    }
   ],
   "source": [
    "X_train"
   ]
  },
  {
   "cell_type": "markdown",
   "metadata": {
    "id": "ji6wDzHJqSY6"
   },
   "source": [
    "##Normalization with MinMaxScaler\n",
    "Normalize data in range 0-1\n",
    "MinMaxScaler เหมาะมากที่จะใช้อันแรกในการ Scale ก่อนเริ่ม Train model\n",
    "# ใช้อะไรดี?\n",
    "จริงๆ เราจะชอบพูดติดปากเวลาเราจะ Scale ข้อมูลว่า เฮ้ย data เรา normalize รึยัง แต่เอาจริงๆ แล้ว มันคือการ Scale ข้อมูลให้อยู่ในรูปแบบที่ Machine Learning อ่านค่าในการสร้าง Model ได้ง่ายขึ้น แต่วิธีไหนดีที่สุดนั้น ตอบเลยว่า ขึ้นอยู่กับข้อมูลของคุณ\n",
    "\n",
    "โจทย์ที่เราเจอบ่อยๆ คือ การ train model ข้อมูลลูกค้า โดยจะมีข้อมูล อายุ กับ ยอดขาย ปนอยู่ ทีนี้ อายุเนี่ย ไม่เกิน 100 แน่ๆ แต่ยอดขายมีตั้งแต่ 0 ถึงล้าน วิธีการทำให้ Model ของเราทำงานได้ดีขึ้นก็คือการ Normalize data  \n",
    "\n",
    "จากประสบการณ์ เราก็ควรเริ่มจากอะไรที่ง่ายๆ ก่อน โดยใช้ MinMaxScaler ดูก่อน แล้วค่อยลองขยับไปใช้ StandardScaler"
   ]
  },
  {
   "cell_type": "code",
   "execution_count": 12,
   "metadata": {
    "colab": {
     "base_uri": "https://localhost:8080/"
    },
    "executionInfo": {
     "elapsed": 343,
     "status": "ok",
     "timestamp": 1703577556144,
     "user": {
      "displayName": "Wanthanee Prachuabsupakij",
      "userId": "13160947104043617262"
     },
     "user_tz": -420
    },
    "id": "M49aGNmSCU9e",
    "outputId": "e12051e4-fba4-4ce1-d8c7-2aee45badc5c"
   },
   "outputs": [
    {
     "name": "stdout",
     "output_type": "stream",
     "text": [
      "[[0.5        0.         0.42857143]\n",
      " [1.         0.5        1.        ]\n",
      " [0.         1.         0.        ]]\n"
     ]
    }
   ],
   "source": [
    "min_max_scaler = preprocessing.MinMaxScaler()\n",
    "X_train_minmax = min_max_scaler.fit_transform(X_train)\n",
    "print(X_train_minmax)"
   ]
  },
  {
   "cell_type": "code",
   "execution_count": 13,
   "metadata": {
    "colab": {
     "base_uri": "https://localhost:8080/"
    },
    "executionInfo": {
     "elapsed": 316,
     "status": "ok",
     "timestamp": 1703577567130,
     "user": {
      "displayName": "Wanthanee Prachuabsupakij",
      "userId": "13160947104043617262"
     },
     "user_tz": -420
    },
    "id": "cjHwPPkdiRof",
    "outputId": "e1c63e3b-6cec-4093-b385-57af22b81f8f"
   },
   "outputs": [
    {
     "name": "stdout",
     "output_type": "stream",
     "text": [
      "0.16717057193247667\n"
     ]
    }
   ],
   "source": [
    "print(X_train_minmax.var())"
   ]
  },
  {
   "cell_type": "markdown",
   "metadata": {
    "id": "I5xRnsBCrblx"
   },
   "source": [
    "\n",
    "\n",
    "```\n",
    "# This is formatted as code\n",
    "```\n",
    "\n",
    "##แบบฝึกหัด 1\n",
    "\n",
    "ขอให้นักศึกษานำข้อมูลจาก wind data ดูได้จากด้านบน\n",
    "\n",
    "นำมาทำการ scaling ข้อมูลใหม่ ด้วยวิธีการ StandardScaler  1 ชุด และทำ min_max_scaler อีก 1 ชุด"
   ]
  },
  {
   "cell_type": "code",
   "execution_count": 14,
   "metadata": {
    "colab": {
     "base_uri": "https://localhost:8080/"
    },
    "executionInfo": {
     "elapsed": 567,
     "status": "ok",
     "timestamp": 1703577711998,
     "user": {
      "displayName": "Wanthanee Prachuabsupakij",
      "userId": "13160947104043617262"
     },
     "user_tz": -420
    },
    "id": "MKyd9yNFBmld",
    "outputId": "66c1679d-b896-4775-eddb-d146cd7a7922"
   },
   "outputs": [
    {
     "name": "stdout",
     "output_type": "stream",
     "text": [
      "[[0.84210526 0.1916996  0.57219251 ... 0.45528455 0.97069597 0.56134094]\n",
      " [0.57105263 0.2055336  0.4171123  ... 0.46341463 0.78021978 0.55064194]\n",
      " [0.56052632 0.3201581  0.70053476 ... 0.44715447 0.6959707  0.64693295]\n",
      " ...\n",
      " [0.58947368 0.69960474 0.48128342 ... 0.08943089 0.10622711 0.39728959]\n",
      " [0.56315789 0.36561265 0.54010695 ... 0.09756098 0.12820513 0.40085592]\n",
      " [0.81578947 0.66403162 0.73796791 ... 0.10569106 0.12087912 0.20114123]]\n"
     ]
    }
   ],
   "source": [
    "X_minmax = min_max_scaler.fit_transform(X)\n",
    "print(X_minmax)"
   ]
  },
  {
   "cell_type": "markdown",
   "metadata": {
    "id": "I2HVm5ob6kPO"
   },
   "source": [
    "#**Imputation** (Missing Value)\n",
    "\n",
    "ข้อมูลที่ขาดหายส่วนใหญ่มักจะถูกแทนที่ด้วยคำว่า N/A , NaNs, การปล่อยว่างไว้ หรือ เก็บแยกเอาไว้ต่างหาก\n",
    "\n",
    "การสร้างโมเดลให้สามารถประมวลผลด้วยตัวเองได้โดยที่มีค่าที่ขาดหายไป (Missing Values)จำนวนมากส่งผลกระทบอย่างใหญ่หลวงในการคุณภาพการเรียนรู้ของเครื่องจักร (Machine Learning)"
   ]
  },
  {
   "cell_type": "markdown",
   "metadata": {
    "id": "L9jKDiQE7DwN"
   },
   "source": [
    "6 เทคนิคที่มักใช้งานกันเมื่อต้องเผชิญหน้ากับข้อมูลที่ไม่ครบถ้วนใน Dataset\n",
    "\n",
    "1. Do Nothing (ไม่ทำอะไรกับมันเลย ปล่อยไว้แบบนั้น)\n",
    "\n",
    "2. Imputation Using (Mean/Median) Values (เติมเต็มข้อมูลที่สูญหายด้วย การใช้ค่าเฉลี่ย / ค่ากลาง)\n",
    "\n",
    "3. Imputation Using (Most Frequent) or (Zero/Constant) Values (เติมเต็มข้อมูลด้วยค่าที่มีจำนวนนับมากที่สุด หรือ การใช้ค่า 0 เข้ามาช่วย)\n",
    "\n",
    "4. Imputation Using k-NN (เติมเต็มข้อมูลด้วยค่าที่อยู่ละแวกเดียวกัน หรือ คล้ายคลึงกัน)\n",
    "\n",
    "5. Imputation Using Multivariate Imputation by Chained Equation (MICE) (เติมเต็มข้อมูลที่สูญหายด้วยหลักการ MICE)\n",
    "\n",
    "6. Imputation Using Deep Learning (Datawig) (เติมเต็มข้อมูลที่สูญหายด้วย การใช้ Deep Learning ให้ข้อมูลจำนวนมากหาค่าที่เหมาะสมมาลงแทน)\n",
    "\n",
    "**ไม่มีวิธีที่สมบูรณ์แบบที่สุดในการเติมเต็มค่าข้อมูลที่ขาดหายไป แต่ละกลยุทธ์ทำงานได้ดีแตกต่างกันขึ้นอยู่กับ Dataset และ ประเภทของค่าที่ขาดหายไป สิ่งที่เราต้องทำก็คือ ทดลอง\n",
    "\n",
    "อ่านข้อมูลเพิ่มได้ท่ี https://scikit-learn.org/stable/modules/impute.html#univariate-vs-multivariate-imputation"
   ]
  },
  {
   "cell_type": "code",
   "execution_count": 15,
   "metadata": {
    "colab": {
     "base_uri": "https://localhost:8080/"
    },
    "executionInfo": {
     "elapsed": 339,
     "status": "ok",
     "timestamp": 1703578191011,
     "user": {
      "displayName": "Wanthanee Prachuabsupakij",
      "userId": "13160947104043617262"
     },
     "user_tz": -420
    },
    "id": "Ijnh_nRZcT3s",
    "outputId": "e146a825-fc63-40a6-e364-ceb45e3c3688"
   },
   "outputs": [
    {
     "name": "stdout",
     "output_type": "stream",
     "text": [
      "         Part      Feature    Price\n",
      "0     Monitor          LED  12000.0\n",
      "1         CPU           i7   3500.0\n",
      "2        None          RGB      NaN\n",
      "3       Mouse     Wireless   1200.0\n",
      "4        None    Zebronics      NaN\n",
      "5  Extensions         None    250.0\n",
      "6       Table   Urban Clap   7000.0\n",
      "7       Chair  Apex Chairs  12000.0\n",
      "8        Wifi       Airtel    799.0\n"
     ]
    }
   ],
   "source": [
    "df = pd.DataFrame({\n",
    "    'Part': ['Monitor', 'CPU', None, 'Mouse', None, 'Extensions', 'Table', 'Chair', 'Wifi'],\n",
    "    'Feature': ['LED', 'i7', 'RGB', 'Wireless', 'Zebronics', None, 'Urban Clap', 'Apex Chairs', 'Airtel'],\n",
    "    'Price': [12000, 3500, None, 1200, None, 250, 7000, 12000, 799]\n",
    "})\n",
    "print(df)"
   ]
  },
  {
   "cell_type": "markdown",
   "metadata": {
    "id": "5PoRvsfhcq8z"
   },
   "source": [
    "**isnull()**\n",
    "returns True for all the missing values & False for all the occupied values."
   ]
  },
  {
   "cell_type": "code",
   "execution_count": 16,
   "metadata": {
    "colab": {
     "base_uri": "https://localhost:8080/",
     "height": 332
    },
    "executionInfo": {
     "elapsed": 323,
     "status": "ok",
     "timestamp": 1703578249166,
     "user": {
      "displayName": "Wanthanee Prachuabsupakij",
      "userId": "13160947104043617262"
     },
     "user_tz": -420
    },
    "id": "Uxs8ndUHcn-E",
    "outputId": "94f508e5-959e-4343-a59b-d5dccc572c62"
   },
   "outputs": [
    {
     "data": {
      "text/html": [
       "<div>\n",
       "<style scoped>\n",
       "    .dataframe tbody tr th:only-of-type {\n",
       "        vertical-align: middle;\n",
       "    }\n",
       "\n",
       "    .dataframe tbody tr th {\n",
       "        vertical-align: top;\n",
       "    }\n",
       "\n",
       "    .dataframe thead th {\n",
       "        text-align: right;\n",
       "    }\n",
       "</style>\n",
       "<table border=\"1\" class=\"dataframe\">\n",
       "  <thead>\n",
       "    <tr style=\"text-align: right;\">\n",
       "      <th></th>\n",
       "      <th>Part</th>\n",
       "      <th>Feature</th>\n",
       "      <th>Price</th>\n",
       "    </tr>\n",
       "  </thead>\n",
       "  <tbody>\n",
       "    <tr>\n",
       "      <th>0</th>\n",
       "      <td>False</td>\n",
       "      <td>False</td>\n",
       "      <td>False</td>\n",
       "    </tr>\n",
       "    <tr>\n",
       "      <th>1</th>\n",
       "      <td>False</td>\n",
       "      <td>False</td>\n",
       "      <td>False</td>\n",
       "    </tr>\n",
       "    <tr>\n",
       "      <th>2</th>\n",
       "      <td>True</td>\n",
       "      <td>False</td>\n",
       "      <td>True</td>\n",
       "    </tr>\n",
       "    <tr>\n",
       "      <th>3</th>\n",
       "      <td>False</td>\n",
       "      <td>False</td>\n",
       "      <td>False</td>\n",
       "    </tr>\n",
       "    <tr>\n",
       "      <th>4</th>\n",
       "      <td>True</td>\n",
       "      <td>False</td>\n",
       "      <td>True</td>\n",
       "    </tr>\n",
       "    <tr>\n",
       "      <th>5</th>\n",
       "      <td>False</td>\n",
       "      <td>True</td>\n",
       "      <td>False</td>\n",
       "    </tr>\n",
       "    <tr>\n",
       "      <th>6</th>\n",
       "      <td>False</td>\n",
       "      <td>False</td>\n",
       "      <td>False</td>\n",
       "    </tr>\n",
       "    <tr>\n",
       "      <th>7</th>\n",
       "      <td>False</td>\n",
       "      <td>False</td>\n",
       "      <td>False</td>\n",
       "    </tr>\n",
       "    <tr>\n",
       "      <th>8</th>\n",
       "      <td>False</td>\n",
       "      <td>False</td>\n",
       "      <td>False</td>\n",
       "    </tr>\n",
       "  </tbody>\n",
       "</table>\n",
       "</div>"
      ],
      "text/plain": [
       "    Part  Feature  Price\n",
       "0  False    False  False\n",
       "1  False    False  False\n",
       "2   True    False   True\n",
       "3  False    False  False\n",
       "4   True    False   True\n",
       "5  False     True  False\n",
       "6  False    False  False\n",
       "7  False    False  False\n",
       "8  False    False  False"
      ]
     },
     "execution_count": 16,
     "metadata": {},
     "output_type": "execute_result"
    }
   ],
   "source": [
    "df.isnull()"
   ]
  },
  {
   "cell_type": "markdown",
   "metadata": {
    "id": "hTFjARRLc2OE"
   },
   "source": [
    "**dropna()**\n",
    "dropna removes the entire row having missing value"
   ]
  },
  {
   "cell_type": "code",
   "execution_count": 17,
   "metadata": {
    "colab": {
     "base_uri": "https://localhost:8080/",
     "height": 238
    },
    "executionInfo": {
     "elapsed": 368,
     "status": "ok",
     "timestamp": 1703578341095,
     "user": {
      "displayName": "Wanthanee Prachuabsupakij",
      "userId": "13160947104043617262"
     },
     "user_tz": -420
    },
    "id": "lPtBpCquc3eT",
    "outputId": "b5724717-687c-448e-f6dc-ff4475ccc8d6"
   },
   "outputs": [
    {
     "data": {
      "text/html": [
       "<div>\n",
       "<style scoped>\n",
       "    .dataframe tbody tr th:only-of-type {\n",
       "        vertical-align: middle;\n",
       "    }\n",
       "\n",
       "    .dataframe tbody tr th {\n",
       "        vertical-align: top;\n",
       "    }\n",
       "\n",
       "    .dataframe thead th {\n",
       "        text-align: right;\n",
       "    }\n",
       "</style>\n",
       "<table border=\"1\" class=\"dataframe\">\n",
       "  <thead>\n",
       "    <tr style=\"text-align: right;\">\n",
       "      <th></th>\n",
       "      <th>Part</th>\n",
       "      <th>Feature</th>\n",
       "      <th>Price</th>\n",
       "    </tr>\n",
       "  </thead>\n",
       "  <tbody>\n",
       "    <tr>\n",
       "      <th>0</th>\n",
       "      <td>Monitor</td>\n",
       "      <td>LED</td>\n",
       "      <td>12000.0</td>\n",
       "    </tr>\n",
       "    <tr>\n",
       "      <th>1</th>\n",
       "      <td>CPU</td>\n",
       "      <td>i7</td>\n",
       "      <td>3500.0</td>\n",
       "    </tr>\n",
       "    <tr>\n",
       "      <th>3</th>\n",
       "      <td>Mouse</td>\n",
       "      <td>Wireless</td>\n",
       "      <td>1200.0</td>\n",
       "    </tr>\n",
       "    <tr>\n",
       "      <th>6</th>\n",
       "      <td>Table</td>\n",
       "      <td>Urban Clap</td>\n",
       "      <td>7000.0</td>\n",
       "    </tr>\n",
       "    <tr>\n",
       "      <th>7</th>\n",
       "      <td>Chair</td>\n",
       "      <td>Apex Chairs</td>\n",
       "      <td>12000.0</td>\n",
       "    </tr>\n",
       "    <tr>\n",
       "      <th>8</th>\n",
       "      <td>Wifi</td>\n",
       "      <td>Airtel</td>\n",
       "      <td>799.0</td>\n",
       "    </tr>\n",
       "  </tbody>\n",
       "</table>\n",
       "</div>"
      ],
      "text/plain": [
       "      Part      Feature    Price\n",
       "0  Monitor          LED  12000.0\n",
       "1      CPU           i7   3500.0\n",
       "3    Mouse     Wireless   1200.0\n",
       "6    Table   Urban Clap   7000.0\n",
       "7    Chair  Apex Chairs  12000.0\n",
       "8     Wifi       Airtel    799.0"
      ]
     },
     "execution_count": 17,
     "metadata": {},
     "output_type": "execute_result"
    }
   ],
   "source": [
    "df.dropna()"
   ]
  },
  {
   "cell_type": "code",
   "execution_count": 18,
   "metadata": {
    "colab": {
     "base_uri": "https://localhost:8080/",
     "height": 332
    },
    "executionInfo": {
     "elapsed": 329,
     "status": "ok",
     "timestamp": 1703578344912,
     "user": {
      "displayName": "Wanthanee Prachuabsupakij",
      "userId": "13160947104043617262"
     },
     "user_tz": -420
    },
    "id": "LIXJcZ4PABWP",
    "outputId": "c33779fa-6da4-4b07-c78f-a370d735d2a3"
   },
   "outputs": [
    {
     "data": {
      "text/html": [
       "<div>\n",
       "<style scoped>\n",
       "    .dataframe tbody tr th:only-of-type {\n",
       "        vertical-align: middle;\n",
       "    }\n",
       "\n",
       "    .dataframe tbody tr th {\n",
       "        vertical-align: top;\n",
       "    }\n",
       "\n",
       "    .dataframe thead th {\n",
       "        text-align: right;\n",
       "    }\n",
       "</style>\n",
       "<table border=\"1\" class=\"dataframe\">\n",
       "  <thead>\n",
       "    <tr style=\"text-align: right;\">\n",
       "      <th></th>\n",
       "      <th>Part</th>\n",
       "      <th>Feature</th>\n",
       "      <th>Price</th>\n",
       "    </tr>\n",
       "  </thead>\n",
       "  <tbody>\n",
       "    <tr>\n",
       "      <th>0</th>\n",
       "      <td>Monitor</td>\n",
       "      <td>LED</td>\n",
       "      <td>12000.0</td>\n",
       "    </tr>\n",
       "    <tr>\n",
       "      <th>1</th>\n",
       "      <td>CPU</td>\n",
       "      <td>i7</td>\n",
       "      <td>3500.0</td>\n",
       "    </tr>\n",
       "    <tr>\n",
       "      <th>2</th>\n",
       "      <td>None</td>\n",
       "      <td>RGB</td>\n",
       "      <td>NaN</td>\n",
       "    </tr>\n",
       "    <tr>\n",
       "      <th>3</th>\n",
       "      <td>Mouse</td>\n",
       "      <td>Wireless</td>\n",
       "      <td>1200.0</td>\n",
       "    </tr>\n",
       "    <tr>\n",
       "      <th>4</th>\n",
       "      <td>None</td>\n",
       "      <td>Zebronics</td>\n",
       "      <td>NaN</td>\n",
       "    </tr>\n",
       "    <tr>\n",
       "      <th>5</th>\n",
       "      <td>Extensions</td>\n",
       "      <td>None</td>\n",
       "      <td>250.0</td>\n",
       "    </tr>\n",
       "    <tr>\n",
       "      <th>6</th>\n",
       "      <td>Table</td>\n",
       "      <td>Urban Clap</td>\n",
       "      <td>7000.0</td>\n",
       "    </tr>\n",
       "    <tr>\n",
       "      <th>7</th>\n",
       "      <td>Chair</td>\n",
       "      <td>Apex Chairs</td>\n",
       "      <td>12000.0</td>\n",
       "    </tr>\n",
       "    <tr>\n",
       "      <th>8</th>\n",
       "      <td>Wifi</td>\n",
       "      <td>Airtel</td>\n",
       "      <td>799.0</td>\n",
       "    </tr>\n",
       "  </tbody>\n",
       "</table>\n",
       "</div>"
      ],
      "text/plain": [
       "         Part      Feature    Price\n",
       "0     Monitor          LED  12000.0\n",
       "1         CPU           i7   3500.0\n",
       "2        None          RGB      NaN\n",
       "3       Mouse     Wireless   1200.0\n",
       "4        None    Zebronics      NaN\n",
       "5  Extensions         None    250.0\n",
       "6       Table   Urban Clap   7000.0\n",
       "7       Chair  Apex Chairs  12000.0\n",
       "8        Wifi       Airtel    799.0"
      ]
     },
     "execution_count": 18,
     "metadata": {},
     "output_type": "execute_result"
    }
   ],
   "source": [
    "df"
   ]
  },
  {
   "cell_type": "markdown",
   "metadata": {
    "id": "zIJWqWPxc_DD"
   },
   "source": [
    "\n",
    "# replace with mean using Imputer\n"
   ]
  },
  {
   "cell_type": "code",
   "execution_count": 19,
   "metadata": {
    "colab": {
     "base_uri": "https://localhost:8080/",
     "height": 332
    },
    "executionInfo": {
     "elapsed": 352,
     "status": "ok",
     "timestamp": 1703578469743,
     "user": {
      "displayName": "Wanthanee Prachuabsupakij",
      "userId": "13160947104043617262"
     },
     "user_tz": -420
    },
    "id": "-pQQbcK7dBUU",
    "outputId": "e4fa5822-3622-4f6d-ca11-ce6ab33986ea"
   },
   "outputs": [
    {
     "data": {
      "text/html": [
       "<div>\n",
       "<style scoped>\n",
       "    .dataframe tbody tr th:only-of-type {\n",
       "        vertical-align: middle;\n",
       "    }\n",
       "\n",
       "    .dataframe tbody tr th {\n",
       "        vertical-align: top;\n",
       "    }\n",
       "\n",
       "    .dataframe thead th {\n",
       "        text-align: right;\n",
       "    }\n",
       "</style>\n",
       "<table border=\"1\" class=\"dataframe\">\n",
       "  <thead>\n",
       "    <tr style=\"text-align: right;\">\n",
       "      <th></th>\n",
       "      <th>Part</th>\n",
       "      <th>Feature</th>\n",
       "      <th>Price</th>\n",
       "    </tr>\n",
       "  </thead>\n",
       "  <tbody>\n",
       "    <tr>\n",
       "      <th>0</th>\n",
       "      <td>Monitor</td>\n",
       "      <td>LED</td>\n",
       "      <td>12000.000000</td>\n",
       "    </tr>\n",
       "    <tr>\n",
       "      <th>1</th>\n",
       "      <td>CPU</td>\n",
       "      <td>i7</td>\n",
       "      <td>3500.000000</td>\n",
       "    </tr>\n",
       "    <tr>\n",
       "      <th>2</th>\n",
       "      <td>None</td>\n",
       "      <td>RGB</td>\n",
       "      <td>5249.857143</td>\n",
       "    </tr>\n",
       "    <tr>\n",
       "      <th>3</th>\n",
       "      <td>Mouse</td>\n",
       "      <td>Wireless</td>\n",
       "      <td>1200.000000</td>\n",
       "    </tr>\n",
       "    <tr>\n",
       "      <th>4</th>\n",
       "      <td>None</td>\n",
       "      <td>Zebronics</td>\n",
       "      <td>5249.857143</td>\n",
       "    </tr>\n",
       "    <tr>\n",
       "      <th>5</th>\n",
       "      <td>Extensions</td>\n",
       "      <td>None</td>\n",
       "      <td>250.000000</td>\n",
       "    </tr>\n",
       "    <tr>\n",
       "      <th>6</th>\n",
       "      <td>Table</td>\n",
       "      <td>Urban Clap</td>\n",
       "      <td>7000.000000</td>\n",
       "    </tr>\n",
       "    <tr>\n",
       "      <th>7</th>\n",
       "      <td>Chair</td>\n",
       "      <td>Apex Chairs</td>\n",
       "      <td>12000.000000</td>\n",
       "    </tr>\n",
       "    <tr>\n",
       "      <th>8</th>\n",
       "      <td>Wifi</td>\n",
       "      <td>Airtel</td>\n",
       "      <td>799.000000</td>\n",
       "    </tr>\n",
       "  </tbody>\n",
       "</table>\n",
       "</div>"
      ],
      "text/plain": [
       "         Part      Feature         Price\n",
       "0     Monitor          LED  12000.000000\n",
       "1         CPU           i7   3500.000000\n",
       "2        None          RGB   5249.857143\n",
       "3       Mouse     Wireless   1200.000000\n",
       "4        None    Zebronics   5249.857143\n",
       "5  Extensions         None    250.000000\n",
       "6       Table   Urban Clap   7000.000000\n",
       "7       Chair  Apex Chairs  12000.000000\n",
       "8        Wifi       Airtel    799.000000"
      ]
     },
     "execution_count": 19,
     "metadata": {},
     "output_type": "execute_result"
    }
   ],
   "source": [
    "from sklearn.impute import SimpleImputer\n",
    "imputer = SimpleImputer(missing_values=np.nan, strategy='mean')\n",
    "# ถ้ามีข้อมูลมีเพียง 1 มิติ (Feature ที่ต้องการเปลี่ยนมี Column เดียว) ต้องมีการ .reshape() ให้อยู่ในรูป 1 มิติก่อนเริ่มทำงาน โดยให้ค่าเป็น (-1, 1)\n",
    "df.Price= imputer.fit_transform(df['Price'].values.reshape(-1,1))[:,0] #ทุกrow ใน column 0  ของ df['Price]\n",
    "df\n"
   ]
  },
  {
   "cell_type": "markdown",
   "metadata": {
    "id": "sDgMSitXumUP"
   },
   "source": [
    "##most_frequent"
   ]
  },
  {
   "cell_type": "code",
   "execution_count": 20,
   "metadata": {
    "colab": {
     "base_uri": "https://localhost:8080/",
     "height": 523
    },
    "executionInfo": {
     "elapsed": 325,
     "status": "ok",
     "timestamp": 1703578527024,
     "user": {
      "displayName": "Wanthanee Prachuabsupakij",
      "userId": "13160947104043617262"
     },
     "user_tz": -420
    },
    "id": "Li8uy7VI-FB8",
    "outputId": "faaefe67-aa98-4962-ec7a-b14b36002e15"
   },
   "outputs": [
    {
     "name": "stdout",
     "output_type": "stream",
     "text": [
      "         Part      Feature         Price\n",
      "0     Monitor          LED  12000.000000\n",
      "1         CPU           i7   3500.000000\n",
      "2        None          RGB   5249.857143\n",
      "3       Mouse     Wireless   1200.000000\n",
      "4        None    Zebronics   5249.857143\n",
      "5  Extensions         None    250.000000\n",
      "6       Table   Urban Clap   7000.000000\n",
      "7       Chair  Apex Chairs  12000.000000\n",
      "8        Wifi       Airtel    799.000000\n",
      "\n"
     ]
    },
    {
     "data": {
      "text/html": [
       "<div>\n",
       "<style scoped>\n",
       "    .dataframe tbody tr th:only-of-type {\n",
       "        vertical-align: middle;\n",
       "    }\n",
       "\n",
       "    .dataframe tbody tr th {\n",
       "        vertical-align: top;\n",
       "    }\n",
       "\n",
       "    .dataframe thead th {\n",
       "        text-align: right;\n",
       "    }\n",
       "</style>\n",
       "<table border=\"1\" class=\"dataframe\">\n",
       "  <thead>\n",
       "    <tr style=\"text-align: right;\">\n",
       "      <th></th>\n",
       "      <th>Part</th>\n",
       "      <th>Feature</th>\n",
       "      <th>Price</th>\n",
       "    </tr>\n",
       "  </thead>\n",
       "  <tbody>\n",
       "    <tr>\n",
       "      <th>0</th>\n",
       "      <td>Monitor</td>\n",
       "      <td>LED</td>\n",
       "      <td>12000.000000</td>\n",
       "    </tr>\n",
       "    <tr>\n",
       "      <th>1</th>\n",
       "      <td>CPU</td>\n",
       "      <td>i7</td>\n",
       "      <td>3500.000000</td>\n",
       "    </tr>\n",
       "    <tr>\n",
       "      <th>2</th>\n",
       "      <td>CPU</td>\n",
       "      <td>RGB</td>\n",
       "      <td>5249.857143</td>\n",
       "    </tr>\n",
       "    <tr>\n",
       "      <th>3</th>\n",
       "      <td>Mouse</td>\n",
       "      <td>Wireless</td>\n",
       "      <td>1200.000000</td>\n",
       "    </tr>\n",
       "    <tr>\n",
       "      <th>4</th>\n",
       "      <td>CPU</td>\n",
       "      <td>Zebronics</td>\n",
       "      <td>5249.857143</td>\n",
       "    </tr>\n",
       "    <tr>\n",
       "      <th>5</th>\n",
       "      <td>Extensions</td>\n",
       "      <td>Airtel</td>\n",
       "      <td>250.000000</td>\n",
       "    </tr>\n",
       "    <tr>\n",
       "      <th>6</th>\n",
       "      <td>Table</td>\n",
       "      <td>Urban Clap</td>\n",
       "      <td>7000.000000</td>\n",
       "    </tr>\n",
       "    <tr>\n",
       "      <th>7</th>\n",
       "      <td>Chair</td>\n",
       "      <td>Apex Chairs</td>\n",
       "      <td>12000.000000</td>\n",
       "    </tr>\n",
       "    <tr>\n",
       "      <th>8</th>\n",
       "      <td>Wifi</td>\n",
       "      <td>Airtel</td>\n",
       "      <td>799.000000</td>\n",
       "    </tr>\n",
       "  </tbody>\n",
       "</table>\n",
       "</div>"
      ],
      "text/plain": [
       "         Part      Feature         Price\n",
       "0     Monitor          LED  12000.000000\n",
       "1         CPU           i7   3500.000000\n",
       "2         CPU          RGB   5249.857143\n",
       "3       Mouse     Wireless   1200.000000\n",
       "4         CPU    Zebronics   5249.857143\n",
       "5  Extensions       Airtel    250.000000\n",
       "6       Table   Urban Clap   7000.000000\n",
       "7       Chair  Apex Chairs  12000.000000\n",
       "8        Wifi       Airtel    799.000000"
      ]
     },
     "execution_count": 20,
     "metadata": {},
     "output_type": "execute_result"
    }
   ],
   "source": [
    "print(df)\n",
    "print()\n",
    "from sklearn.impute import SimpleImputer\n",
    "imputer = SimpleImputer(missing_values=None, strategy='most_frequent') #สังเกตตรง missing value\n",
    "df.Feature= imputer.fit_transform(df['Feature'].values.reshape(-1,1))[:,0]\n",
    "df.Part= imputer.fit_transform(df['Part'].values.reshape(-1,1))[:,0]\n",
    "df"
   ]
  },
  {
   "cell_type": "markdown",
   "metadata": {
    "id": "EtJG9hzdu-y3"
   },
   "source": [
    "##แบบฝึกหัด 2\n",
    "จากข้อมูลที่กำหนดให้ข้างล่าง นักศึกษาตั้งชื่อฟิล์ด ดังนี้\n",
    "\n",
    "'marks', 'gender', 'result'  เรียงตามลำดับ\n",
    "\n",
    "หลังจากนั้นทำการค้นหาว่าข้อมูลนี้มีข้อมูลที่สูญหายหรือไม่  ถ้ามีให้จัดการแทนที่ข้อมูลที่สูญหายด้วยค่า mean และค่า most frequent\n"
   ]
  },
  {
   "cell_type": "code",
   "execution_count": 21,
   "metadata": {
    "colab": {
     "base_uri": "https://localhost:8080/",
     "height": 300
    },
    "executionInfo": {
     "elapsed": 341,
     "status": "ok",
     "timestamp": 1703579032374,
     "user": {
      "displayName": "Wanthanee Prachuabsupakij",
      "userId": "13160947104043617262"
     },
     "user_tz": -420
    },
    "id": "YMovHhWLvitN",
    "outputId": "90bde398-8ad3-41e4-9e47-59a226c59c41"
   },
   "outputs": [
    {
     "data": {
      "text/html": [
       "<div>\n",
       "<style scoped>\n",
       "    .dataframe tbody tr th:only-of-type {\n",
       "        vertical-align: middle;\n",
       "    }\n",
       "\n",
       "    .dataframe tbody tr th {\n",
       "        vertical-align: top;\n",
       "    }\n",
       "\n",
       "    .dataframe thead th {\n",
       "        text-align: right;\n",
       "    }\n",
       "</style>\n",
       "<table border=\"1\" class=\"dataframe\">\n",
       "  <thead>\n",
       "    <tr style=\"text-align: right;\">\n",
       "      <th></th>\n",
       "      <th>marks</th>\n",
       "      <th>gender</th>\n",
       "      <th>result</th>\n",
       "    </tr>\n",
       "  </thead>\n",
       "  <tbody>\n",
       "    <tr>\n",
       "      <th>0</th>\n",
       "      <td>85.0</td>\n",
       "      <td>M</td>\n",
       "      <td>verygood</td>\n",
       "    </tr>\n",
       "    <tr>\n",
       "      <th>1</th>\n",
       "      <td>95.0</td>\n",
       "      <td>F</td>\n",
       "      <td>excellent</td>\n",
       "    </tr>\n",
       "    <tr>\n",
       "      <th>2</th>\n",
       "      <td>75.0</td>\n",
       "      <td>None</td>\n",
       "      <td>good</td>\n",
       "    </tr>\n",
       "    <tr>\n",
       "      <th>3</th>\n",
       "      <td>NaN</td>\n",
       "      <td>M</td>\n",
       "      <td>average</td>\n",
       "    </tr>\n",
       "    <tr>\n",
       "      <th>4</th>\n",
       "      <td>70.0</td>\n",
       "      <td>M</td>\n",
       "      <td>good</td>\n",
       "    </tr>\n",
       "    <tr>\n",
       "      <th>5</th>\n",
       "      <td>NaN</td>\n",
       "      <td>None</td>\n",
       "      <td>verygood</td>\n",
       "    </tr>\n",
       "    <tr>\n",
       "      <th>6</th>\n",
       "      <td>92.0</td>\n",
       "      <td>F</td>\n",
       "      <td>verygood</td>\n",
       "    </tr>\n",
       "    <tr>\n",
       "      <th>7</th>\n",
       "      <td>98.0</td>\n",
       "      <td>M</td>\n",
       "      <td>excellent</td>\n",
       "    </tr>\n",
       "  </tbody>\n",
       "</table>\n",
       "</div>"
      ],
      "text/plain": [
       "   marks gender     result\n",
       "0   85.0      M   verygood\n",
       "1   95.0      F  excellent\n",
       "2   75.0   None       good\n",
       "3    NaN      M    average\n",
       "4   70.0      M       good\n",
       "5    NaN   None   verygood\n",
       "6   92.0      F   verygood\n",
       "7   98.0      M  excellent"
      ]
     },
     "execution_count": 21,
     "metadata": {},
     "output_type": "execute_result"
    }
   ],
   "source": [
    "#เขียนโปรแกรมของนักศึกษาไว้ที่นี่\n",
    "students = [[85, 'M', 'verygood'],\n",
    "           [95, 'F', 'excellent'],\n",
    "           [75, None,'good'],\n",
    "           [np.nan, 'M', 'average'],\n",
    "           [70, 'M', 'good'],\n",
    "           [np.nan, None, 'verygood'],\n",
    "           [92, 'F', 'verygood'],\n",
    "           [98, 'M', 'excellent']]\n",
    "\n",
    "df = pd.DataFrame(students, columns = ['marks','gender','result'])\n",
    "df\n"
   ]
  },
  {
   "cell_type": "code",
   "execution_count": 22,
   "metadata": {
    "colab": {
     "base_uri": "https://localhost:8080/",
     "height": 300
    },
    "executionInfo": {
     "elapsed": 336,
     "status": "ok",
     "timestamp": 1703579231736,
     "user": {
      "displayName": "Wanthanee Prachuabsupakij",
      "userId": "13160947104043617262"
     },
     "user_tz": -420
    },
    "id": "tWzna63TMuUN",
    "outputId": "5af412bd-9e68-41de-b085-aace12c7d916"
   },
   "outputs": [
    {
     "data": {
      "text/html": [
       "<div>\n",
       "<style scoped>\n",
       "    .dataframe tbody tr th:only-of-type {\n",
       "        vertical-align: middle;\n",
       "    }\n",
       "\n",
       "    .dataframe tbody tr th {\n",
       "        vertical-align: top;\n",
       "    }\n",
       "\n",
       "    .dataframe thead th {\n",
       "        text-align: right;\n",
       "    }\n",
       "</style>\n",
       "<table border=\"1\" class=\"dataframe\">\n",
       "  <thead>\n",
       "    <tr style=\"text-align: right;\">\n",
       "      <th></th>\n",
       "      <th>marks</th>\n",
       "      <th>gender</th>\n",
       "      <th>result</th>\n",
       "    </tr>\n",
       "  </thead>\n",
       "  <tbody>\n",
       "    <tr>\n",
       "      <th>0</th>\n",
       "      <td>85.000000</td>\n",
       "      <td>M</td>\n",
       "      <td>verygood</td>\n",
       "    </tr>\n",
       "    <tr>\n",
       "      <th>1</th>\n",
       "      <td>95.000000</td>\n",
       "      <td>F</td>\n",
       "      <td>excellent</td>\n",
       "    </tr>\n",
       "    <tr>\n",
       "      <th>2</th>\n",
       "      <td>75.000000</td>\n",
       "      <td>M</td>\n",
       "      <td>good</td>\n",
       "    </tr>\n",
       "    <tr>\n",
       "      <th>3</th>\n",
       "      <td>85.833333</td>\n",
       "      <td>M</td>\n",
       "      <td>average</td>\n",
       "    </tr>\n",
       "    <tr>\n",
       "      <th>4</th>\n",
       "      <td>70.000000</td>\n",
       "      <td>M</td>\n",
       "      <td>good</td>\n",
       "    </tr>\n",
       "    <tr>\n",
       "      <th>5</th>\n",
       "      <td>85.833333</td>\n",
       "      <td>M</td>\n",
       "      <td>verygood</td>\n",
       "    </tr>\n",
       "    <tr>\n",
       "      <th>6</th>\n",
       "      <td>92.000000</td>\n",
       "      <td>F</td>\n",
       "      <td>verygood</td>\n",
       "    </tr>\n",
       "    <tr>\n",
       "      <th>7</th>\n",
       "      <td>98.000000</td>\n",
       "      <td>M</td>\n",
       "      <td>excellent</td>\n",
       "    </tr>\n",
       "  </tbody>\n",
       "</table>\n",
       "</div>"
      ],
      "text/plain": [
       "       marks gender     result\n",
       "0  85.000000      M   verygood\n",
       "1  95.000000      F  excellent\n",
       "2  75.000000      M       good\n",
       "3  85.833333      M    average\n",
       "4  70.000000      M       good\n",
       "5  85.833333      M   verygood\n",
       "6  92.000000      F   verygood\n",
       "7  98.000000      M  excellent"
      ]
     },
     "execution_count": 22,
     "metadata": {},
     "output_type": "execute_result"
    }
   ],
   "source": [
    "imputer = SimpleImputer(missing_values=None, strategy='most_frequent')\n",
    "df.gender= imputer.fit_transform(df['gender'].values.reshape(-1,1))[:,0]\n",
    "\n",
    "imputer = SimpleImputer(missing_values=np.nan, strategy='mean')\n",
    "df.marks= imputer.fit_transform(df['marks'].values.reshape(-1,1))[:,0]\n",
    "df"
   ]
  },
  {
   "cell_type": "markdown",
   "metadata": {
    "id": "4PH2OdZp-odE"
   },
   "source": [
    "#Handling Outliers\n",
    "\n",
    "Outlier (หรือเรียกว่า anomaly, extreme value) คือ data points ที่มีค่าสูงหรือต่ำกว่า data points ส่วนใหญ่ในชุดข้อมูล อย่างมาก\n",
    "\n",
    "เช่น ส่วนสูง 210 cm คือค่า outlier สำหรับคนไทย\n",
    "\n",
    "วิธีการตรวจสอบ Outlier อาจดูได้จาก boxplot หรือ คำนวณค่าสถิติ\n",
    "\n",
    "ในที่นี้ยกตัวอย่าง การดู Outlier จาก boxplot\n",
    "\n",
    "(ตัวอย่าง อ้างอิงมาจากเว็บ https://is.gd/DvH2FR)"
   ]
  },
  {
   "cell_type": "code",
   "execution_count": 23,
   "metadata": {
    "colab": {
     "base_uri": "https://localhost:8080/",
     "height": 461
    },
    "executionInfo": {
     "elapsed": 548,
     "status": "ok",
     "timestamp": 1703579549826,
     "user": {
      "displayName": "Wanthanee Prachuabsupakij",
      "userId": "13160947104043617262"
     },
     "user_tz": -420
    },
    "id": "nKjgfBXwq0mJ",
    "outputId": "2b314de8-5e25-443a-91ba-750c4e2d7947"
   },
   "outputs": [
    {
     "name": "stdout",
     "output_type": "stream",
     "text": [
      "Requirement already satisfied: seaborn in .\\venv\\lib\\site-packages (0.13.2)\n",
      "Requirement already satisfied: numpy!=1.24.0,>=1.20 in .\\venv\\lib\\site-packages (from seaborn) (2.1.3)\n",
      "Requirement already satisfied: pandas>=1.2 in .\\venv\\lib\\site-packages (from seaborn) (2.2.3)\n",
      "Requirement already satisfied: matplotlib!=3.6.1,>=3.4 in .\\venv\\lib\\site-packages (from seaborn) (3.9.2)\n",
      "Requirement already satisfied: contourpy>=1.0.1 in .\\venv\\lib\\site-packages (from matplotlib!=3.6.1,>=3.4->seaborn) (1.3.1)\n",
      "Requirement already satisfied: cycler>=0.10 in .\\venv\\lib\\site-packages (from matplotlib!=3.6.1,>=3.4->seaborn) (0.12.1)\n",
      "Requirement already satisfied: fonttools>=4.22.0 in .\\venv\\lib\\site-packages (from matplotlib!=3.6.1,>=3.4->seaborn) (4.55.0)\n",
      "Requirement already satisfied: kiwisolver>=1.3.1 in .\\venv\\lib\\site-packages (from matplotlib!=3.6.1,>=3.4->seaborn) (1.4.7)\n",
      "Requirement already satisfied: packaging>=20.0 in .\\venv\\lib\\site-packages (from matplotlib!=3.6.1,>=3.4->seaborn) (24.2)\n",
      "Requirement already satisfied: pillow>=8 in .\\venv\\lib\\site-packages (from matplotlib!=3.6.1,>=3.4->seaborn) (11.0.0)\n",
      "Requirement already satisfied: pyparsing>=2.3.1 in .\\venv\\lib\\site-packages (from matplotlib!=3.6.1,>=3.4->seaborn) (3.2.0)\n",
      "Requirement already satisfied: python-dateutil>=2.7 in .\\venv\\lib\\site-packages (from matplotlib!=3.6.1,>=3.4->seaborn) (2.9.0.post0)\n",
      "Requirement already satisfied: pytz>=2020.1 in .\\venv\\lib\\site-packages (from pandas>=1.2->seaborn) (2024.2)\n",
      "Requirement already satisfied: tzdata>=2022.7 in .\\venv\\lib\\site-packages (from pandas>=1.2->seaborn) (2024.2)\n",
      "Requirement already satisfied: six>=1.5 in .\\venv\\lib\\site-packages (from python-dateutil>=2.7->matplotlib!=3.6.1,>=3.4->seaborn) (1.16.0)\n"
     ]
    },
    {
     "data": {
      "text/html": [
       "<div>\n",
       "<style scoped>\n",
       "    .dataframe tbody tr th:only-of-type {\n",
       "        vertical-align: middle;\n",
       "    }\n",
       "\n",
       "    .dataframe tbody tr th {\n",
       "        vertical-align: top;\n",
       "    }\n",
       "\n",
       "    .dataframe thead th {\n",
       "        text-align: right;\n",
       "    }\n",
       "</style>\n",
       "<table border=\"1\" class=\"dataframe\">\n",
       "  <thead>\n",
       "    <tr style=\"text-align: right;\">\n",
       "      <th></th>\n",
       "      <th>id</th>\n",
       "      <th>diagnosis</th>\n",
       "      <th>radius_mean</th>\n",
       "      <th>texture_mean</th>\n",
       "      <th>perimeter_mean</th>\n",
       "      <th>area_mean</th>\n",
       "      <th>smoothness_mean</th>\n",
       "      <th>compactness_mean</th>\n",
       "      <th>concavity_mean</th>\n",
       "      <th>concave points_mean</th>\n",
       "      <th>...</th>\n",
       "      <th>texture_worst</th>\n",
       "      <th>perimeter_worst</th>\n",
       "      <th>area_worst</th>\n",
       "      <th>smoothness_worst</th>\n",
       "      <th>compactness_worst</th>\n",
       "      <th>concavity_worst</th>\n",
       "      <th>concave points_worst</th>\n",
       "      <th>symmetry_worst</th>\n",
       "      <th>fractal_dimension_worst</th>\n",
       "      <th>Unnamed: 32</th>\n",
       "    </tr>\n",
       "  </thead>\n",
       "  <tbody>\n",
       "    <tr>\n",
       "      <th>0</th>\n",
       "      <td>842302</td>\n",
       "      <td>M</td>\n",
       "      <td>17.99</td>\n",
       "      <td>10.38</td>\n",
       "      <td>122.80</td>\n",
       "      <td>1001.0</td>\n",
       "      <td>0.11840</td>\n",
       "      <td>0.27760</td>\n",
       "      <td>0.30010</td>\n",
       "      <td>0.14710</td>\n",
       "      <td>...</td>\n",
       "      <td>17.33</td>\n",
       "      <td>184.60</td>\n",
       "      <td>2019.0</td>\n",
       "      <td>0.16220</td>\n",
       "      <td>0.66560</td>\n",
       "      <td>0.7119</td>\n",
       "      <td>0.2654</td>\n",
       "      <td>0.4601</td>\n",
       "      <td>0.11890</td>\n",
       "      <td>NaN</td>\n",
       "    </tr>\n",
       "    <tr>\n",
       "      <th>1</th>\n",
       "      <td>842517</td>\n",
       "      <td>M</td>\n",
       "      <td>20.57</td>\n",
       "      <td>17.77</td>\n",
       "      <td>132.90</td>\n",
       "      <td>1326.0</td>\n",
       "      <td>0.08474</td>\n",
       "      <td>0.07864</td>\n",
       "      <td>0.08690</td>\n",
       "      <td>0.07017</td>\n",
       "      <td>...</td>\n",
       "      <td>23.41</td>\n",
       "      <td>158.80</td>\n",
       "      <td>1956.0</td>\n",
       "      <td>0.12380</td>\n",
       "      <td>0.18660</td>\n",
       "      <td>0.2416</td>\n",
       "      <td>0.1860</td>\n",
       "      <td>0.2750</td>\n",
       "      <td>0.08902</td>\n",
       "      <td>NaN</td>\n",
       "    </tr>\n",
       "    <tr>\n",
       "      <th>2</th>\n",
       "      <td>84300903</td>\n",
       "      <td>M</td>\n",
       "      <td>19.69</td>\n",
       "      <td>21.25</td>\n",
       "      <td>130.00</td>\n",
       "      <td>1203.0</td>\n",
       "      <td>0.10960</td>\n",
       "      <td>0.15990</td>\n",
       "      <td>0.19740</td>\n",
       "      <td>0.12790</td>\n",
       "      <td>...</td>\n",
       "      <td>25.53</td>\n",
       "      <td>152.50</td>\n",
       "      <td>1709.0</td>\n",
       "      <td>0.14440</td>\n",
       "      <td>0.42450</td>\n",
       "      <td>0.4504</td>\n",
       "      <td>0.2430</td>\n",
       "      <td>0.3613</td>\n",
       "      <td>0.08758</td>\n",
       "      <td>NaN</td>\n",
       "    </tr>\n",
       "    <tr>\n",
       "      <th>3</th>\n",
       "      <td>84348301</td>\n",
       "      <td>M</td>\n",
       "      <td>11.42</td>\n",
       "      <td>20.38</td>\n",
       "      <td>77.58</td>\n",
       "      <td>386.1</td>\n",
       "      <td>0.14250</td>\n",
       "      <td>0.28390</td>\n",
       "      <td>0.24140</td>\n",
       "      <td>0.10520</td>\n",
       "      <td>...</td>\n",
       "      <td>26.50</td>\n",
       "      <td>98.87</td>\n",
       "      <td>567.7</td>\n",
       "      <td>0.20980</td>\n",
       "      <td>0.86630</td>\n",
       "      <td>0.6869</td>\n",
       "      <td>0.2575</td>\n",
       "      <td>0.6638</td>\n",
       "      <td>0.17300</td>\n",
       "      <td>NaN</td>\n",
       "    </tr>\n",
       "    <tr>\n",
       "      <th>4</th>\n",
       "      <td>84358402</td>\n",
       "      <td>M</td>\n",
       "      <td>20.29</td>\n",
       "      <td>14.34</td>\n",
       "      <td>135.10</td>\n",
       "      <td>1297.0</td>\n",
       "      <td>0.10030</td>\n",
       "      <td>0.13280</td>\n",
       "      <td>0.19800</td>\n",
       "      <td>0.10430</td>\n",
       "      <td>...</td>\n",
       "      <td>16.67</td>\n",
       "      <td>152.20</td>\n",
       "      <td>1575.0</td>\n",
       "      <td>0.13740</td>\n",
       "      <td>0.20500</td>\n",
       "      <td>0.4000</td>\n",
       "      <td>0.1625</td>\n",
       "      <td>0.2364</td>\n",
       "      <td>0.07678</td>\n",
       "      <td>NaN</td>\n",
       "    </tr>\n",
       "    <tr>\n",
       "      <th>...</th>\n",
       "      <td>...</td>\n",
       "      <td>...</td>\n",
       "      <td>...</td>\n",
       "      <td>...</td>\n",
       "      <td>...</td>\n",
       "      <td>...</td>\n",
       "      <td>...</td>\n",
       "      <td>...</td>\n",
       "      <td>...</td>\n",
       "      <td>...</td>\n",
       "      <td>...</td>\n",
       "      <td>...</td>\n",
       "      <td>...</td>\n",
       "      <td>...</td>\n",
       "      <td>...</td>\n",
       "      <td>...</td>\n",
       "      <td>...</td>\n",
       "      <td>...</td>\n",
       "      <td>...</td>\n",
       "      <td>...</td>\n",
       "      <td>...</td>\n",
       "    </tr>\n",
       "    <tr>\n",
       "      <th>564</th>\n",
       "      <td>926424</td>\n",
       "      <td>M</td>\n",
       "      <td>21.56</td>\n",
       "      <td>22.39</td>\n",
       "      <td>142.00</td>\n",
       "      <td>1479.0</td>\n",
       "      <td>0.11100</td>\n",
       "      <td>0.11590</td>\n",
       "      <td>0.24390</td>\n",
       "      <td>0.13890</td>\n",
       "      <td>...</td>\n",
       "      <td>26.40</td>\n",
       "      <td>166.10</td>\n",
       "      <td>2027.0</td>\n",
       "      <td>0.14100</td>\n",
       "      <td>0.21130</td>\n",
       "      <td>0.4107</td>\n",
       "      <td>0.2216</td>\n",
       "      <td>0.2060</td>\n",
       "      <td>0.07115</td>\n",
       "      <td>NaN</td>\n",
       "    </tr>\n",
       "    <tr>\n",
       "      <th>565</th>\n",
       "      <td>926682</td>\n",
       "      <td>M</td>\n",
       "      <td>20.13</td>\n",
       "      <td>28.25</td>\n",
       "      <td>131.20</td>\n",
       "      <td>1261.0</td>\n",
       "      <td>0.09780</td>\n",
       "      <td>0.10340</td>\n",
       "      <td>0.14400</td>\n",
       "      <td>0.09791</td>\n",
       "      <td>...</td>\n",
       "      <td>38.25</td>\n",
       "      <td>155.00</td>\n",
       "      <td>1731.0</td>\n",
       "      <td>0.11660</td>\n",
       "      <td>0.19220</td>\n",
       "      <td>0.3215</td>\n",
       "      <td>0.1628</td>\n",
       "      <td>0.2572</td>\n",
       "      <td>0.06637</td>\n",
       "      <td>NaN</td>\n",
       "    </tr>\n",
       "    <tr>\n",
       "      <th>566</th>\n",
       "      <td>926954</td>\n",
       "      <td>M</td>\n",
       "      <td>16.60</td>\n",
       "      <td>28.08</td>\n",
       "      <td>108.30</td>\n",
       "      <td>858.1</td>\n",
       "      <td>0.08455</td>\n",
       "      <td>0.10230</td>\n",
       "      <td>0.09251</td>\n",
       "      <td>0.05302</td>\n",
       "      <td>...</td>\n",
       "      <td>34.12</td>\n",
       "      <td>126.70</td>\n",
       "      <td>1124.0</td>\n",
       "      <td>0.11390</td>\n",
       "      <td>0.30940</td>\n",
       "      <td>0.3403</td>\n",
       "      <td>0.1418</td>\n",
       "      <td>0.2218</td>\n",
       "      <td>0.07820</td>\n",
       "      <td>NaN</td>\n",
       "    </tr>\n",
       "    <tr>\n",
       "      <th>567</th>\n",
       "      <td>927241</td>\n",
       "      <td>M</td>\n",
       "      <td>20.60</td>\n",
       "      <td>29.33</td>\n",
       "      <td>140.10</td>\n",
       "      <td>1265.0</td>\n",
       "      <td>0.11780</td>\n",
       "      <td>0.27700</td>\n",
       "      <td>0.35140</td>\n",
       "      <td>0.15200</td>\n",
       "      <td>...</td>\n",
       "      <td>39.42</td>\n",
       "      <td>184.60</td>\n",
       "      <td>1821.0</td>\n",
       "      <td>0.16500</td>\n",
       "      <td>0.86810</td>\n",
       "      <td>0.9387</td>\n",
       "      <td>0.2650</td>\n",
       "      <td>0.4087</td>\n",
       "      <td>0.12400</td>\n",
       "      <td>NaN</td>\n",
       "    </tr>\n",
       "    <tr>\n",
       "      <th>568</th>\n",
       "      <td>92751</td>\n",
       "      <td>B</td>\n",
       "      <td>7.76</td>\n",
       "      <td>24.54</td>\n",
       "      <td>47.92</td>\n",
       "      <td>181.0</td>\n",
       "      <td>0.05263</td>\n",
       "      <td>0.04362</td>\n",
       "      <td>0.00000</td>\n",
       "      <td>0.00000</td>\n",
       "      <td>...</td>\n",
       "      <td>30.37</td>\n",
       "      <td>59.16</td>\n",
       "      <td>268.6</td>\n",
       "      <td>0.08996</td>\n",
       "      <td>0.06444</td>\n",
       "      <td>0.0000</td>\n",
       "      <td>0.0000</td>\n",
       "      <td>0.2871</td>\n",
       "      <td>0.07039</td>\n",
       "      <td>NaN</td>\n",
       "    </tr>\n",
       "  </tbody>\n",
       "</table>\n",
       "<p>569 rows × 33 columns</p>\n",
       "</div>"
      ],
      "text/plain": [
       "           id diagnosis  radius_mean  texture_mean  perimeter_mean  area_mean  \\\n",
       "0      842302         M        17.99         10.38          122.80     1001.0   \n",
       "1      842517         M        20.57         17.77          132.90     1326.0   \n",
       "2    84300903         M        19.69         21.25          130.00     1203.0   \n",
       "3    84348301         M        11.42         20.38           77.58      386.1   \n",
       "4    84358402         M        20.29         14.34          135.10     1297.0   \n",
       "..        ...       ...          ...           ...             ...        ...   \n",
       "564    926424         M        21.56         22.39          142.00     1479.0   \n",
       "565    926682         M        20.13         28.25          131.20     1261.0   \n",
       "566    926954         M        16.60         28.08          108.30      858.1   \n",
       "567    927241         M        20.60         29.33          140.10     1265.0   \n",
       "568     92751         B         7.76         24.54           47.92      181.0   \n",
       "\n",
       "     smoothness_mean  compactness_mean  concavity_mean  concave points_mean  \\\n",
       "0            0.11840           0.27760         0.30010              0.14710   \n",
       "1            0.08474           0.07864         0.08690              0.07017   \n",
       "2            0.10960           0.15990         0.19740              0.12790   \n",
       "3            0.14250           0.28390         0.24140              0.10520   \n",
       "4            0.10030           0.13280         0.19800              0.10430   \n",
       "..               ...               ...             ...                  ...   \n",
       "564          0.11100           0.11590         0.24390              0.13890   \n",
       "565          0.09780           0.10340         0.14400              0.09791   \n",
       "566          0.08455           0.10230         0.09251              0.05302   \n",
       "567          0.11780           0.27700         0.35140              0.15200   \n",
       "568          0.05263           0.04362         0.00000              0.00000   \n",
       "\n",
       "     ...  texture_worst  perimeter_worst  area_worst  smoothness_worst  \\\n",
       "0    ...          17.33           184.60      2019.0           0.16220   \n",
       "1    ...          23.41           158.80      1956.0           0.12380   \n",
       "2    ...          25.53           152.50      1709.0           0.14440   \n",
       "3    ...          26.50            98.87       567.7           0.20980   \n",
       "4    ...          16.67           152.20      1575.0           0.13740   \n",
       "..   ...            ...              ...         ...               ...   \n",
       "564  ...          26.40           166.10      2027.0           0.14100   \n",
       "565  ...          38.25           155.00      1731.0           0.11660   \n",
       "566  ...          34.12           126.70      1124.0           0.11390   \n",
       "567  ...          39.42           184.60      1821.0           0.16500   \n",
       "568  ...          30.37            59.16       268.6           0.08996   \n",
       "\n",
       "     compactness_worst  concavity_worst  concave points_worst  symmetry_worst  \\\n",
       "0              0.66560           0.7119                0.2654          0.4601   \n",
       "1              0.18660           0.2416                0.1860          0.2750   \n",
       "2              0.42450           0.4504                0.2430          0.3613   \n",
       "3              0.86630           0.6869                0.2575          0.6638   \n",
       "4              0.20500           0.4000                0.1625          0.2364   \n",
       "..                 ...              ...                   ...             ...   \n",
       "564            0.21130           0.4107                0.2216          0.2060   \n",
       "565            0.19220           0.3215                0.1628          0.2572   \n",
       "566            0.30940           0.3403                0.1418          0.2218   \n",
       "567            0.86810           0.9387                0.2650          0.4087   \n",
       "568            0.06444           0.0000                0.0000          0.2871   \n",
       "\n",
       "     fractal_dimension_worst  Unnamed: 32  \n",
       "0                    0.11890          NaN  \n",
       "1                    0.08902          NaN  \n",
       "2                    0.08758          NaN  \n",
       "3                    0.17300          NaN  \n",
       "4                    0.07678          NaN  \n",
       "..                       ...          ...  \n",
       "564                  0.07115          NaN  \n",
       "565                  0.06637          NaN  \n",
       "566                  0.07820          NaN  \n",
       "567                  0.12400          NaN  \n",
       "568                  0.07039          NaN  \n",
       "\n",
       "[569 rows x 33 columns]"
      ]
     },
     "execution_count": 23,
     "metadata": {},
     "output_type": "execute_result"
    }
   ],
   "source": [
    "import pandas as pd\n",
    "! pip install seaborn\n",
    "import seaborn as sns\n",
    "import matplotlib.pyplot as plt\n",
    "# Put dataset\n",
    "df = pd.read_csv('https://raw.githubusercontent.com/mGalarnyk/Python_Tutorials/master/Kaggle/BreastCancerWisconsin/data/data.csv')\n",
    "df"
   ]
  },
  {
   "cell_type": "markdown",
   "metadata": {
    "id": "vyEGia3zwrEH"
   },
   "source": [
    "##boxplot"
   ]
  },
  {
   "cell_type": "code",
   "execution_count": 24,
   "metadata": {
    "colab": {
     "base_uri": "https://localhost:8080/"
    },
    "executionInfo": {
     "elapsed": 344,
     "status": "ok",
     "timestamp": 1703579568057,
     "user": {
      "displayName": "Wanthanee Prachuabsupakij",
      "userId": "13160947104043617262"
     },
     "user_tz": -420
    },
    "id": "EtsaMCFdI95c",
    "outputId": "350d3feb-83d1-43d6-8dcf-8e6014a79430"
   },
   "outputs": [
    {
     "data": {
      "text/plain": [
       "0      1001.0\n",
       "1      1326.0\n",
       "2      1203.0\n",
       "3       386.1\n",
       "4      1297.0\n",
       "        ...  \n",
       "564    1479.0\n",
       "565    1261.0\n",
       "566     858.1\n",
       "567    1265.0\n",
       "568     181.0\n",
       "Name: area_mean, Length: 569, dtype: float64"
      ]
     },
     "execution_count": 24,
     "metadata": {},
     "output_type": "execute_result"
    }
   ],
   "source": [
    "df['area_mean']"
   ]
  },
  {
   "cell_type": "code",
   "execution_count": 25,
   "metadata": {
    "colab": {
     "base_uri": "https://localhost:8080/",
     "height": 466
    },
    "executionInfo": {
     "elapsed": 5,
     "status": "ok",
     "timestamp": 1703579583337,
     "user": {
      "displayName": "Wanthanee Prachuabsupakij",
      "userId": "13160947104043617262"
     },
     "user_tz": -420
    },
    "id": "7e-UfZuds_bj",
    "outputId": "d956a6d5-f454-4196-d255-fa36f6cb2fcc"
   },
   "outputs": [
    {
     "data": {
      "text/plain": [
       "<Axes: xlabel='area_mean'>"
      ]
     },
     "execution_count": 25,
     "metadata": {},
     "output_type": "execute_result"
    },
    {
     "data": {
      "image/png": "[encoded data removed]",
      "text/plain": [
       "<Figure size 640x480 with 1 Axes>"
      ]
     },
     "metadata": {},
     "output_type": "display_data"
    }
   ],
   "source": [
    "sns.boxplot(x=df['area_mean'])"
   ]
  },
  {
   "cell_type": "markdown",
   "metadata": {
    "id": "_CXCDbR-B814"
   },
   "source": [
    "● Q1 ค่า 1st Quartile หรือบางครั้งเรียกว่า Percentile ที่ 25 ให้ลองจินตนาการ ว่านำข้อมูล 100 ข้อมูล มาเรียงกันจากน้อยไปมาก ค่านี้เป็นลำดับที่ 25 ค่านี้เป็นค่าที่ แบ่งข้อมูล ¼ ส่วนแรกออกมาให้เห็น\n"
   ]
  },
  {
   "cell_type": "code",
   "execution_count": 26,
   "metadata": {
    "colab": {
     "base_uri": "https://localhost:8080/"
    },
    "executionInfo": {
     "elapsed": 341,
     "status": "ok",
     "timestamp": 1703579621431,
     "user": {
      "displayName": "Wanthanee Prachuabsupakij",
      "userId": "13160947104043617262"
     },
     "user_tz": -420
    },
    "id": "i0k8d6lpEDcc",
    "outputId": "9f34aee2-25bd-4055-a78f-2d10d5156a00"
   },
   "outputs": [
    {
     "data": {
      "text/plain": [
       "np.float64(420.3)"
      ]
     },
     "execution_count": 26,
     "metadata": {},
     "output_type": "execute_result"
    }
   ],
   "source": [
    "df['area_mean'].quantile(0.25)"
   ]
  },
  {
   "cell_type": "markdown",
   "metadata": {
    "id": "gQjxQBf2CBGf"
   },
   "source": [
    "Q3 ค่า 3rd Quartile หรือบางครั้งเรียกว่า\n",
    "Percentile ที่ 75 ให้ลองจินตนาการ ว่านำข้อมูล 100 ข้อมูล มาเรียงกันจากน้อยไปมาก ค่านี้เป็นลำดับที่ 75 ข้อมูลที่มีค่า ต่ำกว่าค่านี้จะมีจำนวน ¾ หรือ 75 เปอร์เซ็นต์ ส่วนอีก 25 เปอร์เซ็นต์ จะมีค่ามากกว่าค่านี้"
   ]
  },
  {
   "cell_type": "code",
   "execution_count": 27,
   "metadata": {
    "colab": {
     "base_uri": "https://localhost:8080/"
    },
    "executionInfo": {
     "elapsed": 355,
     "status": "ok",
     "timestamp": 1703579644038,
     "user": {
      "displayName": "Wanthanee Prachuabsupakij",
      "userId": "13160947104043617262"
     },
     "user_tz": -420
    },
    "id": "eiAC4O_yEtXm",
    "outputId": "7dd496bb-345d-43e0-aa5d-68bc0a9d851e"
   },
   "outputs": [
    {
     "data": {
      "text/plain": [
       "np.float64(782.7)"
      ]
     },
     "execution_count": 27,
     "metadata": {},
     "output_type": "execute_result"
    }
   ],
   "source": [
    "df['area_mean'].quantile(0.75)"
   ]
  },
  {
   "cell_type": "markdown",
   "metadata": {
    "id": "OvnuFTWJBfBI"
   },
   "source": [
    "Q1-Q3 ช่วงระหว่าง Q1-Q3 เรียกว่า Inter Quartile (บางทีอาจเขียนว่า Q3- Q1 ก็ได้) จะเห็นความกว้างของ Box (รูปสี่เหลี่ยม) เป็นช่วงที่ทำให้เราเห็นได้ว่าข้อมูล ช่วงกลาง 50 เปอร์เซ็นต์ของข้อมูลทั้งหมด จะอยู่ระหว่างช่วงนี้ ในกรณีที่เราเปรียบเทียบ ข้อมูลหลายชุด เราอาจใช้ช่วง Q1-Q3 นี้เป็นดัชนีชี้วัดความผันแปรของกระบวนการหรือ ผลิตภัณฑ์ได้กล่าวคือ หาก Q1-Q3 มีช่วงที่กว้าง แสดงให้เห็นว่ามีความผันแปรที่สูง\n",
    "\n"
   ]
  },
  {
   "cell_type": "code",
   "execution_count": 28,
   "metadata": {
    "colab": {
     "base_uri": "https://localhost:8080/"
    },
    "executionInfo": {
     "elapsed": 345,
     "status": "ok",
     "timestamp": 1703579659432,
     "user": {
      "displayName": "Wanthanee Prachuabsupakij",
      "userId": "13160947104043617262"
     },
     "user_tz": -420
    },
    "id": "8o4BZY3MEyNs",
    "outputId": "34a6c782-500a-4655-d10b-63f183b60eb8"
   },
   "outputs": [
    {
     "data": {
      "text/plain": [
       "np.float64(362.40000000000003)"
      ]
     },
     "execution_count": 28,
     "metadata": {},
     "output_type": "execute_result"
    }
   ],
   "source": [
    "Q1 = df['area_mean'].quantile(0.25)\n",
    "Q3 = df['area_mean'].quantile(0.75)\n",
    "IQR = Q3-Q1\n",
    "IQR  #"
   ]
  },
  {
   "cell_type": "code",
   "execution_count": 29,
   "metadata": {
    "colab": {
     "base_uri": "https://localhost:8080/"
    },
    "executionInfo": {
     "elapsed": 362,
     "status": "ok",
     "timestamp": 1703579685926,
     "user": {
      "displayName": "Wanthanee Prachuabsupakij",
      "userId": "13160947104043617262"
     },
     "user_tz": -420
    },
    "id": "kWvhH6LQFDek",
    "outputId": "0b6f9ad2-40cc-448f-d18a-a767ed608645"
   },
   "outputs": [
    {
     "data": {
      "text/plain": [
       "np.float64(-123.30000000000001)"
      ]
     },
     "execution_count": 29,
     "metadata": {},
     "output_type": "execute_result"
    }
   ],
   "source": [
    "lower_lim = Q1-1.5*IQR\n",
    "lower_lim\n"
   ]
  },
  {
   "cell_type": "code",
   "execution_count": 30,
   "metadata": {
    "colab": {
     "base_uri": "https://localhost:8080/"
    },
    "executionInfo": {
     "elapsed": 332,
     "status": "ok",
     "timestamp": 1703579709897,
     "user": {
      "displayName": "Wanthanee Prachuabsupakij",
      "userId": "13160947104043617262"
     },
     "user_tz": -420
    },
    "id": "w6gYXnnuJ0ee",
    "outputId": "c8aa30ee-37ca-4b9a-98e9-615a145c2cb0"
   },
   "outputs": [
    {
     "data": {
      "text/plain": [
       "np.float64(1326.3000000000002)"
      ]
     },
     "execution_count": 30,
     "metadata": {},
     "output_type": "execute_result"
    }
   ],
   "source": [
    "upper_lim = Q3+1.5*IQR\n",
    "upper_lim"
   ]
  },
  {
   "cell_type": "code",
   "execution_count": 31,
   "metadata": {
    "colab": {
     "base_uri": "https://localhost:8080/"
    },
    "executionInfo": {
     "elapsed": 335,
     "status": "ok",
     "timestamp": 1703579741498,
     "user": {
      "displayName": "Wanthanee Prachuabsupakij",
      "userId": "13160947104043617262"
     },
     "user_tz": -420
    },
    "id": "75bdK2Il2BeD",
    "outputId": "ebd2f22a-e72f-48dc-ba1f-f1d2f4ed9255"
   },
   "outputs": [
    {
     "data": {
      "text/plain": [
       "0      1001.0\n",
       "1      1326.0\n",
       "2      1203.0\n",
       "3       386.1\n",
       "4      1297.0\n",
       "        ...  \n",
       "564    1479.0\n",
       "565    1261.0\n",
       "566     858.1\n",
       "567    1265.0\n",
       "568     181.0\n",
       "Name: area_mean, Length: 569, dtype: float64"
      ]
     },
     "execution_count": 31,
     "metadata": {},
     "output_type": "execute_result"
    }
   ],
   "source": [
    "df['area_mean']"
   ]
  },
  {
   "cell_type": "code",
   "execution_count": 32,
   "metadata": {
    "executionInfo": {
     "elapsed": 2,
     "status": "ok",
     "timestamp": 1703579761928,
     "user": {
      "displayName": "Wanthanee Prachuabsupakij",
      "userId": "13160947104043617262"
     },
     "user_tz": -420
    },
    "id": "qaQlVSHMFgJt"
   },
   "outputs": [],
   "source": [
    "from scipy.stats.mstats import winsorize"
   ]
  },
  {
   "cell_type": "markdown",
   "metadata": {
    "id": "byInuuPdGu6s"
   },
   "source": [
    "We will create a new variable with Winsorize Method. To implement the Winsorize Method, we write the exact boundary points as a tuple on the percentile. For example, we will write (0.1, 0.1). This means we want to apply quantile(0.1) and quantile(0.90) as a boundary. The first one is the exact point on percentile from the beginning, the second one is exact point on percentile from the end.\n",
    "https://hersanyagci.medium.com/detecting-and-handling-outliers-with-pandas-7adbfcd5cad8"
   ]
  },
  {
   "cell_type": "code",
   "execution_count": 33,
   "metadata": {
    "colab": {
     "base_uri": "https://localhost:8080/"
    },
    "executionInfo": {
     "elapsed": 327,
     "status": "ok",
     "timestamp": 1703579834363,
     "user": {
      "displayName": "Wanthanee Prachuabsupakij",
      "userId": "13160947104043617262"
     },
     "user_tz": -420
    },
    "id": "bqgfynO9Ft3E",
    "outputId": "bf0650a2-2a1b-412c-ecef-9117d5083334"
   },
   "outputs": [
    {
     "data": {
      "text/plain": [
       "masked_array(data=[1001. , 1191. , 1191. ,  386.1, 1191. ,  477.1, 1040. ,\n",
       "                    577.9,  519.8,  475.9,  797.8,  781. , 1123. ,  782.7,\n",
       "                    578.3,  658.8,  684.5,  798.8, 1191. ,  566.3,  520. ,\n",
       "                    321.6,  704.4, 1191. ,  904.6,  912.7,  644.8, 1094. ,\n",
       "                    732.4,  955.1, 1088. ,  440.6,  899.3, 1162. ,  807.2,\n",
       "                    869.5,  633. ,  523.8,  698.8,  559.2,  563. ,  371.1,\n",
       "                   1104. ,  545.2,  531.5, 1076. ,  321.6,  534.6,  449.3,\n",
       "                    561. ,  427.9,  571.8,  437.6, 1033. ,  712.8,  409. ,\n",
       "                   1152. ,  656.9,  527.2,  321.6,  321.6,  321.6,  645.7,\n",
       "                    321.6,  499. ,  668.3,  321.6,  394.1,  321.6,  502.5,\n",
       "                   1130. ,  321.6,  929.4,  584.1,  470.9,  817.7,  559.2,\n",
       "                   1006. , 1191. ,  506.3,  401.5,  520. , 1191. , 1132. ,\n",
       "                    443.3, 1075. ,  648.2, 1076. ,  466.1,  651.9,  662.7,\n",
       "                    728.2,  551.7,  555.1,  705.6, 1191. ,  451.1,  321.6,\n",
       "                    412.6,  642.5,  582.7,  321.6,  458.7,  321.6,  336.1,\n",
       "                    530.2,  412.5,  466.7, 1191. ,  396.5,  321.6,  480.4,\n",
       "                    629.9,  334.2,  321.6,  438.6,  321.6,  682.5,  782.6,\n",
       "                    982. ,  403.3, 1077. , 1191. ,  640.7,  553.5,  588.7,\n",
       "                    572.6, 1138. ,  674.5, 1191. ,  455.8,  748.9,  809.8,\n",
       "                    761.7, 1075. ,  506.3,  423.6,  399.8,  678.1,  384.8,\n",
       "                    321.6,  813. ,  398. ,  512.2,  355.3,  432.8,  432. ,\n",
       "                    689.5,  640.1,  585. ,  519.4,  321.6,  321.6,  381.9,\n",
       "                    538.9,  460.3,  963.7,  880.2,  448.6,  366.8,  419.8,\n",
       "                   1157. , 1191. ,  464.5, 1191. ,  690.2,  357.6,  886.3,\n",
       "                    984.6,  685.9,  464.1,  565.4,  736.9,  372.7,  349.6,\n",
       "                    321.6,  321.6,  832.9,  526.4,  508.8, 1191. , 1191. ,\n",
       "                    766.6,  402. ,  710.6,  321.6, 1041. ,  420.3,  428.9,\n",
       "                    463.7,  609.9,  507.4,  321.6,  477.4,  671.4,  516.4,\n",
       "                    588.9, 1024. , 1148. ,  642.7,  461. ,  951.6, 1191. ,\n",
       "                    597.8,  481.9,  716.6,  321.6,  904.3,  529.4,  725.5,\n",
       "                   1191. ,  428. , 1191. ,  948. ,  610.7,  578.9,  432.2,\n",
       "                    321.6, 1191. , 1191. ,  568.9,  561.3,  321.6,  761.3,\n",
       "                    546.4,  641.2,  329.6,  684.5,  496.4,  503.2,  895. ,\n",
       "                    395.7,  386.8, 1191. ,  321.6,  603.4, 1191. , 1191. ,\n",
       "                    623.9,  920.6,  575.3,  476.5,  389.4,  590. , 1155. ,\n",
       "                    337.7,  541.6,  512.2,  347. ,  406.3, 1191. ,  407.4,\n",
       "                   1191. ,  928.2, 1169. ,  602.4, 1191. ,  713.3,  773.5,\n",
       "                    744.9, 1191. ,  933.1,  947.8,  758.6,  928.3, 1191. ,\n",
       "                    346.4,  561. ,  512.2,  344.9,  632.6,  388. , 1191. ,\n",
       "                    321.6,  998.9,  435.6,  396.6, 1102. ,  572.3,  587.4,\n",
       "                   1138. ,  427.3, 1145. ,  805.1,  516.6,  489. ,  441. ,\n",
       "                    515.9,  394.1,  396. ,  651. ,  687.3,  513.7,  432.7,\n",
       "                    492.1,  582.7,  363.7,  431.1,  633.1,  334.2, 1191. ,\n",
       "                    471.3, 1191. ,  334.3,  403.1,  417.2,  537.3,  321.6,\n",
       "                    566.2,  530.6,  418.7,  664.9,  504.1,  409.1,  321.6,\n",
       "                    481.6,  461.4, 1027. ,  321.6,  477.3,  324.2, 1191. ,\n",
       "                    504.8, 1191. ,  457.9,  489.9,  616.5,  446. ,  813.7,\n",
       "                    826.8,  793.2,  514. ,  387.3,  390. ,  464.4,  918.6,\n",
       "                    514.3, 1092. ,  321.6, 1191. ,  641.2,  321.6,  373.9,\n",
       "                   1191. ,  420.3,  321.6,  445.3,  668.7,  402.7,  426.7,\n",
       "                    421. ,  758.6, 1191. ,  716.6,  384.6,  485.8,  512. ,\n",
       "                    593.7,  321.6,  321.6,  491.9,  546.1,  496.6,  838.1,\n",
       "                    552.4, 1191. , 1191. ,  458.4, 1191. , 1191. ,  840.4,\n",
       "                    711.8, 1191. , 1191. ,  579.1,  788.5,  338.3,  562.1,\n",
       "                    580.6,  361.6,  386.3,  372.7,  447.8,  462.9,  541.8,\n",
       "                    664.7,  462. ,  596.6,  392. , 1174. ,  321.6,  321.6,\n",
       "                    744.7, 1191. ,  446.2,  609.1,  558.1,  508.3,  378.2,\n",
       "                    431.9,  994. ,  442.7,  525.2,  507.6,  469.1,  370. ,\n",
       "                    800. ,  514.5,  991.7,  466.1,  399.8,  373.2,  321.6,\n",
       "                    693.7,  719.5,  433.8,  321.6,  803.1,  495. ,  380.3,\n",
       "                    409.7,  656.1,  408.2,  575.3,  321.6,  321.6,  333.6,\n",
       "                    359.9,  381.1,  501.3,  685. ,  467.8, 1191. , 1110. ,\n",
       "                    673.7,  599.5,  509.2,  611.2,  592.6,  606.5,  371.5,\n",
       "                    928.8,  585.9,  340.9,  990. ,  441.3,  981.6,  674.8,\n",
       "                    659.7, 1191. ,  432. , 1191. ,  442.5,  644.2,  492.9,\n",
       "                    557.2,  415.1,  537.9,  520.2,  321.6,  930.9, 1191. ,\n",
       "                    646.1,  412.7,  537.3,  542.9,  536.9,  321.6,  980.5,\n",
       "                    408.8,  321.6,  449.9,  686.9,  465.4,  358.9,  506.9,\n",
       "                    618.4,  599.4,  404.9,  815.8,  455.3,  602.9,  546.3,\n",
       "                    571.1,  747.2,  476.7,  666. , 1167. ,  420.5,  857.6,\n",
       "                    466.5,  992.1, 1007. ,  477.3,  538.7,  680.9,  485.6,\n",
       "                    480.1, 1068. , 1191. ,  689.4,  595.9,  476.3, 1191. ,\n",
       "                    321.6,  321.6,  453.1,  366.5,  819.8,  731.3,  426. ,\n",
       "                    680.7,  556.7,  658.8,  701.9,  391.2, 1052. , 1191. ,\n",
       "                    493.1,  493.8,  321.6, 1191. ,  388.1,  571. ,  321.6,\n",
       "                    321.6,  551.1,  468.5,  594.2,  445.2,  422.9,  416.2,\n",
       "                    575.5, 1191. ,  365.6, 1191. ,  629.8,  406.4,  321.6,\n",
       "                    321.6,  402.9,  656.4,  668.6,  538.4,  584.8,  573.2,\n",
       "                    324.9,  321.6,  321.6,  361.6,  360.5,  378.4,  507.9,\n",
       "                    321.6,  514.3,  321.6,  321.6,  321.6,  657.1,  403.5,\n",
       "                    600.4,  386. ,  716.9, 1191. , 1191. , 1191. ,  858.1,\n",
       "                   1191. ,  321.6],\n",
       "             mask=False,\n",
       "       fill_value=1e+20)"
      ]
     },
     "execution_count": 33,
     "metadata": {},
     "output_type": "execute_result"
    }
   ],
   "source": [
    "df_area_mean_win = winsorize(df['area_mean'],(0.1, 0.1))\n",
    "df_area_mean_win"
   ]
  },
  {
   "cell_type": "code",
   "execution_count": 34,
   "metadata": {
    "colab": {
     "base_uri": "https://localhost:8080/"
    },
    "executionInfo": {
     "elapsed": 2,
     "status": "ok",
     "timestamp": 1703579860099,
     "user": {
      "displayName": "Wanthanee Prachuabsupakij",
      "userId": "13160947104043617262"
     },
     "user_tz": -420
    },
    "id": "VQjRFZHoCqel",
    "outputId": "67b1c4f1-b273-41a9-9e6a-2f6e28292577"
   },
   "outputs": [
    {
     "data": {
      "text/plain": [
       "569"
      ]
     },
     "execution_count": 34,
     "metadata": {},
     "output_type": "execute_result"
    }
   ],
   "source": [
    "df_area_mean_win.count()"
   ]
  },
  {
   "cell_type": "code",
   "execution_count": 35,
   "metadata": {
    "colab": {
     "base_uri": "https://localhost:8080/",
     "height": 447
    },
    "executionInfo": {
     "elapsed": 343,
     "status": "ok",
     "timestamp": 1703579866651,
     "user": {
      "displayName": "Wanthanee Prachuabsupakij",
      "userId": "13160947104043617262"
     },
     "user_tz": -420
    },
    "id": "43KV5PzeGz1E",
    "outputId": "3c1014c9-0358-4382-d2f1-05f26f1f4472"
   },
   "outputs": [
    {
     "data": {
      "text/plain": [
       "<Axes: >"
      ]
     },
     "execution_count": 35,
     "metadata": {},
     "output_type": "execute_result"
    },
    {
     "data": {
      "image/png": "[encoded data removed]",
      "text/plain": [
       "<Figure size 640x480 with 1 Axes>"
      ]
     },
     "metadata": {},
     "output_type": "display_data"
    }
   ],
   "source": [
    "sns.boxplot(x=df_area_mean_win)"
   ]
  },
  {
   "cell_type": "markdown",
   "metadata": {
    "id": "Oc5mTP5wDFX8"
   },
   "source": [
    "# Discretization\n",
    "\n",
    "การแบ่งข้อมูลเป็นช่วง\n",
    "\n",
    "ตัวอย่างจาก\n",
    "https://androidkt.com/discretization-binning-and-count-in-column-with-pandas/\n",
    "\n",
    "\n",
    "Discretization, Binning, and Count in Column with Pandas."
   ]
  },
  {
   "cell_type": "code",
   "execution_count": 36,
   "metadata": {
    "colab": {
     "base_uri": "https://localhost:8080/",
     "height": 300
    },
    "executionInfo": {
     "elapsed": 1333,
     "status": "ok",
     "timestamp": 1703579922048,
     "user": {
      "displayName": "Wanthanee Prachuabsupakij",
      "userId": "13160947104043617262"
     },
     "user_tz": -420
    },
    "id": "pnIMEduKEgXg",
    "outputId": "32898a50-174d-4f98-d52c-dea4af936db0"
   },
   "outputs": [
    {
     "data": {
      "text/html": [
       "<div>\n",
       "<style scoped>\n",
       "    .dataframe tbody tr th:only-of-type {\n",
       "        vertical-align: middle;\n",
       "    }\n",
       "\n",
       "    .dataframe tbody tr th {\n",
       "        vertical-align: top;\n",
       "    }\n",
       "\n",
       "    .dataframe thead th {\n",
       "        text-align: right;\n",
       "    }\n",
       "</style>\n",
       "<table border=\"1\" class=\"dataframe\">\n",
       "  <thead>\n",
       "    <tr style=\"text-align: right;\">\n",
       "      <th></th>\n",
       "      <th>age</th>\n",
       "      <th>sex</th>\n",
       "      <th>type</th>\n",
       "    </tr>\n",
       "  </thead>\n",
       "  <tbody>\n",
       "    <tr>\n",
       "      <th>0</th>\n",
       "      <td>5</td>\n",
       "      <td>M</td>\n",
       "      <td>verygood</td>\n",
       "    </tr>\n",
       "    <tr>\n",
       "      <th>1</th>\n",
       "      <td>20</td>\n",
       "      <td>F</td>\n",
       "      <td>excellent</td>\n",
       "    </tr>\n",
       "    <tr>\n",
       "      <th>2</th>\n",
       "      <td>30</td>\n",
       "      <td>F</td>\n",
       "      <td>good</td>\n",
       "    </tr>\n",
       "    <tr>\n",
       "      <th>3</th>\n",
       "      <td>16</td>\n",
       "      <td>M</td>\n",
       "      <td>average</td>\n",
       "    </tr>\n",
       "    <tr>\n",
       "      <th>4</th>\n",
       "      <td>70</td>\n",
       "      <td>M</td>\n",
       "      <td>good</td>\n",
       "    </tr>\n",
       "    <tr>\n",
       "      <th>5</th>\n",
       "      <td>25</td>\n",
       "      <td>M</td>\n",
       "      <td>verygood</td>\n",
       "    </tr>\n",
       "    <tr>\n",
       "      <th>6</th>\n",
       "      <td>55</td>\n",
       "      <td>F</td>\n",
       "      <td>verygood</td>\n",
       "    </tr>\n",
       "    <tr>\n",
       "      <th>7</th>\n",
       "      <td>36</td>\n",
       "      <td>M</td>\n",
       "      <td>excellent</td>\n",
       "    </tr>\n",
       "  </tbody>\n",
       "</table>\n",
       "</div>"
      ],
      "text/plain": [
       "   age sex       type\n",
       "0    5   M   verygood\n",
       "1   20   F  excellent\n",
       "2   30   F       good\n",
       "3   16   M    average\n",
       "4   70   M       good\n",
       "5   25   M   verygood\n",
       "6   55   F   verygood\n",
       "7   36   M  excellent"
      ]
     },
     "execution_count": 36,
     "metadata": {},
     "output_type": "execute_result"
    }
   ],
   "source": [
    "customer = [[5, 'M', 'verygood'],\n",
    "           [20, 'F', 'excellent'],\n",
    "           [30, 'F','good'],\n",
    "           [16, 'M', 'average'],\n",
    "           [70, 'M', 'good'],\n",
    "           [25, 'M', 'verygood'],\n",
    "           [55, 'F', 'verygood'],\n",
    "           [36, 'M', 'excellent']]\n",
    "\n",
    "df = pd.DataFrame(customer)\n",
    "df.columns = ['age','sex','type']\n",
    "df\n"
   ]
  },
  {
   "cell_type": "markdown",
   "metadata": {
    "id": "C1-pemoyQTVq"
   },
   "source": [
    "# Equal_width"
   ]
  },
  {
   "cell_type": "code",
   "execution_count": 37,
   "metadata": {
    "colab": {
     "base_uri": "https://localhost:8080/",
     "height": 300
    },
    "executionInfo": {
     "elapsed": 374,
     "status": "ok",
     "timestamp": 1703579964087,
     "user": {
      "displayName": "Wanthanee Prachuabsupakij",
      "userId": "13160947104043617262"
     },
     "user_tz": -420
    },
    "id": "Bwqn_f0-Oi2_",
    "outputId": "d7d7b299-bbf9-460b-8bb6-7b6affb8372e"
   },
   "outputs": [
    {
     "data": {
      "text/html": [
       "<div>\n",
       "<style scoped>\n",
       "    .dataframe tbody tr th:only-of-type {\n",
       "        vertical-align: middle;\n",
       "    }\n",
       "\n",
       "    .dataframe tbody tr th {\n",
       "        vertical-align: top;\n",
       "    }\n",
       "\n",
       "    .dataframe thead th {\n",
       "        text-align: right;\n",
       "    }\n",
       "</style>\n",
       "<table border=\"1\" class=\"dataframe\">\n",
       "  <thead>\n",
       "    <tr style=\"text-align: right;\">\n",
       "      <th></th>\n",
       "      <th>age</th>\n",
       "      <th>sex</th>\n",
       "      <th>type</th>\n",
       "      <th>binned</th>\n",
       "    </tr>\n",
       "  </thead>\n",
       "  <tbody>\n",
       "    <tr>\n",
       "      <th>0</th>\n",
       "      <td>5</td>\n",
       "      <td>M</td>\n",
       "      <td>verygood</td>\n",
       "      <td>(0, 14]</td>\n",
       "    </tr>\n",
       "    <tr>\n",
       "      <th>1</th>\n",
       "      <td>20</td>\n",
       "      <td>F</td>\n",
       "      <td>excellent</td>\n",
       "      <td>(14, 24]</td>\n",
       "    </tr>\n",
       "    <tr>\n",
       "      <th>2</th>\n",
       "      <td>30</td>\n",
       "      <td>F</td>\n",
       "      <td>good</td>\n",
       "      <td>(24, 64]</td>\n",
       "    </tr>\n",
       "    <tr>\n",
       "      <th>3</th>\n",
       "      <td>16</td>\n",
       "      <td>M</td>\n",
       "      <td>average</td>\n",
       "      <td>(14, 24]</td>\n",
       "    </tr>\n",
       "    <tr>\n",
       "      <th>4</th>\n",
       "      <td>70</td>\n",
       "      <td>M</td>\n",
       "      <td>good</td>\n",
       "      <td>(64, 100]</td>\n",
       "    </tr>\n",
       "    <tr>\n",
       "      <th>5</th>\n",
       "      <td>25</td>\n",
       "      <td>M</td>\n",
       "      <td>verygood</td>\n",
       "      <td>(24, 64]</td>\n",
       "    </tr>\n",
       "    <tr>\n",
       "      <th>6</th>\n",
       "      <td>55</td>\n",
       "      <td>F</td>\n",
       "      <td>verygood</td>\n",
       "      <td>(24, 64]</td>\n",
       "    </tr>\n",
       "    <tr>\n",
       "      <th>7</th>\n",
       "      <td>36</td>\n",
       "      <td>M</td>\n",
       "      <td>excellent</td>\n",
       "      <td>(24, 64]</td>\n",
       "    </tr>\n",
       "  </tbody>\n",
       "</table>\n",
       "</div>"
      ],
      "text/plain": [
       "   age sex       type     binned\n",
       "0    5   M   verygood    (0, 14]\n",
       "1   20   F  excellent   (14, 24]\n",
       "2   30   F       good   (24, 64]\n",
       "3   16   M    average   (14, 24]\n",
       "4   70   M       good  (64, 100]\n",
       "5   25   M   verygood   (24, 64]\n",
       "6   55   F   verygood   (24, 64]\n",
       "7   36   M  excellent   (24, 64]"
      ]
     },
     "execution_count": 37,
     "metadata": {},
     "output_type": "execute_result"
    }
   ],
   "source": [
    "df['binned']=pd.cut(x=df['age'], bins=[0,14,24,64,100])\n",
    "df"
   ]
  },
  {
   "cell_type": "code",
   "execution_count": 38,
   "metadata": {
    "colab": {
     "base_uri": "https://localhost:8080/",
     "height": 300
    },
    "executionInfo": {
     "elapsed": 324,
     "status": "ok",
     "timestamp": 1703580027144,
     "user": {
      "displayName": "Wanthanee Prachuabsupakij",
      "userId": "13160947104043617262"
     },
     "user_tz": -420
    },
    "id": "C0cwOnHgNYyP",
    "outputId": "ad556dee-0a7d-4f18-9707-8e0bb75332d9"
   },
   "outputs": [
    {
     "data": {
      "text/html": [
       "<div>\n",
       "<style scoped>\n",
       "    .dataframe tbody tr th:only-of-type {\n",
       "        vertical-align: middle;\n",
       "    }\n",
       "\n",
       "    .dataframe tbody tr th {\n",
       "        vertical-align: top;\n",
       "    }\n",
       "\n",
       "    .dataframe thead th {\n",
       "        text-align: right;\n",
       "    }\n",
       "</style>\n",
       "<table border=\"1\" class=\"dataframe\">\n",
       "  <thead>\n",
       "    <tr style=\"text-align: right;\">\n",
       "      <th></th>\n",
       "      <th>age</th>\n",
       "      <th>sex</th>\n",
       "      <th>type</th>\n",
       "      <th>binned</th>\n",
       "      <th>category</th>\n",
       "    </tr>\n",
       "  </thead>\n",
       "  <tbody>\n",
       "    <tr>\n",
       "      <th>0</th>\n",
       "      <td>5</td>\n",
       "      <td>M</td>\n",
       "      <td>verygood</td>\n",
       "      <td>(0, 14]</td>\n",
       "      <td>Child</td>\n",
       "    </tr>\n",
       "    <tr>\n",
       "      <th>1</th>\n",
       "      <td>20</td>\n",
       "      <td>F</td>\n",
       "      <td>excellent</td>\n",
       "      <td>(14, 24]</td>\n",
       "      <td>Young</td>\n",
       "    </tr>\n",
       "    <tr>\n",
       "      <th>2</th>\n",
       "      <td>30</td>\n",
       "      <td>F</td>\n",
       "      <td>good</td>\n",
       "      <td>(24, 64]</td>\n",
       "      <td>Adults</td>\n",
       "    </tr>\n",
       "    <tr>\n",
       "      <th>3</th>\n",
       "      <td>16</td>\n",
       "      <td>M</td>\n",
       "      <td>average</td>\n",
       "      <td>(14, 24]</td>\n",
       "      <td>Young</td>\n",
       "    </tr>\n",
       "    <tr>\n",
       "      <th>4</th>\n",
       "      <td>70</td>\n",
       "      <td>M</td>\n",
       "      <td>good</td>\n",
       "      <td>(64, 100]</td>\n",
       "      <td>Senior</td>\n",
       "    </tr>\n",
       "    <tr>\n",
       "      <th>5</th>\n",
       "      <td>25</td>\n",
       "      <td>M</td>\n",
       "      <td>verygood</td>\n",
       "      <td>(24, 64]</td>\n",
       "      <td>Adults</td>\n",
       "    </tr>\n",
       "    <tr>\n",
       "      <th>6</th>\n",
       "      <td>55</td>\n",
       "      <td>F</td>\n",
       "      <td>verygood</td>\n",
       "      <td>(24, 64]</td>\n",
       "      <td>Adults</td>\n",
       "    </tr>\n",
       "    <tr>\n",
       "      <th>7</th>\n",
       "      <td>36</td>\n",
       "      <td>M</td>\n",
       "      <td>excellent</td>\n",
       "      <td>(24, 64]</td>\n",
       "      <td>Adults</td>\n",
       "    </tr>\n",
       "  </tbody>\n",
       "</table>\n",
       "</div>"
      ],
      "text/plain": [
       "   age sex       type     binned category\n",
       "0    5   M   verygood    (0, 14]    Child\n",
       "1   20   F  excellent   (14, 24]    Young\n",
       "2   30   F       good   (24, 64]   Adults\n",
       "3   16   M    average   (14, 24]    Young\n",
       "4   70   M       good  (64, 100]   Senior\n",
       "5   25   M   verygood   (24, 64]   Adults\n",
       "6   55   F   verygood   (24, 64]   Adults\n",
       "7   36   M  excellent   (24, 64]   Adults"
      ]
     },
     "execution_count": 38,
     "metadata": {},
     "output_type": "execute_result"
    }
   ],
   "source": [
    "category = ['Child', 'Young', 'Adults', 'Senior']\n",
    "\n",
    "df['category']=pd.cut(x=df['age'], bins=[0,14,24,64,100],labels=category)\n",
    "df"
   ]
  },
  {
   "cell_type": "markdown",
   "metadata": {
    "id": "ipIk-qizQaHZ"
   },
   "source": [
    "# Equal_Frequency"
   ]
  },
  {
   "cell_type": "code",
   "execution_count": 39,
   "metadata": {
    "colab": {
     "base_uri": "https://localhost:8080/",
     "height": 300
    },
    "executionInfo": {
     "elapsed": 349,
     "status": "ok",
     "timestamp": 1703580080514,
     "user": {
      "displayName": "Wanthanee Prachuabsupakij",
      "userId": "13160947104043617262"
     },
     "user_tz": -420
    },
    "id": "PS2cThByPa7b",
    "outputId": "dd9b3694-4187-408e-d0c5-2cf510ad21e8"
   },
   "outputs": [
    {
     "data": {
      "text/html": [
       "<div>\n",
       "<style scoped>\n",
       "    .dataframe tbody tr th:only-of-type {\n",
       "        vertical-align: middle;\n",
       "    }\n",
       "\n",
       "    .dataframe tbody tr th {\n",
       "        vertical-align: top;\n",
       "    }\n",
       "\n",
       "    .dataframe thead th {\n",
       "        text-align: right;\n",
       "    }\n",
       "</style>\n",
       "<table border=\"1\" class=\"dataframe\">\n",
       "  <thead>\n",
       "    <tr style=\"text-align: right;\">\n",
       "      <th></th>\n",
       "      <th>age</th>\n",
       "      <th>sex</th>\n",
       "      <th>type</th>\n",
       "      <th>binned</th>\n",
       "      <th>category</th>\n",
       "      <th>bin_freq</th>\n",
       "    </tr>\n",
       "  </thead>\n",
       "  <tbody>\n",
       "    <tr>\n",
       "      <th>0</th>\n",
       "      <td>5</td>\n",
       "      <td>M</td>\n",
       "      <td>verygood</td>\n",
       "      <td>(0, 14]</td>\n",
       "      <td>Child</td>\n",
       "      <td>(4.935, 26.667]</td>\n",
       "    </tr>\n",
       "    <tr>\n",
       "      <th>1</th>\n",
       "      <td>20</td>\n",
       "      <td>F</td>\n",
       "      <td>excellent</td>\n",
       "      <td>(14, 24]</td>\n",
       "      <td>Young</td>\n",
       "      <td>(4.935, 26.667]</td>\n",
       "    </tr>\n",
       "    <tr>\n",
       "      <th>2</th>\n",
       "      <td>30</td>\n",
       "      <td>F</td>\n",
       "      <td>good</td>\n",
       "      <td>(24, 64]</td>\n",
       "      <td>Adults</td>\n",
       "      <td>(26.667, 48.333]</td>\n",
       "    </tr>\n",
       "    <tr>\n",
       "      <th>3</th>\n",
       "      <td>16</td>\n",
       "      <td>M</td>\n",
       "      <td>average</td>\n",
       "      <td>(14, 24]</td>\n",
       "      <td>Young</td>\n",
       "      <td>(4.935, 26.667]</td>\n",
       "    </tr>\n",
       "    <tr>\n",
       "      <th>4</th>\n",
       "      <td>70</td>\n",
       "      <td>M</td>\n",
       "      <td>good</td>\n",
       "      <td>(64, 100]</td>\n",
       "      <td>Senior</td>\n",
       "      <td>(48.333, 70.0]</td>\n",
       "    </tr>\n",
       "    <tr>\n",
       "      <th>5</th>\n",
       "      <td>25</td>\n",
       "      <td>M</td>\n",
       "      <td>verygood</td>\n",
       "      <td>(24, 64]</td>\n",
       "      <td>Adults</td>\n",
       "      <td>(4.935, 26.667]</td>\n",
       "    </tr>\n",
       "    <tr>\n",
       "      <th>6</th>\n",
       "      <td>55</td>\n",
       "      <td>F</td>\n",
       "      <td>verygood</td>\n",
       "      <td>(24, 64]</td>\n",
       "      <td>Adults</td>\n",
       "      <td>(48.333, 70.0]</td>\n",
       "    </tr>\n",
       "    <tr>\n",
       "      <th>7</th>\n",
       "      <td>36</td>\n",
       "      <td>M</td>\n",
       "      <td>excellent</td>\n",
       "      <td>(24, 64]</td>\n",
       "      <td>Adults</td>\n",
       "      <td>(26.667, 48.333]</td>\n",
       "    </tr>\n",
       "  </tbody>\n",
       "</table>\n",
       "</div>"
      ],
      "text/plain": [
       "   age sex       type     binned category          bin_freq\n",
       "0    5   M   verygood    (0, 14]    Child   (4.935, 26.667]\n",
       "1   20   F  excellent   (14, 24]    Young   (4.935, 26.667]\n",
       "2   30   F       good   (24, 64]   Adults  (26.667, 48.333]\n",
       "3   16   M    average   (14, 24]    Young   (4.935, 26.667]\n",
       "4   70   M       good  (64, 100]   Senior    (48.333, 70.0]\n",
       "5   25   M   verygood   (24, 64]   Adults   (4.935, 26.667]\n",
       "6   55   F   verygood   (24, 64]   Adults    (48.333, 70.0]\n",
       "7   36   M  excellent   (24, 64]   Adults  (26.667, 48.333]"
      ]
     },
     "execution_count": 39,
     "metadata": {},
     "output_type": "execute_result"
    }
   ],
   "source": [
    "df['bin_freq']=pd.cut(df['age'], 3) #number of bins\n",
    "df\n"
   ]
  },
  {
   "cell_type": "markdown",
   "metadata": {
    "id": "In4Ql274PSTT"
   },
   "source": [
    "Note that pd.value_counts(bins) are the bin counts for the result of pandas.cut ."
   ]
  },
  {
   "cell_type": "code",
   "execution_count": 40,
   "metadata": {
    "colab": {
     "base_uri": "https://localhost:8080/"
    },
    "executionInfo": {
     "elapsed": 333,
     "status": "ok",
     "timestamp": 1703580113578,
     "user": {
      "displayName": "Wanthanee Prachuabsupakij",
      "userId": "13160947104043617262"
     },
     "user_tz": -420
    },
    "id": "7KPWYQcDPNHj",
    "outputId": "72f1a7bd-07c9-489e-ab12-1dd45caced8b"
   },
   "outputs": [
    {
     "name": "stderr",
     "output_type": "stream",
     "text": [
      "C:\\Users\\akikungz\\AppData\\Local\\Temp\\ipykernel_10768\\1047048407.py:1: FutureWarning: pandas.value_counts is deprecated and will be removed in a future version. Use pd.Series(obj).value_counts() instead.\n",
      "  pd.value_counts(df['bin_freq'])\n"
     ]
    },
    {
     "data": {
      "text/plain": [
       "bin_freq\n",
       "(4.935, 26.667]     4\n",
       "(26.667, 48.333]    2\n",
       "(48.333, 70.0]      2\n",
       "Name: count, dtype: int64"
      ]
     },
     "execution_count": 40,
     "metadata": {},
     "output_type": "execute_result"
    }
   ],
   "source": [
    "pd.value_counts(df['bin_freq'])"
   ]
  },
  {
   "cell_type": "markdown",
   "metadata": {
    "id": "KJ667YK3_V40"
   },
   "source": [
    "##แบบฝึกหัด 3\n",
    "\n",
    "นักศึกษานำข้อมูลมาจากชุดข้อมูล ข้างล่าง โดยมีคำสั่งดังนี้\n",
    "1. แบ่งช่วงข้อมูลของ age ด้วยวิธีการ equal_freqency ทั้งหมด 4 ช่วง และใส่ประเภทของช่วงเรียงตามลำดับดังนี้\n",
    "\n",
    "Generation Z','Generation Y', 'Generation X', 'Baby Boomers'\n",
    "\n",
    "2. แบ่งประเภทของข้อมูล  BMI ด้วยวิธีการกำหนดช่วงตามความกว้างที่ต้องการ ดังนี้\n",
    "\n",
    "          If your BMI is less than 18.5, it falls within the underweight range.\n",
    "\n",
    "          If your BMI is 18.5 to <25, it falls within the healthy weight range.\n",
    "\n",
    "          If your BMI is 25.0 to <30, it falls within the overweight range.\n",
    "\n",
    "          If your BMI is 30.0 or higher, it falls within the obesity range.\n"
   ]
  },
  {
   "cell_type": "code",
   "execution_count": 47,
   "metadata": {
    "id": "Ilsq7CU3RgO6"
   },
   "outputs": [
    {
     "data": {
      "text/html": [
       "<div>\n",
       "<style scoped>\n",
       "    .dataframe tbody tr th:only-of-type {\n",
       "        vertical-align: middle;\n",
       "    }\n",
       "\n",
       "    .dataframe tbody tr th {\n",
       "        vertical-align: top;\n",
       "    }\n",
       "\n",
       "    .dataframe thead th {\n",
       "        text-align: right;\n",
       "    }\n",
       "</style>\n",
       "<table border=\"1\" class=\"dataframe\">\n",
       "  <thead>\n",
       "    <tr style=\"text-align: right;\">\n",
       "      <th></th>\n",
       "      <th>age</th>\n",
       "      <th>BMI</th>\n",
       "      <th>generation</th>\n",
       "      <th>BMI-bin</th>\n",
       "    </tr>\n",
       "  </thead>\n",
       "  <tbody>\n",
       "    <tr>\n",
       "      <th>0</th>\n",
       "      <td>41</td>\n",
       "      <td>18.6</td>\n",
       "      <td>gen x</td>\n",
       "      <td>normal</td>\n",
       "    </tr>\n",
       "    <tr>\n",
       "      <th>1</th>\n",
       "      <td>12</td>\n",
       "      <td>25.0</td>\n",
       "      <td>gen z</td>\n",
       "      <td>overweight</td>\n",
       "    </tr>\n",
       "    <tr>\n",
       "      <th>2</th>\n",
       "      <td>78</td>\n",
       "      <td>32.0</td>\n",
       "      <td>baby boomers</td>\n",
       "      <td>obese</td>\n",
       "    </tr>\n",
       "    <tr>\n",
       "      <th>3</th>\n",
       "      <td>67</td>\n",
       "      <td>19.0</td>\n",
       "      <td>baby boomers</td>\n",
       "      <td>normal</td>\n",
       "    </tr>\n",
       "    <tr>\n",
       "      <th>4</th>\n",
       "      <td>64</td>\n",
       "      <td>15.0</td>\n",
       "      <td>baby boomers</td>\n",
       "      <td>underweight</td>\n",
       "    </tr>\n",
       "    <tr>\n",
       "      <th>5</th>\n",
       "      <td>24</td>\n",
       "      <td>21.0</td>\n",
       "      <td>gen z</td>\n",
       "      <td>normal</td>\n",
       "    </tr>\n",
       "    <tr>\n",
       "      <th>6</th>\n",
       "      <td>25</td>\n",
       "      <td>25.0</td>\n",
       "      <td>gen y</td>\n",
       "      <td>overweight</td>\n",
       "    </tr>\n",
       "    <tr>\n",
       "      <th>7</th>\n",
       "      <td>45</td>\n",
       "      <td>31.0</td>\n",
       "      <td>gen x</td>\n",
       "      <td>obese</td>\n",
       "    </tr>\n",
       "    <tr>\n",
       "      <th>8</th>\n",
       "      <td>30</td>\n",
       "      <td>30.0</td>\n",
       "      <td>gen y</td>\n",
       "      <td>obese</td>\n",
       "    </tr>\n",
       "    <tr>\n",
       "      <th>9</th>\n",
       "      <td>24</td>\n",
       "      <td>25.0</td>\n",
       "      <td>gen z</td>\n",
       "      <td>overweight</td>\n",
       "    </tr>\n",
       "    <tr>\n",
       "      <th>10</th>\n",
       "      <td>34</td>\n",
       "      <td>24.0</td>\n",
       "      <td>gen y</td>\n",
       "      <td>normal</td>\n",
       "    </tr>\n",
       "    <tr>\n",
       "      <th>11</th>\n",
       "      <td>29</td>\n",
       "      <td>36.0</td>\n",
       "      <td>gen y</td>\n",
       "      <td>obese</td>\n",
       "    </tr>\n",
       "    <tr>\n",
       "      <th>12</th>\n",
       "      <td>20</td>\n",
       "      <td>20.0</td>\n",
       "      <td>gen z</td>\n",
       "      <td>normal</td>\n",
       "    </tr>\n",
       "    <tr>\n",
       "      <th>13</th>\n",
       "      <td>7</td>\n",
       "      <td>27.0</td>\n",
       "      <td>gen z</td>\n",
       "      <td>overweight</td>\n",
       "    </tr>\n",
       "    <tr>\n",
       "      <th>14</th>\n",
       "      <td>10</td>\n",
       "      <td>28.0</td>\n",
       "      <td>gen z</td>\n",
       "      <td>overweight</td>\n",
       "    </tr>\n",
       "    <tr>\n",
       "      <th>15</th>\n",
       "      <td>31</td>\n",
       "      <td>31.0</td>\n",
       "      <td>gen y</td>\n",
       "      <td>obese</td>\n",
       "    </tr>\n",
       "    <tr>\n",
       "      <th>16</th>\n",
       "      <td>40</td>\n",
       "      <td>16.0</td>\n",
       "      <td>gen x</td>\n",
       "      <td>underweight</td>\n",
       "    </tr>\n",
       "    <tr>\n",
       "      <th>17</th>\n",
       "      <td>65</td>\n",
       "      <td>37.0</td>\n",
       "      <td>baby boomers</td>\n",
       "      <td>obese</td>\n",
       "    </tr>\n",
       "  </tbody>\n",
       "</table>\n",
       "</div>"
      ],
      "text/plain": [
       "    age   BMI    generation      BMI-bin\n",
       "0    41  18.6         gen x       normal\n",
       "1    12  25.0         gen z   overweight\n",
       "2    78  32.0  baby boomers        obese\n",
       "3    67  19.0  baby boomers       normal\n",
       "4    64  15.0  baby boomers  underweight\n",
       "5    24  21.0         gen z       normal\n",
       "6    25  25.0         gen y   overweight\n",
       "7    45  31.0         gen x        obese\n",
       "8    30  30.0         gen y        obese\n",
       "9    24  25.0         gen z   overweight\n",
       "10   34  24.0         gen y       normal\n",
       "11   29  36.0         gen y        obese\n",
       "12   20  20.0         gen z       normal\n",
       "13    7  27.0         gen z   overweight\n",
       "14   10  28.0         gen z   overweight\n",
       "15   31  31.0         gen y        obese\n",
       "16   40  16.0         gen x  underweight\n",
       "17   65  37.0  baby boomers        obese"
      ]
     },
     "execution_count": 47,
     "metadata": {},
     "output_type": "execute_result"
    }
   ],
   "source": [
    "d = {'age': [41,12,78,67,64,24,25,45, 30,24,34,29, 20,7,10,31, 40, 65],\n",
    "'BMI': [18.6,25,32,19,15,21,25,31, 30,25,24,36, 20,27,28,31, 16, 37]}\n",
    "\n",
    "df = pd.DataFrame(d)\n",
    "#.......เขียน code ตรงนี้จ้า\n",
    "\n",
    "# age generation gen z, gen y, gen x, baby boomers as generation\n",
    "df['generation']=pd.cut(x=df['age'], bins=[0,24,39,54,100],labels=['gen z', 'gen y', 'gen x', 'baby boomers'])\n",
    "\n",
    "# BMI bin underweight, normal, overweight, obese as BMI-bin\n",
    "df['BMI-bin']=pd.cut(x=df['BMI'], bins=[0,18.5,24.9,29.9,100],labels=['underweight', 'normal', 'overweight', 'obese'])\n",
    "\n",
    "df\n",
    "\n"
   ]
  },
  {
   "cell_type": "markdown",
   "metadata": {
    "id": "IzKio_oJ7oQL"
   },
   "source": [
    "# Let's Go to Exercise Chapter 2 Data_Pre_processing.ipynb"
   ]
  }
 ],
 "metadata": {
  "colab": {
   "collapsed_sections": [
    "o32a6gz1ozzg",
    "yZPkVMEvYn5y"
   ],
   "provenance": [
    {
     "file_id": "1bjkHYM60Mr6-KUjog97j25CXzw2iOgOA",
     "timestamp": 1643157558317
    },
    {
     "file_id": "1ElzA4o2f_md6_7UUfc26R-zDadEtX-8T",
     "timestamp": 1629945980108
    },
    {
     "file_id": "1ElMUz9WY0_HOlfiUOf_g07MozteMslcn",
     "timestamp": 1595476480091
    },
    {
     "file_id": "13mKH8XMQSY_BD6MxP5vYkt3vGwRC9XAL",
     "timestamp": 1595476342478
    }
   ]
  },
  "kernelspec": {
   "display_name": "venv",
   "language": "python",
   "name": "python3"
  },
  "language_info": {
   "codemirror_mode": {
    "name": "ipython",
    "version": 3
   },
   "file_extension": ".py",
   "mimetype": "text/x-python",
   "name": "python",
   "nbconvert_exporter": "python",
   "pygments_lexer": "ipython3",
   "version": "3.12.6"
  }
 },
 "nbformat": 4,
 "nbformat_minor": 0
}
